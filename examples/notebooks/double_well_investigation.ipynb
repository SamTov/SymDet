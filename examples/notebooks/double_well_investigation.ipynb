{
 "cells": [
  {
   "cell_type": "markdown",
   "metadata": {
    "collapsed": true
   },
   "source": [
    "# Double Well Potential Symmetry Visualization"
   ]
  },
  {
   "cell_type": "markdown",
   "metadata": {},
   "source": [
    "In this notebook we will perform symmetry group visualization on some double well potential data.\n",
    "\n",
    "The imports for this one are quite numerous as we are doing the analysis piece by piece. Once there is a bridge between group detection and generator extraction I will add some generalzed methods for doing some of this automatically. Let's quickly mention what we are importing.\n",
    "\n",
    "1. The class for a Double Well Potential. This is just for some test data generation.\n",
    "2. DenseModel is a class written to take care of setting up and deploying a neural network.\n",
    "3. DataCluster is reponsible for taking raw potential data and partitioning it into classes for the classification problems.\n",
    "3. Group detection performs the TSNE reduction and finds our symmetry groups"
   ]
  },
  {
   "cell_type": "markdown",
   "metadata": {},
   "source": [
    "from symdet.test_systems.double_well_potential import DoubleWellPotential\n",
    "from symdet.models.dense_model import DenseModel\n",
    "from symdet.symmetry_groups.data_clustering import DataCluster\n",
    "from symdet.symmetry_groups.group_detection import GroupDetection"
   ]
  },
  {
   "cell_type": "code",
   "execution_count": 1,
   "metadata": {},
   "outputs": [],
   "source": [
    "import symdet"
   ]
  },
  {
   "cell_type": "markdown",
   "metadata": {},
   "source": [
    "###  Preparing data\n",
    "So you want to prepare some simple data from a double well potential so that we can identify some symmetry groups. Luckily, we were prepared for this scenario and wrote a class just for you!"
   ]
  },
  {
   "cell_type": "code",
   "execution_count": 2,
   "metadata": {},
   "outputs": [],
   "source": [
    "double_well_potential = symdet.DoubleWellPotential(a=2.4)"
   ]
  },
  {
   "cell_type": "markdown",
   "metadata": {},
   "source": [
    "As simple as that we have a double well potential. But we can also take a look at it."
   ]
  },
  {
   "cell_type": "code",
   "execution_count": 3,
   "metadata": {},
   "outputs": [
    {
     "data": {
      "image/png": "[encoded data removed]",
      "text/plain": [
       "<Figure size 432x288 with 1 Axes>"
      ]
     },
     "metadata": {
      "needs_background": "light"
     },
     "output_type": "display_data"
    }
   ],
   "source": [
    "double_well_potential.plot_data()"
   ]
  },
  {
   "cell_type": "markdown",
   "metadata": {},
   "source": [
    "### Preparing the classes\n",
    "\n",
    "We now have to cluster the data to set up the machine learning problem for later. We define the clusters using the value range and bin operation. In this case we are binning the data in clusters of [ k/5 -1e-3, k/5 + 1e-3 ] with k in [-5, 5]. We will also visualize the clusters on the original data to aid in understanding how it was chosen."
   ]
  },
  {
   "cell_type": "code",
   "execution_count": 4,
   "metadata": {},
   "outputs": [
    {
     "name": "stdout",
     "output_type": "stream",
     "text": [
      "Loading additional data.\n"
     ]
    }
   ],
   "source": [
    "double_well_potential.build_clusters()"
   ]
  },
  {
   "cell_type": "code",
   "execution_count": 5,
   "metadata": {},
   "outputs": [],
   "source": [
    "#double_well_potential.plot_clusters()"
   ]
  },
  {
   "cell_type": "markdown",
   "metadata": {},
   "source": [
    "### Preparing the model\n",
    "\n",
    "We want to use a deep and wide neural network so as to encode a high dimensional representation. "
   ]
  },
  {
   "cell_type": "code",
   "execution_count": 6,
   "metadata": {},
   "outputs": [],
   "source": [
    "model = symdet.DenseModel(n_layers=7,\n",
    "                          units=80,\n",
    "                          epochs=10,\n",
    "                          batch_size=64,\n",
    "                          lr=0.00025)"
   ]
  },
  {
   "cell_type": "markdown",
   "metadata": {},
   "source": [
    "### Running the analysis\n",
    "\n",
    "The next steps are to define a group detection object with the cluster object we used earlier as well as the model to use in training.\n",
    "\n",
    "We then simply run the symmetry detection and can visualize the symmetry relationship."
   ]
  },
  {
   "cell_type": "code",
   "execution_count": 7,
   "metadata": {
    "scrolled": false
   },
   "outputs": [
    {
     "name": "stdout",
     "output_type": "stream",
     "text": [
      "WARNING:tensorflow:Please add `keras.layers.InputLayer` instead of `keras.Input` to Sequential model. `keras.Input` is intended to be used by Functional model.\n",
      "Model: \"sequential\"\n",
      "_________________________________________________________________\n",
      "Layer (type)                 Output Shape              Param #   \n",
      "=================================================================\n",
      "dense (Dense)                (None, 80)                240       \n",
      "_________________________________________________________________\n",
      "dense_1 (Dense)              (None, 80)                6480      \n",
      "_________________________________________________________________\n",
      "dense_2 (Dense)              (None, 80)                6480      \n",
      "_________________________________________________________________\n",
      "dense_3 (Dense)              (None, 80)                6480      \n",
      "_________________________________________________________________\n",
      "dense_4 (Dense)              (None, 80)                6480      \n",
      "_________________________________________________________________\n",
      "second_last_layer (Dense)    (None, 80)                6480      \n",
      "_________________________________________________________________\n",
      "embedding_layer (Dense)      (None, 80)                6480      \n",
      "_________________________________________________________________\n",
      "softmax_layer (Dense)        (None, 11)                891       \n",
      "=================================================================\n",
      "Total params: 40,011\n",
      "Trainable params: 40,011\n",
      "Non-trainable params: 0\n",
      "_________________________________________________________________\n",
      "None\n",
      "Epoch 1/10\n",
      "86/86 [==============================] - 1s 4ms/step - loss: 2.4446 - acc: 0.1175 - val_loss: 2.3993 - val_acc: 0.1297\n",
      "Epoch 2/10\n",
      "86/86 [==============================] - 0s 2ms/step - loss: 2.3452 - acc: 0.1384 - val_loss: 2.2285 - val_acc: 0.1794\n",
      "Epoch 3/10\n",
      "86/86 [==============================] - 0s 2ms/step - loss: 2.0913 - acc: 0.2262 - val_loss: 1.9104 - val_acc: 0.3027\n",
      "Epoch 4/10\n",
      "86/86 [==============================] - 0s 2ms/step - loss: 1.7567 - acc: 0.3853 - val_loss: 1.5456 - val_acc: 0.4242\n",
      "Epoch 5/10\n",
      "86/86 [==============================] - 0s 2ms/step - loss: 1.4118 - acc: 0.4825 - val_loss: 1.2401 - val_acc: 0.5852\n",
      "Epoch 6/10\n",
      "86/86 [==============================] - 0s 2ms/step - loss: 1.1582 - acc: 0.5882 - val_loss: 1.0429 - val_acc: 0.6355\n",
      "Epoch 7/10\n",
      "86/86 [==============================] - 0s 2ms/step - loss: 0.9785 - acc: 0.6842 - val_loss: 0.8801 - val_acc: 0.7724\n",
      "Epoch 8/10\n",
      "86/86 [==============================] - 0s 2ms/step - loss: 0.8430 - acc: 0.7771 - val_loss: 0.7630 - val_acc: 0.7967\n",
      "Epoch 9/10\n",
      "86/86 [==============================] - 0s 2ms/step - loss: 0.7436 - acc: 0.8171 - val_loss: 0.6706 - val_acc: 0.8891\n",
      "Epoch 10/10\n",
      "86/86 [==============================] - 0s 2ms/step - loss: 0.6568 - acc: 0.8613 - val_loss: 0.5867 - val_acc: 0.9952\n",
      "Epoch 1/10\n",
      "86/86 [==============================] - 0s 3ms/step - loss: 0.5912 - acc: 0.8940 - val_loss: 0.5178 - val_acc: 0.9476\n",
      "Epoch 2/10\n",
      "86/86 [==============================] - 0s 2ms/step - loss: 0.5437 - acc: 0.8791 - val_loss: 0.4817 - val_acc: 0.9964\n",
      "Epoch 3/10\n",
      "86/86 [==============================] - 0s 2ms/step - loss: 0.4616 - acc: 0.9762 - val_loss: 0.4139 - val_acc: 1.0000\n",
      "Epoch 4/10\n",
      "86/86 [==============================] - 0s 2ms/step - loss: 0.4062 - acc: 0.9905 - val_loss: 0.4180 - val_acc: 0.9245\n",
      "Epoch 5/10\n",
      "86/86 [==============================] - 0s 2ms/step - loss: 0.3943 - acc: 0.9596 - val_loss: 0.4318 - val_acc: 0.8655\n",
      "Epoch 6/10\n",
      "86/86 [==============================] - 0s 2ms/step - loss: 0.3662 - acc: 0.9522 - val_loss: 0.3188 - val_acc: 0.9970\n",
      "Epoch 7/10\n",
      "86/86 [==============================] - 0s 2ms/step - loss: 0.2963 - acc: 0.9980 - val_loss: 0.2625 - val_acc: 1.0000\n",
      "Epoch 8/10\n",
      "86/86 [==============================] - 0s 2ms/step - loss: 0.2593 - acc: 0.9982 - val_loss: 0.3383 - val_acc: 0.9952\n",
      "Epoch 9/10\n",
      "86/86 [==============================] - 0s 2ms/step - loss: 0.3452 - acc: 0.9222 - val_loss: 0.2185 - val_acc: 1.0000\n",
      "Epoch 10/10\n",
      "86/86 [==============================] - 0s 2ms/step - loss: 0.2073 - acc: 1.0000 - val_loss: 0.1913 - val_acc: 1.0000\n",
      "Epoch 1/10\n",
      "86/86 [==============================] - 0s 2ms/step - loss: 0.1854 - acc: 1.0000 - val_loss: 0.1699 - val_acc: 1.0000\n",
      "Epoch 2/10\n",
      "86/86 [==============================] - 0s 2ms/step - loss: 0.1690 - acc: 1.0000 - val_loss: 0.1560 - val_acc: 1.0000\n",
      "Epoch 3/10\n",
      "86/86 [==============================] - 0s 2ms/step - loss: 0.1524 - acc: 1.0000 - val_loss: 0.1389 - val_acc: 1.0000\n",
      "Epoch 4/10\n",
      "86/86 [==============================] - 0s 2ms/step - loss: 0.1358 - acc: 1.0000 - val_loss: 0.1254 - val_acc: 1.0000\n",
      "Epoch 5/10\n",
      "86/86 [==============================] - 0s 2ms/step - loss: 0.1244 - acc: 1.0000 - val_loss: 0.1262 - val_acc: 1.0000\n",
      "Epoch 6/10\n",
      "86/86 [==============================] - 0s 2ms/step - loss: 0.1124 - acc: 1.0000 - val_loss: 0.1062 - val_acc: 1.0000\n",
      "Epoch 7/10\n",
      "86/86 [==============================] - 0s 2ms/step - loss: 0.1026 - acc: 1.0000 - val_loss: 0.1108 - val_acc: 1.0000\n",
      "Epoch 8/10\n",
      "86/86 [==============================] - 0s 2ms/step - loss: 0.0975 - acc: 1.0000 - val_loss: 0.0883 - val_acc: 1.0000\n",
      "Epoch 9/10\n",
      "86/86 [==============================] - 0s 2ms/step - loss: 0.0871 - acc: 1.0000 - val_loss: 0.0814 - val_acc: 1.0000\n",
      "Epoch 10/10\n",
      "86/86 [==============================] - 0s 2ms/step - loss: 0.0817 - acc: 1.0000 - val_loss: 0.0779 - val_acc: 1.0000\n",
      "Epoch 1/10\n",
      "86/86 [==============================] - 0s 2ms/step - loss: 0.0761 - acc: 1.0000 - val_loss: 0.0726 - val_acc: 1.0000\n",
      "Epoch 2/10\n",
      "86/86 [==============================] - 0s 2ms/step - loss: 0.0726 - acc: 1.0000 - val_loss: 0.0724 - val_acc: 1.0000\n",
      "Epoch 3/10\n",
      "86/86 [==============================] - 0s 2ms/step - loss: 0.0687 - acc: 1.0000 - val_loss: 0.0656 - val_acc: 1.0000\n",
      "Epoch 4/10\n",
      "86/86 [==============================] - 0s 2ms/step - loss: 0.0646 - acc: 1.0000 - val_loss: 0.0620 - val_acc: 1.0000\n",
      "Epoch 5/10\n",
      "86/86 [==============================] - 0s 2ms/step - loss: 0.0620 - acc: 1.0000 - val_loss: 0.0597 - val_acc: 1.0000\n",
      "Epoch 6/10\n",
      "86/86 [==============================] - 0s 2ms/step - loss: 0.0589 - acc: 1.0000 - val_loss: 0.0575 - val_acc: 1.0000\n",
      "Epoch 7/10\n",
      "86/86 [==============================] - 0s 2ms/step - loss: 0.0568 - acc: 1.0000 - val_loss: 0.0550 - val_acc: 1.0000\n",
      "Epoch 8/10\n",
      "86/86 [==============================] - 0s 2ms/step - loss: 0.0548 - acc: 1.0000 - val_loss: 0.0542 - val_acc: 1.0000\n",
      "Epoch 9/10\n",
      "86/86 [==============================] - 0s 2ms/step - loss: 0.0536 - acc: 1.0000 - val_loss: 0.0519 - val_acc: 1.0000\n",
      "Epoch 10/10\n",
      "86/86 [==============================] - 0s 2ms/step - loss: 0.0518 - acc: 1.0000 - val_loss: 0.0513 - val_acc: 1.0000\n",
      "Epoch 1/10\n",
      "86/86 [==============================] - 0s 2ms/step - loss: 0.0503 - acc: 1.0000 - val_loss: 0.0493 - val_acc: 1.0000\n",
      "Epoch 2/10\n",
      "86/86 [==============================] - 0s 2ms/step - loss: 0.0492 - acc: 1.0000 - val_loss: 0.0480 - val_acc: 1.0000\n",
      "Epoch 3/10\n",
      "86/86 [==============================] - 0s 2ms/step - loss: 0.0480 - acc: 1.0000 - val_loss: 0.0470 - val_acc: 1.0000\n",
      "Epoch 4/10\n",
      "86/86 [==============================] - 0s 2ms/step - loss: 0.0469 - acc: 1.0000 - val_loss: 0.0460 - val_acc: 1.0000\n",
      "Epoch 5/10\n",
      "86/86 [==============================] - 0s 2ms/step - loss: 0.0460 - acc: 1.0000 - val_loss: 0.0452 - val_acc: 1.0000\n",
      "Epoch 6/10\n",
      "86/86 [==============================] - 0s 2ms/step - loss: 0.0451 - acc: 1.0000 - val_loss: 0.0447 - val_acc: 1.0000\n",
      "Epoch 7/10\n",
      "86/86 [==============================] - 0s 2ms/step - loss: 0.0443 - acc: 1.0000 - val_loss: 0.0434 - val_acc: 1.0000\n",
      "Epoch 8/10\n",
      "86/86 [==============================] - 0s 2ms/step - loss: 0.0433 - acc: 1.0000 - val_loss: 0.0427 - val_acc: 1.0000\n",
      "Epoch 9/10\n",
      "86/86 [==============================] - 0s 2ms/step - loss: 0.0425 - acc: 1.0000 - val_loss: 0.0420 - val_acc: 1.0000\n",
      "Epoch 10/10\n",
      "86/86 [==============================] - 0s 2ms/step - loss: 0.0417 - acc: 1.0000 - val_loss: 0.0413 - val_acc: 1.0000\n",
      "WARNING:tensorflow:Please add `keras.layers.InputLayer` instead of `keras.Input` to Sequential model. `keras.Input` is intended to be used by Functional model.\n"
     ]
    },
    {
     "data": {
      "image/png": "[encoded data removed]",
      "text/plain": [
       "<Figure size 432x288 with 2 Axes>"
      ]
     },
     "metadata": {
      "needs_background": "light"
     },
     "output_type": "display_data"
    }
   ],
   "source": [
    "sym_detector = symdet.GroupDetection(model, double_well_potential.clustered_data)\n",
    "point_cloud = sym_detector.run_symmetry_detection(plot=True)"
   ]
  },
  {
   "cell_type": "markdown",
   "metadata": {},
   "source": [
    "So now we can analyze our model! We see for the darker colours that there are always two distinct instances corresponding to the symmetry between these radial values. The duplication of these colours means that this is a symmetry group. The test now is to identify the radial values in these clusters and pass them to the generator extraction methods to characterize them."
   ]
  },
  {
   "cell_type": "code",
   "execution_count": 8,
   "metadata": {},
   "outputs": [
    {
     "data": {
      "text/plain": [
       "dict_keys([0.0, 2.0, 3.0, 4.0, 7.0, 9.0, 10.0])"
      ]
     },
     "execution_count": 8,
     "metadata": {},
     "output_type": "execute_result"
    }
   ],
   "source": [
    "point_cloud.keys()"
   ]
  },
  {
   "cell_type": "markdown",
   "metadata": {},
   "source": [
    "We see that the clustering has worked relatively well. This is where some caution is advised in terms of simply parsing this data along to the generator detection. If you see that one of these groups should likely not be in the set then it should be parsed along to the generator extraction stage. Alternatively, you can use a different approach for identifying the sets in the symmetry representation. In the next update we will parse this data to the generator extraction algorithm in order to get the generators of this detected symmetry group."
   ]
  }
 ],
 "metadata": {
  "kernelspec": {
   "display_name": "Python 3",
   "language": "python",
   "name": "python3"
  },
  "language_info": {
   "codemirror_mode": {
    "name": "ipython",
    "version": 3
   },
   "file_extension": ".py",
   "mimetype": "text/x-python",
   "name": "python",
   "nbconvert_exporter": "python",
   "pygments_lexer": "ipython3",
   "version": "3.8.5"
  }
 },
 "nbformat": 4,
 "nbformat_minor": 1
}
