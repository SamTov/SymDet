{
 "cells": [
  {
   "cell_type": "markdown",
   "metadata": {
    "collapsed": true
   },
   "source": [
    "# Double Well Potential Symmetry Visualization\n",
    "\n",
    "In this notebook we will perform symmetry group visualization on some double well potential data.\n",
    "\n",
    "The imports for this one are quite numerous as we are doing the analysis piece by piece. Once there is a bridge between group detection and generator extraction I will add some generalzed methods for doing some of this automatically. Let's quickly mention what we are importing.\n",
    "\n",
    "1. The class for a Double Well Potential. This is just for some test data generation.\n",
    "2. DenseModel is a class written to take care of setting up and deploying a neural network.\n",
    "3. DataCluster is reponsible for taking raw potential data and partitioning it into classes for the classification problems.\n",
    "3. Group detection performs the TSNE reduction and finds our symmetry groups"
   ]
  },
  {
   "cell_type": "code",
   "execution_count": 1,
   "metadata": {},
   "outputs": [],
   "source": [
    "from symdet.test_systems.double_well_potential import DoubleWellPotential\n",
    "from symdet.models.dense_model import DenseModel\n",
    "from symdet.symmetry_groups.data_clustering import DataCluster\n",
    "from symdet.symmetry_groups.group_detection import GroupDetection"
   ]
  },
  {
   "cell_type": "markdown",
   "metadata": {},
   "source": [
    "###  Preparing data\n",
    "So you want to prepare some simple data from a double well potential so that we can identify some symmetry groups. Luckily, we were prepared for this scenario and wrote a class just for you!"
   ]
  },
  {
   "cell_type": "code",
   "execution_count": 2,
   "metadata": {},
   "outputs": [],
   "source": [
    "double_well_potential = DoubleWellPotential(a=2.4)"
   ]
  },
  {
   "cell_type": "markdown",
   "metadata": {},
   "source": [
    "As simple as that we have a double well potential. But we can also take a look at it."
   ]
  },
  {
   "cell_type": "code",
   "execution_count": 3,
   "metadata": {},
   "outputs": [
    {
     "data": {
      "image/png": "[encoded data removed]",
      "text/plain": [
       "<Figure size 432x288 with 1 Axes>"
      ]
     },
     "metadata": {
      "needs_background": "light"
     },
     "output_type": "display_data"
    }
   ],
   "source": [
    "double_well_potential.plot_potential()"
   ]
  },
  {
   "cell_type": "markdown",
   "metadata": {},
   "source": [
    "### Preparing the classes\n",
    "\n",
    "We now have to cluster the data to set up the machine learning problem for later. We define the clusters using the value range and bin operation. In this case we are binning the data in clusters of [ k/5 -1e-3, k/5 + 1e-3 ] with k in [-5, 5]"
   ]
  },
  {
   "cell_type": "code",
   "execution_count": 4,
   "metadata": {},
   "outputs": [],
   "source": [
    "clustering = DataCluster(double_well_potential.get_function_values())\n",
    "training_data = clustering.range_binning(value_range=[-5, 5],\n",
    "                                         bin_operation=[1 / 5, 1e-3],\n",
    "                                         representatives=1000,\n",
    "                                         plot=False)"
   ]
  },
  {
   "cell_type": "markdown",
   "metadata": {},
   "source": [
    "### Preparing the model\n",
    "\n",
    "We want to use a deep and wide neural network so as to encode a high dimensional representation. "
   ]
  },
  {
   "cell_type": "code",
   "execution_count": 5,
   "metadata": {},
   "outputs": [],
   "source": [
    "model = DenseModel(training_data,\n",
    "                   n_layers=7,\n",
    "                   units=80,\n",
    "                   epochs=10,\n",
    "                   batch_size=64,\n",
    "                   lr=0.00025)"
   ]
  },
  {
   "cell_type": "markdown",
   "metadata": {},
   "source": [
    "### Running the analysis\n",
    "\n",
    "The next steps are to define a group detection object with the cluster object we used earlier as well as the model to use in training.\n",
    "\n",
    "We then simply run the symmetry detection and can visualize the symmetry relationship."
   ]
  },
  {
   "cell_type": "code",
   "execution_count": 6,
   "metadata": {},
   "outputs": [
    {
     "name": "stdout",
     "output_type": "stream",
     "text": [
      "Model: \"sequential\"\n",
      "_________________________________________________________________\n",
      "Layer (type)                 Output Shape              Param #   \n",
      "=================================================================\n",
      "dense (Dense)                (None, 80)                160       \n",
      "_________________________________________________________________\n",
      "dense_1 (Dense)              (None, 80)                6480      \n",
      "_________________________________________________________________\n",
      "dense_2 (Dense)              (None, 80)                6480      \n",
      "_________________________________________________________________\n",
      "dense_3 (Dense)              (None, 80)                6480      \n",
      "_________________________________________________________________\n",
      "dense_4 (Dense)              (None, 80)                6480      \n",
      "_________________________________________________________________\n",
      "second_last_layer (Dense)    (None, 80)                6480      \n",
      "_________________________________________________________________\n",
      "embedding_layer (Dense)      (None, 80)                6480      \n",
      "_________________________________________________________________\n",
      "softmax_layer (Dense)        (None, 11)                891       \n",
      "=================================================================\n",
      "Total params: 39,931\n",
      "Trainable params: 39,931\n",
      "Non-trainable params: 0\n",
      "_________________________________________________________________\n",
      "None\n",
      "Epoch 1/10\n",
      "86/86 [==============================] - 1s 8ms/step - loss: 2.4642 - acc: 0.1069 - val_loss: 2.4167 - val_acc: 0.1591\n",
      "Epoch 2/10\n",
      "86/86 [==============================] - 0s 2ms/step - loss: 2.3959 - acc: 0.1648 - val_loss: 2.2953 - val_acc: 0.1591\n",
      "Epoch 3/10\n",
      "86/86 [==============================] - 0s 2ms/step - loss: 2.2134 - acc: 0.1710 - val_loss: 1.9173 - val_acc: 0.3045\n",
      "Epoch 4/10\n",
      "86/86 [==============================] - 0s 3ms/step - loss: 1.8090 - acc: 0.3310 - val_loss: 1.6030 - val_acc: 0.4364\n",
      "Epoch 5/10\n",
      "86/86 [==============================] - 0s 2ms/step - loss: 1.5217 - acc: 0.4689 - val_loss: 1.3254 - val_acc: 0.5242\n",
      "Epoch 6/10\n",
      "86/86 [==============================] - 0s 2ms/step - loss: 1.2553 - acc: 0.5705 - val_loss: 1.0776 - val_acc: 0.8076\n",
      "Epoch 7/10\n",
      "86/86 [==============================] - 0s 2ms/step - loss: 1.0312 - acc: 0.6951 - val_loss: 0.9268 - val_acc: 0.7739\n",
      "Epoch 8/10\n",
      "86/86 [==============================] - 0s 3ms/step - loss: 0.8568 - acc: 0.7602 - val_loss: 0.7941 - val_acc: 0.6379\n",
      "Epoch 9/10\n",
      "86/86 [==============================] - 0s 2ms/step - loss: 0.7719 - acc: 0.7615 - val_loss: 0.6747 - val_acc: 0.8942\n",
      "Epoch 10/10\n",
      "86/86 [==============================] - 0s 2ms/step - loss: 0.6453 - acc: 0.8887 - val_loss: 0.6020 - val_acc: 0.8682\n",
      "Epoch 1/10\n",
      "86/86 [==============================] - 0s 3ms/step - loss: 0.5409 - acc: 0.9460 - val_loss: 0.4988 - val_acc: 1.0000\n",
      "Epoch 2/10\n",
      "86/86 [==============================] - 0s 2ms/step - loss: 0.4951 - acc: 0.9258 - val_loss: 0.4352 - val_acc: 1.0000\n",
      "Epoch 3/10\n",
      "86/86 [==============================] - 0s 2ms/step - loss: 0.4126 - acc: 0.9800 - val_loss: 0.3910 - val_acc: 1.0000\n",
      "Epoch 4/10\n",
      "86/86 [==============================] - 0s 2ms/step - loss: 0.3589 - acc: 0.9885 - val_loss: 0.3303 - val_acc: 1.0000\n",
      "Epoch 5/10\n",
      "86/86 [==============================] - 0s 2ms/step - loss: 0.3458 - acc: 0.9642 - val_loss: 0.2803 - val_acc: 1.0000\n",
      "Epoch 6/10\n",
      "86/86 [==============================] - 0s 2ms/step - loss: 0.2649 - acc: 0.9960 - val_loss: 0.2386 - val_acc: 1.0000\n",
      "Epoch 7/10\n",
      "86/86 [==============================] - 0s 2ms/step - loss: 0.2312 - acc: 0.9980 - val_loss: 0.2128 - val_acc: 1.0000\n",
      "Epoch 8/10\n",
      "86/86 [==============================] - 0s 2ms/step - loss: 0.1941 - acc: 1.0000 - val_loss: 0.1947 - val_acc: 1.0000\n",
      "Epoch 9/10\n",
      "86/86 [==============================] - 0s 2ms/step - loss: 0.1691 - acc: 1.0000 - val_loss: 0.1625 - val_acc: 1.0000\n",
      "Epoch 10/10\n",
      "86/86 [==============================] - 0s 2ms/step - loss: 0.1521 - acc: 1.0000 - val_loss: 0.1362 - val_acc: 1.0000\n",
      "Epoch 1/10\n",
      "86/86 [==============================] - 0s 3ms/step - loss: 0.1250 - acc: 1.0000 - val_loss: 0.1329 - val_acc: 1.0000\n",
      "Epoch 2/10\n",
      "86/86 [==============================] - 0s 2ms/step - loss: 0.1114 - acc: 1.0000 - val_loss: 0.1034 - val_acc: 1.0000\n",
      "Epoch 3/10\n",
      "86/86 [==============================] - 0s 2ms/step - loss: 0.1021 - acc: 1.0000 - val_loss: 0.0941 - val_acc: 1.0000\n",
      "Epoch 4/10\n",
      "86/86 [==============================] - 0s 2ms/step - loss: 0.0890 - acc: 1.0000 - val_loss: 0.1104 - val_acc: 1.0000\n",
      "Epoch 5/10\n",
      "86/86 [==============================] - 0s 3ms/step - loss: 0.0897 - acc: 1.0000 - val_loss: 0.0780 - val_acc: 1.0000\n",
      "Epoch 6/10\n",
      "86/86 [==============================] - 0s 2ms/step - loss: 0.0751 - acc: 1.0000 - val_loss: 0.0714 - val_acc: 1.0000\n",
      "Epoch 7/10\n",
      "86/86 [==============================] - 0s 2ms/step - loss: 0.0698 - acc: 1.0000 - val_loss: 0.0686 - val_acc: 1.0000\n",
      "Epoch 8/10\n",
      "86/86 [==============================] - 0s 2ms/step - loss: 0.0653 - acc: 1.0000 - val_loss: 0.0645 - val_acc: 1.0000\n",
      "Epoch 9/10\n",
      "86/86 [==============================] - 0s 2ms/step - loss: 0.0619 - acc: 1.0000 - val_loss: 0.0609 - val_acc: 1.0000\n",
      "Epoch 10/10\n",
      "86/86 [==============================] - 0s 2ms/step - loss: 0.0585 - acc: 1.0000 - val_loss: 0.0575 - val_acc: 1.0000\n",
      "Epoch 1/10\n",
      "86/86 [==============================] - 0s 3ms/step - loss: 0.0563 - acc: 1.0000 - val_loss: 0.0557 - val_acc: 1.0000\n",
      "Epoch 2/10\n",
      "86/86 [==============================] - 0s 2ms/step - loss: 0.0540 - acc: 1.0000 - val_loss: 0.0556 - val_acc: 1.0000\n",
      "Epoch 3/10\n",
      "86/86 [==============================] - 0s 2ms/step - loss: 0.0522 - acc: 1.0000 - val_loss: 0.0519 - val_acc: 1.0000\n",
      "Epoch 4/10\n",
      "86/86 [==============================] - 0s 2ms/step - loss: 0.0507 - acc: 1.0000 - val_loss: 0.0503 - val_acc: 1.0000\n",
      "Epoch 5/10\n",
      "86/86 [==============================] - 0s 2ms/step - loss: 0.0493 - acc: 1.0000 - val_loss: 0.0492 - val_acc: 1.0000\n",
      "Epoch 6/10\n",
      "86/86 [==============================] - 0s 2ms/step - loss: 0.0479 - acc: 1.0000 - val_loss: 0.0475 - val_acc: 1.0000\n",
      "Epoch 7/10\n",
      "86/86 [==============================] - 0s 2ms/step - loss: 0.0468 - acc: 1.0000 - val_loss: 0.0463 - val_acc: 1.0000\n",
      "Epoch 8/10\n",
      "86/86 [==============================] - 0s 2ms/step - loss: 0.0458 - acc: 1.0000 - val_loss: 0.0454 - val_acc: 1.0000\n",
      "Epoch 9/10\n",
      "86/86 [==============================] - 0s 2ms/step - loss: 0.0448 - acc: 1.0000 - val_loss: 0.0446 - val_acc: 1.0000\n",
      "Epoch 10/10\n",
      "86/86 [==============================] - 0s 3ms/step - loss: 0.0439 - acc: 1.0000 - val_loss: 0.0436 - val_acc: 1.0000\n",
      "Epoch 1/10\n",
      "86/86 [==============================] - 0s 3ms/step - loss: 0.0432 - acc: 1.0000 - val_loss: 0.0430 - val_acc: 1.0000\n",
      "Epoch 2/10\n",
      "86/86 [==============================] - 0s 2ms/step - loss: 0.0425 - acc: 1.0000 - val_loss: 0.0422 - val_acc: 1.0000\n",
      "Epoch 3/10\n",
      "86/86 [==============================] - 0s 2ms/step - loss: 0.0418 - acc: 1.0000 - val_loss: 0.0415 - val_acc: 1.0000\n",
      "Epoch 4/10\n",
      "86/86 [==============================] - 0s 2ms/step - loss: 0.0411 - acc: 1.0000 - val_loss: 0.0411 - val_acc: 1.0000\n",
      "Epoch 5/10\n",
      "86/86 [==============================] - 0s 2ms/step - loss: 0.0405 - acc: 1.0000 - val_loss: 0.0402 - val_acc: 1.0000\n",
      "Epoch 6/10\n",
      "86/86 [==============================] - 0s 2ms/step - loss: 0.0399 - acc: 1.0000 - val_loss: 0.0396 - val_acc: 1.0000\n",
      "Epoch 7/10\n",
      "86/86 [==============================] - 0s 2ms/step - loss: 0.0393 - acc: 1.0000 - val_loss: 0.0392 - val_acc: 1.0000\n",
      "Epoch 8/10\n",
      "86/86 [==============================] - 0s 2ms/step - loss: 0.0387 - acc: 1.0000 - val_loss: 0.0385 - val_acc: 1.0000\n",
      "Epoch 9/10\n",
      "86/86 [==============================] - 0s 2ms/step - loss: 0.0381 - acc: 1.0000 - val_loss: 0.0379 - val_acc: 1.0000\n",
      "Epoch 10/10\n",
      "86/86 [==============================] - 0s 2ms/step - loss: 0.0376 - acc: 1.0000 - val_loss: 0.0373 - val_acc: 1.0000\n"
     ]
    },
    {
     "data": {
      "image/png": "[encoded data removed]",
      "text/plain": [
       "<Figure size 432x288 with 2 Axes>"
      ]
     },
     "metadata": {
      "needs_background": "light"
     },
     "output_type": "display_data"
    }
   ],
   "source": [
    "sym_detector = GroupDetection(model, clustering)\n",
    "sym_detector.run_symmetry_detection(plot=True)"
   ]
  },
  {
   "cell_type": "markdown",
   "metadata": {},
   "source": [
    "So now we can analyze our model!We see for the darker colours that there are always two distinct instances corresponding to the symmetry between these radial values. The duplication of these colours means that this is a symmetry group. The test now is to identify the radial values in these clusters and pass them to the generator extraction methods to characterize them."
   ]
  }
 ],
 "metadata": {
  "kernelspec": {
   "display_name": "Python 3",
   "language": "python",
   "name": "python3"
  },
  "language_info": {
   "codemirror_mode": {
    "name": "ipython",
    "version": 3
   },
   "file_extension": ".py",
   "mimetype": "text/x-python",
   "name": "python",
   "nbconvert_exporter": "python",
   "pygments_lexer": "ipython3",
   "version": "3.8.5"
  }
 },
 "nbformat": 4,
 "nbformat_minor": 1
}
