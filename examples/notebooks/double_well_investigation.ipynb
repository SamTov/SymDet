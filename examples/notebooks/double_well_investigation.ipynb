{
 "cells": [
  {
   "cell_type": "markdown",
   "metadata": {
    "collapsed": true
   },
   "source": [
    "# Double Well Potential Symmetry Visualization"
   ]
  },
  {
   "cell_type": "markdown",
   "metadata": {},
   "source": [
    "In this notebook we will perform symmetry group visualization on some double well potential data.\n",
    "\n",
    "The imports for this one are quite numerous as we are doing the analysis piece by piece. Once there is a bridge between group detection and generator extraction I will add some generalzed methods for doing some of this automatically. Let's quickly mention what we are importing.\n",
    "\n",
    "1. The class for a Double Well Potential. This is just for some test data generation.\n",
    "2. DenseModel is a class written to take care of setting up and deploying a neural network.\n",
    "3. DataCluster is reponsible for taking raw potential data and partitioning it into classes for the classification problems.\n",
    "3. Group detection performs the TSNE reduction and finds our symmetry groups"
   ]
  },
  {
   "cell_type": "markdown",
   "metadata": {},
   "source": [
    "from symdet.test_systems.double_well_potential import DoubleWellPotential\n",
    "from symdet.models.dense_model import DenseModel\n",
    "from symdet.symmetry_groups.data_clustering import DataCluster\n",
    "from symdet.symmetry_groups.group_detection import GroupDetection"
   ]
  },
  {
   "cell_type": "code",
   "execution_count": 1,
   "metadata": {},
   "outputs": [],
   "source": [
    "import symdet"
   ]
  },
  {
   "cell_type": "markdown",
   "metadata": {},
   "source": [
    "###  Preparing data\n",
    "So you want to prepare some simple data from a double well potential so that we can identify some symmetry groups. Luckily, we were prepared for this scenario and wrote a class just for you!"
   ]
  },
  {
   "cell_type": "code",
   "execution_count": 2,
   "metadata": {},
   "outputs": [],
   "source": [
    "double_well_potential = symdet.DoubleWellPotential(a=2.4)"
   ]
  },
  {
   "cell_type": "markdown",
   "metadata": {},
   "source": [
    "As simple as that we have a double well potential. But we can also take a look at it."
   ]
  },
  {
   "cell_type": "code",
   "execution_count": 3,
   "metadata": {},
   "outputs": [
    {
     "data": {
      "image/png": "[encoded data removed]",
      "text/plain": [
       "<Figure size 432x288 with 1 Axes>"
      ]
     },
     "metadata": {
      "needs_background": "light"
     },
     "output_type": "display_data"
    }
   ],
   "source": [
    "double_well_potential.plot_data()"
   ]
  },
  {
   "cell_type": "markdown",
   "metadata": {},
   "source": [
    "### Preparing the classes\n",
    "\n",
    "We now have to cluster the data to set up the machine learning problem for later. We define the clusters using the value range and bin operation. In this case we are binning the data in clusters of [ k/5 -1e-3, k/5 + 1e-3 ] with k in [-5, 5]. We will also visualize the clusters on the original data to aid in understanding how it was chosen."
   ]
  },
  {
   "cell_type": "code",
   "execution_count": 4,
   "metadata": {},
   "outputs": [
    {
     "name": "stdout",
     "output_type": "stream",
     "text": [
      "Loading additional data.\n",
      "WARNING: Not enough data! Some classes will be under-represented.\n"
     ]
    }
   ],
   "source": [
    "double_well_potential.build_clusters(representatives=1500)"
   ]
  },
  {
   "cell_type": "code",
   "execution_count": 5,
   "metadata": {},
   "outputs": [
    {
     "name": "stderr",
     "output_type": "stream",
     "text": [
      "100%|████████████████████████████████| 11/11 [00:00<00:00, 357.68it/s]\n"
     ]
    },
    {
     "data": {
      "image/png": "[encoded data removed]",
      "text/plain": [
       "<Figure size 432x288 with 1 Axes>"
      ]
     },
     "metadata": {
      "needs_background": "light"
     },
     "output_type": "display_data"
    }
   ],
   "source": [
    "double_well_potential.plot_clusters(save=True)"
   ]
  },
  {
   "cell_type": "markdown",
   "metadata": {},
   "source": [
    "### Preparing the model\n",
    "\n",
    "We want to use a deep and wide neural network so as to encode a high dimensional representation. "
   ]
  },
  {
   "cell_type": "code",
   "execution_count": 6,
   "metadata": {},
   "outputs": [],
   "source": [
    "model = symdet.DenseModel(n_layers=7,\n",
    "                          units=80,\n",
    "                          epochs=10,\n",
    "                          batch_size=64,\n",
    "                          lr=0.00025)"
   ]
  },
  {
   "cell_type": "markdown",
   "metadata": {},
   "source": [
    "### Running the analysis\n",
    "\n",
    "The next steps are to define a group detection object with the cluster object we used earlier as well as the model to use in training.\n",
    "\n",
    "We then simply run the symmetry detection and can visualize the symmetry relationship."
   ]
  },
  {
   "cell_type": "code",
   "execution_count": 7,
   "metadata": {
    "scrolled": false
   },
   "outputs": [
    {
     "name": "stdout",
     "output_type": "stream",
     "text": [
      "WARNING:tensorflow:Please add `keras.layers.InputLayer` instead of `keras.Input` to Sequential model. `keras.Input` is intended to be used by Functional model.\n",
      "Model: \"sequential\"\n",
      "_________________________________________________________________\n",
      "Layer (type)                 Output Shape              Param #   \n",
      "=================================================================\n",
      "dense (Dense)                (None, 80)                240       \n",
      "_________________________________________________________________\n",
      "dense_1 (Dense)              (None, 80)                6480      \n",
      "_________________________________________________________________\n",
      "dense_2 (Dense)              (None, 80)                6480      \n",
      "_________________________________________________________________\n",
      "dense_3 (Dense)              (None, 80)                6480      \n",
      "_________________________________________________________________\n",
      "dense_4 (Dense)              (None, 80)                6480      \n",
      "_________________________________________________________________\n",
      "second_last_layer (Dense)    (None, 80)                6480      \n",
      "_________________________________________________________________\n",
      "embedding_layer (Dense)      (None, 80)                6480      \n",
      "_________________________________________________________________\n",
      "softmax_layer (Dense)        (None, 11)                891       \n",
      "=================================================================\n",
      "Total params: 40,011\n",
      "Trainable params: 40,011\n",
      "Non-trainable params: 0\n",
      "_________________________________________________________________\n",
      "None\n",
      "Epoch 1/10\n",
      "129/129 [==============================] - 1s 3ms/step - loss: 2.4199 - acc: 0.1345 - val_loss: 2.3188 - val_acc: 0.1834\n",
      "Epoch 2/10\n",
      "129/129 [==============================] - 0s 2ms/step - loss: 2.1209 - acc: 0.2170 - val_loss: 1.9121 - val_acc: 0.3030\n",
      "Epoch 3/10\n",
      "129/129 [==============================] - 0s 2ms/step - loss: 1.7055 - acc: 0.3783 - val_loss: 1.4645 - val_acc: 0.5499\n",
      "Epoch 4/10\n",
      "129/129 [==============================] - 0s 2ms/step - loss: 1.2875 - acc: 0.5899 - val_loss: 1.1670 - val_acc: 0.5695\n",
      "Epoch 5/10\n",
      "129/129 [==============================] - 0s 2ms/step - loss: 0.9879 - acc: 0.7190 - val_loss: 0.8416 - val_acc: 0.8119\n",
      "Epoch 6/10\n",
      "129/129 [==============================] - 0s 2ms/step - loss: 0.7709 - acc: 0.8487 - val_loss: 0.6611 - val_acc: 0.9354\n",
      "Epoch 7/10\n",
      "129/129 [==============================] - 0s 2ms/step - loss: 0.6540 - acc: 0.8719 - val_loss: 0.5481 - val_acc: 0.9964\n",
      "Epoch 8/10\n",
      "129/129 [==============================] - 0s 2ms/step - loss: 0.5258 - acc: 0.9612 - val_loss: 0.4569 - val_acc: 0.9949\n",
      "Epoch 9/10\n",
      "129/129 [==============================] - 0s 2ms/step - loss: 0.4371 - acc: 0.9833 - val_loss: 0.3851 - val_acc: 0.9962\n",
      "Epoch 10/10\n",
      "129/129 [==============================] - 0s 2ms/step - loss: 0.3631 - acc: 0.9905 - val_loss: 0.3221 - val_acc: 1.0000\n",
      "Epoch 1/10\n",
      "129/129 [==============================] - 0s 2ms/step - loss: 0.3035 - acc: 0.9939 - val_loss: 0.2935 - val_acc: 1.0000\n",
      "Epoch 2/10\n",
      "129/129 [==============================] - 0s 2ms/step - loss: 0.3005 - acc: 0.9681 - val_loss: 0.3519 - val_acc: 0.9335\n",
      "Epoch 3/10\n",
      "129/129 [==============================] - 0s 2ms/step - loss: 0.2158 - acc: 0.9973 - val_loss: 0.1858 - val_acc: 1.0000\n",
      "Epoch 4/10\n",
      "129/129 [==============================] - 0s 2ms/step - loss: 0.2119 - acc: 0.9817 - val_loss: 0.1701 - val_acc: 1.0000\n",
      "Epoch 5/10\n",
      "129/129 [==============================] - 0s 2ms/step - loss: 0.1527 - acc: 1.0000 - val_loss: 0.1371 - val_acc: 1.0000\n",
      "Epoch 6/10\n",
      "129/129 [==============================] - 0s 2ms/step - loss: 0.1259 - acc: 1.0000 - val_loss: 0.1156 - val_acc: 1.0000\n",
      "Epoch 7/10\n",
      "129/129 [==============================] - 0s 2ms/step - loss: 0.1123 - acc: 1.0000 - val_loss: 0.1057 - val_acc: 1.0000\n",
      "Epoch 8/10\n",
      "129/129 [==============================] - 0s 2ms/step - loss: 0.0991 - acc: 1.0000 - val_loss: 0.0923 - val_acc: 1.0000\n",
      "Epoch 9/10\n",
      "129/129 [==============================] - 0s 2ms/step - loss: 0.0896 - acc: 1.0000 - val_loss: 0.0851 - val_acc: 1.0000\n",
      "Epoch 10/10\n",
      "129/129 [==============================] - 0s 2ms/step - loss: 0.0837 - acc: 1.0000 - val_loss: 0.0772 - val_acc: 1.0000\n",
      "Epoch 1/10\n",
      "129/129 [==============================] - 0s 2ms/step - loss: 0.0773 - acc: 1.0000 - val_loss: 0.0728 - val_acc: 1.0000\n",
      "Epoch 2/10\n",
      "129/129 [==============================] - 0s 2ms/step - loss: 0.0711 - acc: 1.0000 - val_loss: 0.0689 - val_acc: 1.0000\n",
      "Epoch 3/10\n",
      "129/129 [==============================] - 0s 2ms/step - loss: 0.0673 - acc: 1.0000 - val_loss: 0.0688 - val_acc: 1.0000\n",
      "Epoch 4/10\n",
      "129/129 [==============================] - 0s 2ms/step - loss: 0.0653 - acc: 1.0000 - val_loss: 0.0623 - val_acc: 1.0000\n",
      "Epoch 5/10\n",
      "129/129 [==============================] - 0s 2ms/step - loss: 0.0610 - acc: 1.0000 - val_loss: 0.0587 - val_acc: 1.0000\n",
      "Epoch 6/10\n",
      "129/129 [==============================] - 0s 2ms/step - loss: 0.0587 - acc: 1.0000 - val_loss: 0.0569 - val_acc: 1.0000\n",
      "Epoch 7/10\n",
      "129/129 [==============================] - 0s 2ms/step - loss: 0.0559 - acc: 1.0000 - val_loss: 0.0557 - val_acc: 1.0000\n",
      "Epoch 8/10\n",
      "129/129 [==============================] - 0s 2ms/step - loss: 0.0541 - acc: 1.0000 - val_loss: 0.0538 - val_acc: 1.0000\n",
      "Epoch 9/10\n",
      "129/129 [==============================] - 0s 2ms/step - loss: 0.0527 - acc: 1.0000 - val_loss: 0.0515 - val_acc: 1.0000\n",
      "Epoch 10/10\n",
      "129/129 [==============================] - 0s 2ms/step - loss: 0.0510 - acc: 1.0000 - val_loss: 0.0502 - val_acc: 1.0000\n",
      "Epoch 1/10\n",
      "129/129 [==============================] - 0s 2ms/step - loss: 0.0507 - acc: 1.0000 - val_loss: 0.0487 - val_acc: 1.0000\n",
      "Epoch 2/10\n",
      "129/129 [==============================] - 0s 2ms/step - loss: 0.0483 - acc: 1.0000 - val_loss: 0.0475 - val_acc: 1.0000\n",
      "Epoch 3/10\n",
      "129/129 [==============================] - 0s 2ms/step - loss: 0.0472 - acc: 1.0000 - val_loss: 0.0464 - val_acc: 1.0000\n",
      "Epoch 4/10\n",
      "129/129 [==============================] - 0s 2ms/step - loss: 0.0458 - acc: 1.0000 - val_loss: 0.0451 - val_acc: 1.0000\n",
      "Epoch 5/10\n",
      "129/129 [==============================] - 0s 2ms/step - loss: 0.0447 - acc: 1.0000 - val_loss: 0.0440 - val_acc: 1.0000\n",
      "Epoch 6/10\n",
      "129/129 [==============================] - 0s 2ms/step - loss: 0.0435 - acc: 1.0000 - val_loss: 0.0436 - val_acc: 1.0000\n",
      "Epoch 7/10\n",
      "129/129 [==============================] - 0s 2ms/step - loss: 0.0425 - acc: 1.0000 - val_loss: 0.0417 - val_acc: 1.0000\n",
      "Epoch 8/10\n",
      "129/129 [==============================] - 0s 2ms/step - loss: 0.0413 - acc: 1.0000 - val_loss: 0.0406 - val_acc: 1.0000\n",
      "Epoch 9/10\n",
      "129/129 [==============================] - 0s 2ms/step - loss: 0.0401 - acc: 1.0000 - val_loss: 0.0395 - val_acc: 1.0000\n",
      "Epoch 10/10\n",
      "129/129 [==============================] - 0s 2ms/step - loss: 0.0391 - acc: 1.0000 - val_loss: 0.0385 - val_acc: 1.0000\n",
      "Epoch 1/10\n",
      "129/129 [==============================] - 0s 2ms/step - loss: 0.0379 - acc: 1.0000 - val_loss: 0.0373 - val_acc: 1.0000\n",
      "Epoch 2/10\n",
      "129/129 [==============================] - 0s 2ms/step - loss: 0.0368 - acc: 1.0000 - val_loss: 0.0362 - val_acc: 1.0000\n",
      "Epoch 3/10\n",
      "129/129 [==============================] - 0s 2ms/step - loss: 0.0357 - acc: 1.0000 - val_loss: 0.0352 - val_acc: 1.0000\n",
      "Epoch 4/10\n",
      "129/129 [==============================] - 0s 2ms/step - loss: 0.0347 - acc: 1.0000 - val_loss: 0.0342 - val_acc: 1.0000\n",
      "Epoch 5/10\n",
      "129/129 [==============================] - 0s 2ms/step - loss: 0.0335 - acc: 1.0000 - val_loss: 0.0329 - val_acc: 1.0000\n",
      "Epoch 6/10\n",
      "129/129 [==============================] - 0s 2ms/step - loss: 0.0325 - acc: 1.0000 - val_loss: 0.0318 - val_acc: 1.0000\n",
      "Epoch 7/10\n",
      "129/129 [==============================] - 0s 2ms/step - loss: 0.0313 - acc: 1.0000 - val_loss: 0.0307 - val_acc: 1.0000\n",
      "Epoch 8/10\n",
      "129/129 [==============================] - 0s 2ms/step - loss: 0.0302 - acc: 1.0000 - val_loss: 0.0296 - val_acc: 1.0000\n",
      "Epoch 9/10\n",
      "129/129 [==============================] - 0s 2ms/step - loss: 0.0291 - acc: 1.0000 - val_loss: 0.0285 - val_acc: 1.0000\n",
      "Epoch 10/10\n",
      "129/129 [==============================] - 0s 2ms/step - loss: 0.0282 - acc: 1.0000 - val_loss: 0.0290 - val_acc: 1.0000\n",
      "WARNING:tensorflow:Please add `keras.layers.InputLayer` instead of `keras.Input` to Sequential model. `keras.Input` is intended to be used by Functional model.\n"
     ]
    },
    {
     "name": "stderr",
     "output_type": "stream",
     "text": [
      "/usr/local/lib/python3.9/site-packages/sklearn/manifold/_t_sne.py:780: FutureWarning: The default initialization in TSNE will change from 'random' to 'pca' in 1.2.\n",
      "  warnings.warn(\n",
      "/usr/local/lib/python3.9/site-packages/sklearn/manifold/_t_sne.py:790: FutureWarning: The default learning rate in TSNE will change from 200.0 to 'auto' in 1.2.\n",
      "  warnings.warn(\n"
     ]
    },
    {
     "data": {
      "image/png": "[encoded data removed]",
      "text/plain": [
       "<Figure size 432x288 with 2 Axes>"
      ]
     },
     "metadata": {
      "needs_background": "light"
     },
     "output_type": "display_data"
    }
   ],
   "source": [
    "sym_detector = symdet.GroupDetection(model, double_well_potential.clustered_data)\n",
    "point_cloud = sym_detector.run_symmetry_detection(plot=True, save=True)"
   ]
  },
  {
   "cell_type": "markdown",
   "metadata": {},
   "source": [
    "So now we can analyze our model! We see for the darker colours that there are always two distinct instances corresponding to the symmetry between these radial values. The duplication of these colours means that this is a symmetry group. The test now is to identify the radial values in these clusters and pass them to the generator extraction methods to characterize them."
   ]
  },
  {
   "cell_type": "code",
   "execution_count": 8,
   "metadata": {},
   "outputs": [
    {
     "data": {
      "text/plain": [
       "dict_keys([0.0, 2.0, 4.0, 5.0, 10.0])"
      ]
     },
     "execution_count": 8,
     "metadata": {},
     "output_type": "execute_result"
    }
   ],
   "source": [
    "point_cloud.keys()"
   ]
  },
  {
   "cell_type": "markdown",
   "metadata": {},
   "source": [
    "We see that the clustering has worked relatively well. This is where some caution is advised in terms of simply parsing this data along to the generator detection. If you see that one of these groups should likely not be in the set then it should be parsed along to the generator extraction stage. Alternatively, you can use a different approach for identifying the sets in the symmetry representation. In the next update we will parse this data to the generator extraction algorithm in order to get the generators of this detected symmetry group."
   ]
  }
 ],
 "metadata": {
  "kernelspec": {
   "display_name": "Python 3 (ipykernel)",
   "language": "python",
   "name": "python3"
  },
  "language_info": {
   "codemirror_mode": {
    "name": "ipython",
    "version": 3
   },
   "file_extension": ".py",
   "mimetype": "text/x-python",
   "name": "python",
   "nbconvert_exporter": "python",
   "pygments_lexer": "ipython3",
   "version": "3.9.5"
  }
 },
 "nbformat": 4,
 "nbformat_minor": 1
}
