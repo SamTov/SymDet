{
 "cells": [
  {
   "cell_type": "markdown",
   "metadata": {
    "collapsed": true
   },
   "source": [
    "# Double Well Potential Symmetry Visualization"
   ]
  },
  {
   "cell_type": "markdown",
   "metadata": {},
   "source": [
    "In this notebook we will perform symmetry group visualization on some double well potential data.\n",
    "\n",
    "The imports for this one are quite numerous as we are doing the analysis piece by piece. Once there is a bridge between group detection and generator extraction I will add some generalzed methods for doing some of this automatically. Let's quickly mention what we are importing.\n",
    "\n",
    "1. The class for a Double Well Potential. This is just for some test data generation.\n",
    "2. DenseModel is a class written to take care of setting up and deploying a neural network.\n",
    "3. DataCluster is reponsible for taking raw potential data and partitioning it into classes for the classification problems.\n",
    "3. Group detection performs the TSNE reduction and finds our symmetry groups"
   ]
  },
  {
   "cell_type": "markdown",
   "metadata": {},
   "source": [
    "from symdet.test_systems.double_well_potential import DoubleWellPotential\n",
    "from symdet.models.dense_model import DenseModel\n",
    "from symdet.symmetry_groups.data_clustering import DataCluster\n",
    "from symdet.symmetry_groups.group_detection import GroupDetection"
   ]
  },
  {
   "cell_type": "code",
   "execution_count": 1,
   "metadata": {},
   "outputs": [],
   "source": [
    "import symdet\n",
    "import matplotlib.pyplot as plt"
   ]
  },
  {
   "cell_type": "markdown",
   "metadata": {},
   "source": [
    "###  Preparing data\n",
    "So you want to prepare some simple data from a double well potential so that we can identify some symmetry groups. Luckily, we were prepared for this scenario and wrote a class just for you!"
   ]
  },
  {
   "cell_type": "code",
   "execution_count": 2,
   "metadata": {},
   "outputs": [],
   "source": [
    "double_well_potential = symdet.DoubleWellPotential(a=2.4)"
   ]
  },
  {
   "cell_type": "markdown",
   "metadata": {},
   "source": [
    "As simple as that we have a double well potential. But we can also take a look at it."
   ]
  },
  {
   "cell_type": "code",
   "execution_count": 3,
   "metadata": {},
   "outputs": [
    {
     "data": {
      "image/png": "[encoded data removed]",
      "text/plain": [
       "<Figure size 432x288 with 1 Axes>"
      ]
     },
     "metadata": {
      "needs_background": "light"
     },
     "output_type": "display_data"
    }
   ],
   "source": [
    "double_well_potential.plot_data()"
   ]
  },
  {
   "cell_type": "markdown",
   "metadata": {},
   "source": [
    "### Preparing the classes\n",
    "\n",
    "We now have to cluster the data to set up the machine learning problem for later. We define the clusters using the value range and bin operation. In this case we are binning the data in clusters of [ k/5 -1e-3, k/5 + 1e-3 ] with k in [-5, 5]. We will also visualize the clusters on the original data to aid in understanding how it was chosen."
   ]
  },
  {
   "cell_type": "code",
   "execution_count": 4,
   "metadata": {},
   "outputs": [
    {
     "name": "stdout",
     "output_type": "stream",
     "text": [
      "Loading additional data.\n",
      "WARNING: Not enough data! Some classes will be under-represented.\n"
     ]
    }
   ],
   "source": [
    "double_well_potential.build_clusters(representatives=1500)"
   ]
  },
  {
   "cell_type": "code",
   "execution_count": 5,
   "metadata": {},
   "outputs": [
    {
     "name": "stderr",
     "output_type": "stream",
     "text": [
      "100%|████████████████████████████████| 11/11 [00:00<00:00, 370.36it/s]\n"
     ]
    },
    {
     "data": {
      "image/png": "[encoded data removed]",
      "text/plain": [
       "<Figure size 432x288 with 1 Axes>"
      ]
     },
     "metadata": {
      "needs_background": "light"
     },
     "output_type": "display_data"
    }
   ],
   "source": [
    "double_well_potential.plot_clusters()"
   ]
  },
  {
   "cell_type": "markdown",
   "metadata": {},
   "source": [
    "### Preparing the model\n",
    "\n",
    "We want to use a deep and wide neural network so as to encode a high dimensional representation. "
   ]
  },
  {
   "cell_type": "code",
   "execution_count": 6,
   "metadata": {},
   "outputs": [],
   "source": [
    "model = symdet.DenseModel(n_layers=7,\n",
    "                          units=80,\n",
    "                          epochs=10,\n",
    "                          batch_size=64,\n",
    "                          lr=0.00025)"
   ]
  },
  {
   "cell_type": "markdown",
   "metadata": {},
   "source": [
    "### Running the analysis\n",
    "\n",
    "The next steps are to define a group detection object with the cluster object we used earlier as well as the model to use in training.\n",
    "\n",
    "We then simply run the symmetry detection and can visualize the symmetry relationship."
   ]
  },
  {
   "cell_type": "code",
   "execution_count": 7,
   "metadata": {
    "scrolled": false
   },
   "outputs": [
    {
     "name": "stdout",
     "output_type": "stream",
     "text": [
      "0\n",
      "tf.Tensor(\n",
      "[[0.]\n",
      " [0.]\n",
      " [0.]\n",
      " ...\n",
      " [0.]\n",
      " [0.]\n",
      " [0.]], shape=(1500, 1), dtype=float32)\n",
      "tf.Tensor(\n",
      "[[0.32027608 1.3270773 ]\n",
      " [0.15088025 0.71712226]\n",
      " [0.48702756 0.5473976 ]\n",
      " ...\n",
      " [0.31052074 0.66307735]\n",
      " [0.68569434 0.2577942 ]\n",
      " [0.70457155 0.20125885]], shape=(1500, 2), dtype=float32)\n",
      "1\n",
      "tf.Tensor(\n",
      "[[1.]\n",
      " [1.]\n",
      " [1.]\n",
      " ...\n",
      " [1.]\n",
      " [1.]\n",
      " [1.]], shape=(1500, 1), dtype=float32)\n",
      "tf.Tensor(\n",
      "[[0.7850773  1.1763347 ]\n",
      " [0.36858654 0.51346076]\n",
      " [0.38445932 1.3609657 ]\n",
      " ...\n",
      " [0.4642851  1.3357935 ]\n",
      " [0.43836233 0.45655498]\n",
      " [0.22908269 1.3954805 ]], shape=(1500, 2), dtype=float32)\n",
      "2\n",
      "tf.Tensor(\n",
      "[[2.]\n",
      " [2.]\n",
      " [2.]\n",
      " ...\n",
      " [2.]\n",
      " [2.]\n",
      " [2.]], shape=(1500, 1), dtype=float32)\n",
      "tf.Tensor(\n",
      "[[0.27737197 0.45405886]\n",
      " [0.06850777 0.52810365]\n",
      " [1.2871039  0.6784493 ]\n",
      " ...\n",
      " [0.33405972 0.4142998 ]\n",
      " [0.4793766  0.23265877]\n",
      " [0.57924575 1.3347168 ]], shape=(1500, 2), dtype=float32)\n",
      "3\n",
      "tf.Tensor(\n",
      "[[3.]\n",
      " [3.]\n",
      " [3.]\n",
      " ...\n",
      " [3.]\n",
      " [3.]\n",
      " [3.]], shape=(1500, 1), dtype=float32)\n",
      "tf.Tensor(\n",
      "[[0.7649366  1.2786707 ]\n",
      " [0.26207694 0.3335722 ]\n",
      " [1.4044033  0.49699554]\n",
      " ...\n",
      " [0.41945574 0.06170426]\n",
      " [0.41381875 0.09256878]\n",
      " [0.08252602 0.41662273]], shape=(1500, 2), dtype=float32)\n",
      "4\n",
      "tf.Tensor(\n",
      "[[4.]\n",
      " [4.]\n",
      " [4.]\n",
      " ...\n",
      " [4.]\n",
      " [4.]\n",
      " [4.]], shape=(1500, 1), dtype=float32)\n",
      "tf.Tensor(\n",
      "[[0.13291836 0.26247236]\n",
      " [0.0691454  0.28597125]\n",
      " [0.31341916 1.4882729 ]\n",
      " ...\n",
      " [0.14762536 1.5138419 ]\n",
      " [0.69222623 1.3542765 ]\n",
      " [0.288867   0.05625954]], shape=(1500, 2), dtype=float32)\n",
      "5\n",
      "tf.Tensor(\n",
      "[[5.]\n",
      " [5.]\n",
      " [5.]\n",
      " ...\n",
      " [5.]\n",
      " [5.]\n",
      " [5.]], shape=(1500, 1), dtype=float32)\n",
      "tf.Tensor(\n",
      "[[1.54255    0.14227085]\n",
      " [1.5437988  0.12977543]\n",
      " [0.4842434  1.4716791 ]\n",
      " ...\n",
      " [0.05230446 1.5483866 ]\n",
      " [0.52550375 1.457475  ]\n",
      " [0.07716465 1.54718   ]], shape=(1500, 2), dtype=float32)\n",
      "6\n",
      "tf.Tensor(\n",
      "[[6.]\n",
      " [6.]\n",
      " [6.]\n",
      " ...\n",
      " [6.]\n",
      " [6.]\n",
      " [6.]], shape=(1500, 1), dtype=float32)\n",
      "tf.Tensor(\n",
      "[[1.2281226  0.9862143 ]\n",
      " [1.0778652  1.1485306 ]\n",
      " [0.9972603  1.2189158 ]\n",
      " ...\n",
      " [0.20017128 1.5622629 ]\n",
      " [0.91249007 1.2836431 ]\n",
      " [0.7726151  1.3725779 ]], shape=(1500, 2), dtype=float32)\n",
      "7\n",
      "tf.Tensor(\n",
      "[[7.]\n",
      " [7.]\n",
      " [7.]\n",
      " ...\n",
      " [7.]\n",
      " [7.]\n",
      " [7.]], shape=(1500, 1), dtype=float32)\n",
      "tf.Tensor(\n",
      "[[1.1828187  1.0757847 ]\n",
      " [0.9919195  1.2540989 ]\n",
      " [1.0393677  1.2150487 ]\n",
      " ...\n",
      " [1.0269588  1.2253691 ]\n",
      " [1.5970713  0.0787241 ]\n",
      " [1.5847667  0.21144314]], shape=(1500, 2), dtype=float32)\n",
      "8\n",
      "tf.Tensor(\n",
      "[[8.]\n",
      " [8.]\n",
      " [8.]\n",
      " ...\n",
      " [8.]\n",
      " [8.]\n",
      " [8.]], shape=(1500, 1), dtype=float32)\n",
      "tf.Tensor(\n",
      "[[0.51445925 1.5372934 ]\n",
      " [1.3510363  0.8962202 ]\n",
      " [1.153983   1.138748  ]\n",
      " ...\n",
      " [1.2984589  0.9707945 ]\n",
      " [0.9130856  1.3397297 ]\n",
      " [1.3038296  0.9635248 ]], shape=(1500, 2), dtype=float32)\n",
      "9\n",
      "tf.Tensor(\n",
      "[[9.]\n",
      " [9.]\n",
      " [9.]\n",
      " ...\n",
      " [9.]\n",
      " [9.]\n",
      " [9.]], shape=(1500, 1), dtype=float32)\n",
      "tf.Tensor(\n",
      "[[0.5927946 1.5313472]\n",
      " [1.4325958 0.802763 ]\n",
      " [0.4890375 1.5677184]\n",
      " ...\n",
      " [0.6403595 1.5122283]\n",
      " [1.1602137 1.1622556]\n",
      " [1.3410265 0.9478092]], shape=(1500, 2), dtype=float32)\n",
      "10\n",
      "tf.Tensor(\n",
      "[[10.]\n",
      " [10.]\n",
      " [10.]\n",
      " ...\n",
      " [10.]\n",
      " [10.]\n",
      " [10.]], shape=(1500, 1), dtype=float32)\n",
      "tf.Tensor(\n",
      "[[1.1403751  1.2090762 ]\n",
      " [1.2191547  1.1294545 ]\n",
      " [1.005181   1.3235    ]\n",
      " ...\n",
      " [1.1439457  1.2054968 ]\n",
      " [1.3862387  0.9168648 ]\n",
      " [0.92020875 1.3840361 ]], shape=(1500, 2), dtype=float32)\n",
      "WARNING:tensorflow:Please add `keras.layers.InputLayer` instead of `keras.Input` to Sequential model. `keras.Input` is intended to be used by Functional model.\n",
      "Model: \"sequential\"\n",
      "_________________________________________________________________\n",
      "Layer (type)                 Output Shape              Param #   \n",
      "=================================================================\n",
      "dense (Dense)                (None, 80)                240       \n",
      "_________________________________________________________________\n",
      "dense_1 (Dense)              (None, 80)                6480      \n",
      "_________________________________________________________________\n",
      "dense_2 (Dense)              (None, 80)                6480      \n",
      "_________________________________________________________________\n",
      "dense_3 (Dense)              (None, 80)                6480      \n",
      "_________________________________________________________________\n",
      "dense_4 (Dense)              (None, 80)                6480      \n",
      "_________________________________________________________________\n",
      "second_last_layer (Dense)    (None, 80)                6480      \n",
      "_________________________________________________________________\n",
      "embedding_layer (Dense)      (None, 80)                6480      \n",
      "_________________________________________________________________\n",
      "softmax_layer (Dense)        (None, 11)                891       \n",
      "=================================================================\n",
      "Total params: 40,011\n",
      "Trainable params: 40,011\n",
      "Non-trainable params: 0\n",
      "_________________________________________________________________\n",
      "None\n",
      "Epoch 1/10\n",
      "129/129 [==============================] - 1s 4ms/step - loss: 2.4399 - acc: 0.1376 - val_loss: 2.3677 - val_acc: 0.1259\n",
      "Epoch 2/10\n",
      "129/129 [==============================] - 0s 3ms/step - loss: 2.1659 - acc: 0.1952 - val_loss: 1.9411 - val_acc: 0.2592\n",
      "Epoch 3/10\n",
      "129/129 [==============================] - 0s 3ms/step - loss: 1.7150 - acc: 0.3773 - val_loss: 1.5051 - val_acc: 0.4277\n",
      "Epoch 4/10\n",
      "129/129 [==============================] - 0s 3ms/step - loss: 1.3205 - acc: 0.5462 - val_loss: 1.1477 - val_acc: 0.5622\n",
      "Epoch 5/10\n",
      "129/129 [==============================] - 0s 3ms/step - loss: 1.0408 - acc: 0.6636 - val_loss: 0.9211 - val_acc: 0.6269\n",
      "Epoch 6/10\n",
      "129/129 [==============================] - 0s 3ms/step - loss: 0.8528 - acc: 0.7496 - val_loss: 0.8076 - val_acc: 0.6970\n",
      "Epoch 7/10\n",
      "129/129 [==============================] - 0s 3ms/step - loss: 0.7210 - acc: 0.8378 - val_loss: 0.6622 - val_acc: 0.8190\n",
      "Epoch 8/10\n",
      "129/129 [==============================] - 0s 3ms/step - loss: 0.6402 - acc: 0.8462 - val_loss: 0.5784 - val_acc: 0.8305\n",
      "Epoch 9/10\n",
      "129/129 [==============================] - 0s 3ms/step - loss: 0.5428 - acc: 0.9246 - val_loss: 0.5242 - val_acc: 0.9810\n",
      "Epoch 10/10\n",
      "129/129 [==============================] - 0s 3ms/step - loss: 0.4639 - acc: 0.9705 - val_loss: 0.4156 - val_acc: 0.9693\n",
      "Epoch 1/10\n",
      "129/129 [==============================] - 0s 3ms/step - loss: 0.4171 - acc: 0.9559 - val_loss: 0.3501 - val_acc: 1.0000\n",
      "Epoch 2/10\n",
      "129/129 [==============================] - 0s 3ms/step - loss: 0.3532 - acc: 0.9873 - val_loss: 0.3182 - val_acc: 1.0000\n",
      "Epoch 3/10\n",
      "129/129 [==============================] - 0s 3ms/step - loss: 0.3132 - acc: 0.9828 - val_loss: 0.3749 - val_acc: 0.9638\n",
      "Epoch 4/10\n",
      "129/129 [==============================] - 0s 3ms/step - loss: 0.2964 - acc: 0.9756 - val_loss: 0.2306 - val_acc: 1.0000\n",
      "Epoch 5/10\n",
      "129/129 [==============================] - 0s 2ms/step - loss: 0.2270 - acc: 0.9983 - val_loss: 0.2232 - val_acc: 1.0000\n",
      "Epoch 6/10\n",
      "129/129 [==============================] - 0s 3ms/step - loss: 0.1882 - acc: 1.0000 - val_loss: 0.1656 - val_acc: 1.0000\n",
      "Epoch 7/10\n",
      "129/129 [==============================] - 0s 3ms/step - loss: 0.1611 - acc: 1.0000 - val_loss: 0.1419 - val_acc: 1.0000\n",
      "Epoch 8/10\n",
      "129/129 [==============================] - 0s 3ms/step - loss: 0.2741 - acc: 0.9462 - val_loss: 0.1312 - val_acc: 1.0000\n",
      "Epoch 9/10\n",
      "129/129 [==============================] - 0s 3ms/step - loss: 0.1278 - acc: 1.0000 - val_loss: 0.1217 - val_acc: 1.0000\n",
      "Epoch 10/10\n",
      "129/129 [==============================] - 0s 3ms/step - loss: 0.1131 - acc: 1.0000 - val_loss: 0.1131 - val_acc: 1.0000\n",
      "Epoch 1/10\n",
      "129/129 [==============================] - 0s 3ms/step - loss: 0.1042 - acc: 1.0000 - val_loss: 0.0969 - val_acc: 1.0000\n",
      "Epoch 2/10\n",
      "129/129 [==============================] - 0s 3ms/step - loss: 0.0936 - acc: 1.0000 - val_loss: 0.0875 - val_acc: 1.0000\n",
      "Epoch 3/10\n",
      "129/129 [==============================] - 0s 3ms/step - loss: 0.0853 - acc: 1.0000 - val_loss: 0.0835 - val_acc: 1.0000\n",
      "Epoch 4/10\n",
      "129/129 [==============================] - 0s 3ms/step - loss: 0.0788 - acc: 1.0000 - val_loss: 0.0737 - val_acc: 1.0000\n",
      "Epoch 5/10\n",
      "129/129 [==============================] - 0s 3ms/step - loss: 0.0734 - acc: 1.0000 - val_loss: 0.0796 - val_acc: 1.0000\n",
      "Epoch 6/10\n",
      "129/129 [==============================] - 0s 3ms/step - loss: 0.0677 - acc: 1.0000 - val_loss: 0.0645 - val_acc: 1.0000\n",
      "Epoch 7/10\n"
     ]
    },
    {
     "name": "stdout",
     "output_type": "stream",
     "text": [
      "129/129 [==============================] - 0s 3ms/step - loss: 0.0631 - acc: 1.0000 - val_loss: 0.0621 - val_acc: 1.0000\n",
      "Epoch 8/10\n",
      "129/129 [==============================] - 0s 3ms/step - loss: 0.0593 - acc: 1.0000 - val_loss: 0.0575 - val_acc: 1.0000\n",
      "Epoch 9/10\n",
      "129/129 [==============================] - 0s 3ms/step - loss: 0.0568 - acc: 1.0000 - val_loss: 0.0552 - val_acc: 1.0000\n",
      "Epoch 10/10\n",
      "129/129 [==============================] - 0s 3ms/step - loss: 0.0544 - acc: 1.0000 - val_loss: 0.0524 - val_acc: 1.0000\n",
      "Epoch 1/10\n",
      "129/129 [==============================] - 0s 3ms/step - loss: 0.0520 - acc: 1.0000 - val_loss: 0.0515 - val_acc: 1.0000\n",
      "Epoch 2/10\n",
      "129/129 [==============================] - 0s 3ms/step - loss: 0.0504 - acc: 1.0000 - val_loss: 0.0491 - val_acc: 1.0000\n",
      "Epoch 3/10\n",
      "129/129 [==============================] - 0s 3ms/step - loss: 0.0487 - acc: 1.0000 - val_loss: 0.0474 - val_acc: 1.0000\n",
      "Epoch 4/10\n",
      "129/129 [==============================] - 0s 3ms/step - loss: 0.0470 - acc: 1.0000 - val_loss: 0.0463 - val_acc: 1.0000\n",
      "Epoch 5/10\n",
      "129/129 [==============================] - 0s 3ms/step - loss: 0.0459 - acc: 1.0000 - val_loss: 0.0452 - val_acc: 1.0000\n",
      "Epoch 6/10\n",
      "129/129 [==============================] - 0s 3ms/step - loss: 0.0446 - acc: 1.0000 - val_loss: 0.0439 - val_acc: 1.0000\n",
      "Epoch 7/10\n",
      "129/129 [==============================] - 0s 3ms/step - loss: 0.0437 - acc: 1.0000 - val_loss: 0.0428 - val_acc: 1.0000\n",
      "Epoch 8/10\n",
      "129/129 [==============================] - 0s 3ms/step - loss: 0.0425 - acc: 1.0000 - val_loss: 0.0418 - val_acc: 1.0000\n",
      "Epoch 9/10\n",
      "129/129 [==============================] - 0s 3ms/step - loss: 0.0418 - acc: 1.0000 - val_loss: 0.0410 - val_acc: 1.0000\n",
      "Epoch 10/10\n",
      "129/129 [==============================] - 0s 3ms/step - loss: 0.0409 - acc: 1.0000 - val_loss: 0.0405 - val_acc: 1.0000\n",
      "Epoch 1/10\n",
      "129/129 [==============================] - 0s 3ms/step - loss: 0.0401 - acc: 1.0000 - val_loss: 0.0391 - val_acc: 1.0000\n",
      "Epoch 2/10\n",
      "129/129 [==============================] - 0s 3ms/step - loss: 0.0390 - acc: 1.0000 - val_loss: 0.0390 - val_acc: 1.0000\n",
      "Epoch 3/10\n",
      "129/129 [==============================] - 0s 3ms/step - loss: 0.0381 - acc: 1.0000 - val_loss: 0.0376 - val_acc: 1.0000\n",
      "Epoch 4/10\n",
      "129/129 [==============================] - 0s 3ms/step - loss: 0.0374 - acc: 1.0000 - val_loss: 0.0369 - val_acc: 1.0000\n",
      "Epoch 5/10\n",
      "129/129 [==============================] - 0s 3ms/step - loss: 0.0365 - acc: 1.0000 - val_loss: 0.0360 - val_acc: 1.0000\n",
      "Epoch 6/10\n",
      "129/129 [==============================] - 0s 3ms/step - loss: 0.0357 - acc: 1.0000 - val_loss: 0.0355 - val_acc: 1.0000\n",
      "Epoch 7/10\n",
      "129/129 [==============================] - 0s 3ms/step - loss: 0.0353 - acc: 1.0000 - val_loss: 0.0345 - val_acc: 1.0000\n",
      "Epoch 8/10\n",
      "129/129 [==============================] - 0s 3ms/step - loss: 0.0347 - acc: 1.0000 - val_loss: 0.0338 - val_acc: 1.0000\n",
      "Epoch 9/10\n",
      "129/129 [==============================] - 0s 3ms/step - loss: 0.0333 - acc: 1.0000 - val_loss: 0.0329 - val_acc: 1.0000\n",
      "Epoch 10/10\n",
      "129/129 [==============================] - 0s 3ms/step - loss: 0.0326 - acc: 1.0000 - val_loss: 0.0321 - val_acc: 1.0000\n",
      "WARNING:tensorflow:Please add `keras.layers.InputLayer` instead of `keras.Input` to Sequential model. `keras.Input` is intended to be used by Functional model.\n"
     ]
    },
    {
     "data": {
      "image/png": "[encoded data removed]",
      "text/plain": [
       "<Figure size 432x288 with 2 Axes>"
      ]
     },
     "metadata": {
      "needs_background": "light"
     },
     "output_type": "display_data"
    }
   ],
   "source": [
    "sym_detector = symdet.GroupDetection(model, double_well_potential.clustered_data)\n",
    "point_cloud = sym_detector.run_symmetry_detection(plot=True)"
   ]
  },
  {
   "cell_type": "markdown",
   "metadata": {},
   "source": [
    "So now we can analyze our model! We see for the darker colours that there are always two distinct instances corresponding to the symmetry between these radial values. The duplication of these colours means that this is a symmetry group. The test now is to identify the radial values in these clusters and pass them to the generator extraction methods to characterize them."
   ]
  },
  {
   "cell_type": "code",
   "execution_count": 8,
   "metadata": {},
   "outputs": [
    {
     "data": {
      "text/plain": [
       "dict_keys([1.0, 2.0, 3.0, 4.0, 5.0])"
      ]
     },
     "execution_count": 8,
     "metadata": {},
     "output_type": "execute_result"
    }
   ],
   "source": [
    "point_cloud.keys()"
   ]
  },
  {
   "cell_type": "markdown",
   "metadata": {},
   "source": [
    "We see that the clustering has worked relatively well. This is where some caution is advised in terms of simply parsing this data along to the generator detection. If you see that one of these groups should likely not be in the set then it should be parsed along to the generator extraction stage. Alternatively, you can use a different approach for identifying the sets in the symmetry representation. In the next update we will parse this data to the generator extraction algorithm in order to get the generators of this detected symmetry group."
   ]
  }
 ],
 "metadata": {
  "kernelspec": {
   "display_name": "Python 3",
   "language": "python",
   "name": "python3"
  },
  "language_info": {
   "codemirror_mode": {
    "name": "ipython",
    "version": 3
   },
   "file_extension": ".py",
   "mimetype": "text/x-python",
   "name": "python",
   "nbconvert_exporter": "python",
   "pygments_lexer": "ipython3",
   "version": "3.8.5"
  }
 },
 "nbformat": 4,
 "nbformat_minor": 1
}
