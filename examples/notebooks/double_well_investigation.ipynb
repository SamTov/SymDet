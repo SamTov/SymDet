{
 "cells": [
  {
   "cell_type": "markdown",
   "metadata": {
    "collapsed": true
   },
   "source": [
    "# Double Well Potential Symmetry Visualization"
   ]
  },
  {
   "cell_type": "markdown",
   "metadata": {},
   "source": [
    "In this notebook we will perform symmetry group visualization on some double well potential data.\n",
    "\n",
    "The imports for this one are quite numerous as we are doing the analysis piece by piece. Once there is a bridge between group detection and generator extraction I will add some generalzed methods for doing some of this automatically. Let's quickly mention what we are importing.\n",
    "\n",
    "1. The class for a Double Well Potential. This is just for some test data generation.\n",
    "2. DenseModel is a class written to take care of setting up and deploying a neural network.\n",
    "3. DataCluster is reponsible for taking raw potential data and partitioning it into classes for the classification problems.\n",
    "3. Group detection performs the TSNE reduction and finds our symmetry groups"
   ]
  },
  {
   "cell_type": "markdown",
   "metadata": {},
   "source": [
    "from symdet.test_systems.double_well_potential import DoubleWellPotential\n",
    "from symdet.models.dense_model import DenseModel\n",
    "from symdet.symmetry_groups.data_clustering import DataCluster\n",
    "from symdet.symmetry_groups.group_detection import GroupDetection"
   ]
  },
  {
   "cell_type": "code",
   "execution_count": 1,
   "metadata": {},
   "outputs": [],
   "source": [
    "from symdet.test_systems.double_well_potential import DoubleWellPotential\n",
    "from symdet.models.dense_model import DenseModel\n",
    "from symdet.symmetry_groups.data_clustering import DataCluster\n",
    "from symdet.symmetry_groups.group_detection import GroupDetection"
   ]
  },
  {
   "cell_type": "markdown",
   "metadata": {},
   "source": [
    "###  Preparing data\n",
    "So you want to prepare some simple data from a double well potential so that we can identify some symmetry groups. Luckily, we were prepared for this scenario and wrote a class just for you!"
   ]
  },
  {
   "cell_type": "code",
   "execution_count": 2,
   "metadata": {},
   "outputs": [],
   "source": [
    "double_well_potential = DoubleWellPotential(a=2.4)"
   ]
  },
  {
   "cell_type": "markdown",
   "metadata": {},
   "source": [
    "As simple as that we have a double well potential. But we can also take a look at it."
   ]
  },
  {
   "cell_type": "code",
   "execution_count": 3,
   "metadata": {},
   "outputs": [
    {
     "data": {
      "image/png": "[encoded data removed]",
      "text/plain": [
       "<Figure size 432x288 with 1 Axes>"
      ]
     },
     "metadata": {
      "needs_background": "light"
     },
     "output_type": "display_data"
    }
   ],
   "source": [
    "double_well_potential.plot_potential()"
   ]
  },
  {
   "cell_type": "markdown",
   "metadata": {},
   "source": [
    "### Preparing the classes\n",
    "\n",
    "We now have to cluster the data to set up the machine learning problem for later. We define the clusters using the value range and bin operation. In this case we are binning the data in clusters of [ k/5 -1e-3, k/5 + 1e-3 ] with k in [-5, 5]"
   ]
  },
  {
   "cell_type": "code",
   "execution_count": 4,
   "metadata": {},
   "outputs": [],
   "source": [
    "clustering = DataCluster(double_well_potential.get_function_values())\n",
    "training_data = clustering.range_binning(value_range=[-5, 5],\n",
    "                                         bin_operation=[1 / 5, 1e-3],\n",
    "                                         representatives=1000,\n",
    "                                         plot=False)"
   ]
  },
  {
   "cell_type": "markdown",
   "metadata": {},
   "source": [
    "### Preparing the model\n",
    "\n",
    "We want to use a deep and wide neural network so as to encode a high dimensional representation. "
   ]
  },
  {
   "cell_type": "code",
   "execution_count": 5,
   "metadata": {},
   "outputs": [],
   "source": [
    "model = DenseModel(training_data,\n",
    "                   n_layers=7,\n",
    "                   units=80,\n",
    "                   epochs=10,\n",
    "                   batch_size=64,\n",
    "                   lr=0.00025)"
   ]
  },
  {
   "cell_type": "markdown",
   "metadata": {},
   "source": [
    "### Running the analysis\n",
    "\n",
    "The next steps are to define a group detection object with the cluster object we used earlier as well as the model to use in training.\n",
    "\n",
    "We then simply run the symmetry detection and can visualize the symmetry relationship."
   ]
  },
  {
   "cell_type": "code",
   "execution_count": 6,
   "metadata": {
    "scrolled": false
   },
   "outputs": [
    {
     "name": "stdout",
     "output_type": "stream",
     "text": [
      "Model: \"sequential\"\n",
      "_________________________________________________________________\n",
      "Layer (type)                 Output Shape              Param #   \n",
      "=================================================================\n",
      "dense (Dense)                (None, 80)                160       \n",
      "_________________________________________________________________\n",
      "dense_1 (Dense)              (None, 80)                6480      \n",
      "_________________________________________________________________\n",
      "dense_2 (Dense)              (None, 80)                6480      \n",
      "_________________________________________________________________\n",
      "dense_3 (Dense)              (None, 80)                6480      \n",
      "_________________________________________________________________\n",
      "dense_4 (Dense)              (None, 80)                6480      \n",
      "_________________________________________________________________\n",
      "second_last_layer (Dense)    (None, 80)                6480      \n",
      "_________________________________________________________________\n",
      "embedding_layer (Dense)      (None, 80)                6480      \n",
      "_________________________________________________________________\n",
      "softmax_layer (Dense)        (None, 11)                891       \n",
      "=================================================================\n",
      "Total params: 39,931\n",
      "Trainable params: 39,931\n",
      "Non-trainable params: 0\n",
      "_________________________________________________________________\n",
      "None\n",
      "Epoch 1/10\n",
      "86/86 [==============================] - 3s 11ms/step - loss: 2.4662 - acc: 0.1394 - val_loss: 2.4150 - val_acc: 0.2227\n",
      "Epoch 2/10\n",
      "86/86 [==============================] - 0s 3ms/step - loss: 2.3903 - acc: 0.1822 - val_loss: 2.2368 - val_acc: 0.1727\n",
      "Epoch 3/10\n",
      "86/86 [==============================] - 0s 3ms/step - loss: 2.1559 - acc: 0.1874 - val_loss: 1.9076 - val_acc: 0.3536\n",
      "Epoch 4/10\n",
      "86/86 [==============================] - 0s 3ms/step - loss: 1.8479 - acc: 0.3422 - val_loss: 1.6219 - val_acc: 0.4036\n",
      "Epoch 5/10\n",
      "86/86 [==============================] - 0s 3ms/step - loss: 1.5881 - acc: 0.3683 - val_loss: 1.4332 - val_acc: 0.5976\n",
      "Epoch 6/10\n",
      "86/86 [==============================] - 0s 3ms/step - loss: 1.3797 - acc: 0.5331 - val_loss: 1.2393 - val_acc: 0.5070\n",
      "Epoch 7/10\n",
      "86/86 [==============================] - 0s 3ms/step - loss: 1.2152 - acc: 0.5500 - val_loss: 1.0843 - val_acc: 0.7294\n",
      "Epoch 8/10\n",
      "86/86 [==============================] - 0s 3ms/step - loss: 1.0662 - acc: 0.6345 - val_loss: 0.9459 - val_acc: 0.6715\n",
      "Epoch 9/10\n",
      "86/86 [==============================] - 0s 3ms/step - loss: 0.9337 - acc: 0.6961 - val_loss: 0.8478 - val_acc: 0.6773\n",
      "Epoch 10/10\n",
      "86/86 [==============================] - 0s 3ms/step - loss: 0.8348 - acc: 0.7727 - val_loss: 0.7624 - val_acc: 0.6209\n",
      "Epoch 1/10\n",
      "86/86 [==============================] - 0s 3ms/step - loss: 0.7078 - acc: 0.8855 - val_loss: 0.7034 - val_acc: 0.6209\n",
      "Epoch 2/10\n",
      "86/86 [==============================] - 0s 3ms/step - loss: 0.6553 - acc: 0.8756 - val_loss: 0.5857 - val_acc: 0.9588\n",
      "Epoch 3/10\n",
      "86/86 [==============================] - 0s 3ms/step - loss: 0.5649 - acc: 0.9480 - val_loss: 0.5211 - val_acc: 1.0000\n",
      "Epoch 4/10\n",
      "86/86 [==============================] - 0s 3ms/step - loss: 0.5188 - acc: 0.9187 - val_loss: 0.4659 - val_acc: 1.0000\n",
      "Epoch 5/10\n",
      "86/86 [==============================] - 0s 3ms/step - loss: 0.4572 - acc: 0.9704 - val_loss: 0.5228 - val_acc: 0.7770\n",
      "Epoch 6/10\n",
      "86/86 [==============================] - 0s 3ms/step - loss: 0.4098 - acc: 0.9836 - val_loss: 0.3672 - val_acc: 1.0000\n",
      "Epoch 7/10\n",
      "86/86 [==============================] - 0s 3ms/step - loss: 0.3516 - acc: 0.9918 - val_loss: 0.3445 - val_acc: 0.9588\n",
      "Epoch 8/10\n",
      "86/86 [==============================] - 0s 3ms/step - loss: 0.3504 - acc: 0.9645 - val_loss: 0.2852 - val_acc: 1.0000\n",
      "Epoch 9/10\n",
      "86/86 [==============================] - 0s 3ms/step - loss: 0.2753 - acc: 1.0000 - val_loss: 0.2487 - val_acc: 1.0000\n",
      "Epoch 10/10\n",
      "86/86 [==============================] - 0s 3ms/step - loss: 0.2430 - acc: 1.0000 - val_loss: 0.2161 - val_acc: 1.0000\n",
      "Epoch 1/10\n",
      "86/86 [==============================] - 0s 3ms/step - loss: 0.2132 - acc: 1.0000 - val_loss: 0.1929 - val_acc: 1.0000\n",
      "Epoch 2/10\n",
      "86/86 [==============================] - 0s 3ms/step - loss: 0.1882 - acc: 1.0000 - val_loss: 0.1799 - val_acc: 1.0000\n",
      "Epoch 3/10\n",
      "86/86 [==============================] - 0s 3ms/step - loss: 0.1696 - acc: 1.0000 - val_loss: 0.1491 - val_acc: 1.0000\n",
      "Epoch 4/10\n",
      "86/86 [==============================] - 0s 3ms/step - loss: 0.1519 - acc: 1.0000 - val_loss: 0.1367 - val_acc: 1.0000\n",
      "Epoch 5/10\n",
      "86/86 [==============================] - 0s 3ms/step - loss: 0.1287 - acc: 1.0000 - val_loss: 0.1229 - val_acc: 1.0000\n",
      "Epoch 6/10\n",
      "86/86 [==============================] - 0s 3ms/step - loss: 0.1150 - acc: 1.0000 - val_loss: 0.1060 - val_acc: 1.0000\n",
      "Epoch 7/10\n",
      "86/86 [==============================] - 0s 3ms/step - loss: 0.1024 - acc: 1.0000 - val_loss: 0.0958 - val_acc: 1.0000\n",
      "Epoch 8/10\n",
      "86/86 [==============================] - 0s 3ms/step - loss: 0.0933 - acc: 1.0000 - val_loss: 0.0904 - val_acc: 1.0000\n",
      "Epoch 9/10\n",
      "86/86 [==============================] - 0s 3ms/step - loss: 0.0845 - acc: 1.0000 - val_loss: 0.0810 - val_acc: 1.0000\n",
      "Epoch 10/10\n",
      "86/86 [==============================] - 0s 3ms/step - loss: 0.0770 - acc: 1.0000 - val_loss: 0.0745 - val_acc: 1.0000\n",
      "Epoch 1/10\n",
      "86/86 [==============================] - 0s 4ms/step - loss: 0.0726 - acc: 1.0000 - val_loss: 0.0695 - val_acc: 1.0000\n",
      "Epoch 2/10\n",
      "86/86 [==============================] - 0s 3ms/step - loss: 0.0651 - acc: 1.0000 - val_loss: 0.0612 - val_acc: 1.0000\n",
      "Epoch 3/10\n",
      "86/86 [==============================] - 0s 3ms/step - loss: 0.0606 - acc: 1.0000 - val_loss: 0.0573 - val_acc: 1.0000\n",
      "Epoch 4/10\n",
      "86/86 [==============================] - 0s 3ms/step - loss: 0.0566 - acc: 1.0000 - val_loss: 0.0540 - val_acc: 1.0000\n",
      "Epoch 5/10\n",
      "86/86 [==============================] - 0s 3ms/step - loss: 0.0540 - acc: 1.0000 - val_loss: 0.0512 - val_acc: 1.0000\n",
      "Epoch 6/10\n",
      "86/86 [==============================] - 0s 3ms/step - loss: 0.0506 - acc: 1.0000 - val_loss: 0.0493 - val_acc: 1.0000\n",
      "Epoch 7/10\n",
      "86/86 [==============================] - 0s 3ms/step - loss: 0.0485 - acc: 1.0000 - val_loss: 0.0465 - val_acc: 1.0000\n",
      "Epoch 8/10\n",
      "86/86 [==============================] - 0s 3ms/step - loss: 0.0466 - acc: 1.0000 - val_loss: 0.0475 - val_acc: 1.0000\n",
      "Epoch 9/10\n",
      "86/86 [==============================] - 0s 3ms/step - loss: 0.0447 - acc: 1.0000 - val_loss: 0.0430 - val_acc: 1.0000\n",
      "Epoch 10/10\n",
      "86/86 [==============================] - 0s 3ms/step - loss: 0.0428 - acc: 1.0000 - val_loss: 0.0416 - val_acc: 1.0000\n",
      "Epoch 1/10\n",
      "86/86 [==============================] - 0s 3ms/step - loss: 0.0414 - acc: 1.0000 - val_loss: 0.0402 - val_acc: 1.0000\n",
      "Epoch 2/10\n",
      "86/86 [==============================] - 0s 3ms/step - loss: 0.0401 - acc: 1.0000 - val_loss: 0.0394 - val_acc: 1.0000\n",
      "Epoch 3/10\n",
      "86/86 [==============================] - 0s 3ms/step - loss: 0.0390 - acc: 1.0000 - val_loss: 0.0381 - val_acc: 1.0000\n",
      "Epoch 4/10\n",
      "86/86 [==============================] - 0s 3ms/step - loss: 0.0378 - acc: 1.0000 - val_loss: 0.0371 - val_acc: 1.0000\n",
      "Epoch 5/10\n",
      "86/86 [==============================] - 0s 3ms/step - loss: 0.0369 - acc: 1.0000 - val_loss: 0.0365 - val_acc: 1.0000\n",
      "Epoch 6/10\n",
      "86/86 [==============================] - 0s 3ms/step - loss: 0.0360 - acc: 1.0000 - val_loss: 0.0355 - val_acc: 1.0000\n",
      "Epoch 7/10\n",
      "86/86 [==============================] - 0s 3ms/step - loss: 0.0352 - acc: 1.0000 - val_loss: 0.0348 - val_acc: 1.0000\n",
      "Epoch 8/10\n",
      "86/86 [==============================] - 0s 3ms/step - loss: 0.0346 - acc: 1.0000 - val_loss: 0.0341 - val_acc: 1.0000\n",
      "Epoch 9/10\n",
      "86/86 [==============================] - 0s 3ms/step - loss: 0.0338 - acc: 1.0000 - val_loss: 0.0335 - val_acc: 1.0000\n",
      "Epoch 10/10\n",
      "86/86 [==============================] - 0s 3ms/step - loss: 0.0332 - acc: 1.0000 - val_loss: 0.0328 - val_acc: 1.0000\n"
     ]
    },
    {
     "data": {
      "image/png": "[encoded data removed]",
      "text/plain": [
       "<Figure size 432x288 with 2 Axes>"
      ]
     },
     "metadata": {
      "needs_background": "light"
     },
     "output_type": "display_data"
    }
   ],
   "source": [
    "sym_detector = GroupDetection(model, clustering)\n",
    "sym_detector.run_symmetry_detection(plot=True)"
   ]
  },
  {
   "cell_type": "markdown",
   "metadata": {},
   "source": [
    "So now we can analyze our model!We see for the darker colours that there are always two distinct instances corresponding to the symmetry between these radial values. The duplication of these colours means that this is a symmetry group. The test now is to identify the radial values in these clusters and pass them to the generator extraction methods to characterize them."
   ]
  }
 ],
 "metadata": {
  "kernelspec": {
   "display_name": "Python 3",
   "language": "python",
   "name": "python3"
  },
  "language_info": {
   "codemirror_mode": {
    "name": "ipython",
    "version": 3
   },
   "file_extension": ".py",
   "mimetype": "text/x-python",
   "name": "python",
   "nbconvert_exporter": "python",
   "pygments_lexer": "ipython3",
   "version": "3.8.5"
  }
 },
 "nbformat": 4,
 "nbformat_minor": 1
}
