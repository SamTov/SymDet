{
 "cells": [
  {
   "cell_type": "markdown",
   "metadata": {
    "collapsed": true
   },
   "source": [
    "# Double Well Potential Symmetry Visualization"
   ]
  },
  {
   "cell_type": "markdown",
   "metadata": {},
   "source": [
    "In this notebook we will perform symmetry group visualization on some double well potential data.\n",
    "\n",
    "The imports for this one are quite numerous as we are doing the analysis piece by piece. Once there is a bridge between group detection and generator extraction I will add some generalzed methods for doing some of this automatically. Let's quickly mention what we are importing.\n",
    "\n",
    "1. The class for a Double Well Potential. This is just for some test data generation.\n",
    "2. DenseModel is a class written to take care of setting up and deploying a neural network.\n",
    "3. DataCluster is reponsible for taking raw potential data and partitioning it into classes for the classification problems.\n",
    "3. Group detection performs the TSNE reduction and finds our symmetry groups"
   ]
  },
  {
   "cell_type": "markdown",
   "metadata": {},
   "source": [
    "from symdet.test_systems.double_well_potential import DoubleWellPotential\n",
    "from symdet.models.dense_model import DenseModel\n",
    "from symdet.symmetry_groups.data_clustering import DataCluster\n",
    "from symdet.symmetry_groups.group_detection import GroupDetection"
   ]
  },
  {
   "cell_type": "code",
   "execution_count": 1,
   "metadata": {},
   "outputs": [],
   "source": [
    "import symdet"
   ]
  },
  {
   "cell_type": "markdown",
   "metadata": {},
   "source": [
    "###  Preparing data\n",
    "So you want to prepare some simple data from a double well potential so that we can identify some symmetry groups. Luckily, we were prepared for this scenario and wrote a class just for you!"
   ]
  },
  {
   "cell_type": "code",
   "execution_count": 2,
   "metadata": {},
   "outputs": [],
   "source": [
    "double_well_potential = symdet.DoubleWellPotential(a=2.4)"
   ]
  },
  {
   "cell_type": "markdown",
   "metadata": {},
   "source": [
    "As simple as that we have a double well potential. But we can also take a look at it."
   ]
  },
  {
   "cell_type": "code",
   "execution_count": 3,
   "metadata": {},
   "outputs": [
    {
     "data": {
      "image/png": "[encoded data removed]",
      "text/plain": [
       "<Figure size 432x288 with 1 Axes>"
      ]
     },
     "metadata": {
      "needs_background": "light"
     },
     "output_type": "display_data"
    }
   ],
   "source": [
    "double_well_potential.plot_data()"
   ]
  },
  {
   "cell_type": "markdown",
   "metadata": {},
   "source": [
    "### Preparing the classes\n",
    "\n",
    "We now have to cluster the data to set up the machine learning problem for later. We define the clusters using the value range and bin operation. In this case we are binning the data in clusters of [ k/5 -1e-3, k/5 + 1e-3 ] with k in [-5, 5]. We will also visualize the clusters on the original data to aid in understanding how it was chosen."
   ]
  },
  {
   "cell_type": "code",
   "execution_count": 4,
   "metadata": {},
   "outputs": [
    {
     "name": "stdout",
     "output_type": "stream",
     "text": [
      "Loading additional data.\n"
     ]
    }
   ],
   "source": [
    "double_well_potential.build_clusters(representatives=1500)"
   ]
  },
  {
   "cell_type": "code",
   "execution_count": 5,
   "metadata": {},
   "outputs": [
    {
     "name": "stderr",
     "output_type": "stream",
     "text": [
      "100%|████████████████████████████████| 11/11 [00:00<00:00, 349.53it/s]\n"
     ]
    },
    {
     "data": {
      "image/png": "[encoded data removed]",
      "text/plain": [
       "<Figure size 432x288 with 1 Axes>"
      ]
     },
     "metadata": {
      "needs_background": "light"
     },
     "output_type": "display_data"
    }
   ],
   "source": [
    "double_well_potential.plot_clusters()"
   ]
  },
  {
   "cell_type": "markdown",
   "metadata": {},
   "source": [
    "### Preparing the model\n",
    "\n",
    "We want to use a deep and wide neural network so as to encode a high dimensional representation. "
   ]
  },
  {
   "cell_type": "code",
   "execution_count": 7,
   "metadata": {},
   "outputs": [],
   "source": [
    "model = symdet.DenseModel(n_layers=7,\n",
    "                          units=80,\n",
    "                          epochs=10,\n",
    "                          batch_size=64,\n",
    "                          lr=0.00025)"
   ]
  },
  {
   "cell_type": "markdown",
   "metadata": {},
   "source": [
    "### Running the analysis\n",
    "\n",
    "The next steps are to define a group detection object with the cluster object we used earlier as well as the model to use in training.\n",
    "\n",
    "We then simply run the symmetry detection and can visualize the symmetry relationship."
   ]
  },
  {
   "cell_type": "code",
   "execution_count": 8,
   "metadata": {
    "scrolled": false
   },
   "outputs": [
    {
     "name": "stdout",
     "output_type": "stream",
     "text": [
      "WARNING:tensorflow:Please add `keras.layers.InputLayer` instead of `keras.Input` to Sequential model. `keras.Input` is intended to be used by Functional model.\n",
      "Model: \"sequential\"\n",
      "_________________________________________________________________\n",
      "Layer (type)                 Output Shape              Param #   \n",
      "=================================================================\n",
      "dense (Dense)                (None, 80)                240       \n",
      "_________________________________________________________________\n",
      "dense_1 (Dense)              (None, 80)                6480      \n",
      "_________________________________________________________________\n",
      "dense_2 (Dense)              (None, 80)                6480      \n",
      "_________________________________________________________________\n",
      "dense_3 (Dense)              (None, 80)                6480      \n",
      "_________________________________________________________________\n",
      "dense_4 (Dense)              (None, 80)                6480      \n",
      "_________________________________________________________________\n",
      "second_last_layer (Dense)    (None, 80)                6480      \n",
      "_________________________________________________________________\n",
      "embedding_layer (Dense)      (None, 80)                6480      \n",
      "_________________________________________________________________\n",
      "softmax_layer (Dense)        (None, 11)                891       \n",
      "=================================================================\n",
      "Total params: 40,011\n",
      "Trainable params: 40,011\n",
      "Non-trainable params: 0\n",
      "_________________________________________________________________\n",
      "None\n",
      "Epoch 1/10\n",
      "86/86 [==============================] - 3s 8ms/step - loss: 2.4452 - acc: 0.1462 - val_loss: 2.3937 - val_acc: 0.1521\n",
      "Epoch 2/10\n",
      "86/86 [==============================] - 0s 6ms/step - loss: 2.3023 - acc: 0.1942 - val_loss: 2.1785 - val_acc: 0.1915\n",
      "Epoch 3/10\n",
      "86/86 [==============================] - 0s 5ms/step - loss: 2.0809 - acc: 0.2420 - val_loss: 1.9495 - val_acc: 0.3045\n",
      "Epoch 4/10\n",
      "86/86 [==============================] - 0s 6ms/step - loss: 1.8161 - acc: 0.3478 - val_loss: 1.6467 - val_acc: 0.4094\n",
      "Epoch 5/10\n",
      "86/86 [==============================] - 0s 6ms/step - loss: 1.5282 - acc: 0.4702 - val_loss: 1.4287 - val_acc: 0.4855\n",
      "Epoch 6/10\n",
      "86/86 [==============================] - 1s 6ms/step - loss: 1.2979 - acc: 0.5609 - val_loss: 1.2150 - val_acc: 0.5779\n",
      "Epoch 7/10\n",
      "86/86 [==============================] - 1s 6ms/step - loss: 1.1628 - acc: 0.5756 - val_loss: 1.0674 - val_acc: 0.6164\n",
      "Epoch 8/10\n",
      "86/86 [==============================] - 0s 6ms/step - loss: 1.0075 - acc: 0.6725 - val_loss: 0.9446 - val_acc: 0.7524\n",
      "Epoch 9/10\n",
      "86/86 [==============================] - 1s 7ms/step - loss: 0.9044 - acc: 0.7225 - val_loss: 0.8677 - val_acc: 0.6494\n",
      "Epoch 10/10\n",
      "86/86 [==============================] - 1s 6ms/step - loss: 0.8106 - acc: 0.7962 - val_loss: 0.7599 - val_acc: 0.8297\n",
      "Epoch 1/10\n",
      "86/86 [==============================] - 1s 6ms/step - loss: 0.7669 - acc: 0.7662 - val_loss: 0.7276 - val_acc: 0.7348\n",
      "Epoch 2/10\n",
      "86/86 [==============================] - 0s 5ms/step - loss: 0.6808 - acc: 0.8604 - val_loss: 0.6386 - val_acc: 0.8921\n",
      "Epoch 3/10\n",
      "86/86 [==============================] - 1s 6ms/step - loss: 0.6129 - acc: 0.9236 - val_loss: 0.5824 - val_acc: 0.9915\n",
      "Epoch 4/10\n",
      "86/86 [==============================] - 1s 6ms/step - loss: 0.5605 - acc: 0.9422 - val_loss: 0.5768 - val_acc: 0.8324\n",
      "Epoch 5/10\n",
      "86/86 [==============================] - 0s 6ms/step - loss: 0.5394 - acc: 0.9173 - val_loss: 0.5038 - val_acc: 0.9764\n",
      "Epoch 6/10\n",
      "86/86 [==============================] - 1s 6ms/step - loss: 0.4803 - acc: 0.9475 - val_loss: 0.4603 - val_acc: 0.9948\n",
      "Epoch 7/10\n",
      "86/86 [==============================] - 1s 6ms/step - loss: 0.4250 - acc: 0.9825 - val_loss: 0.5178 - val_acc: 0.8879\n",
      "Epoch 8/10\n",
      "86/86 [==============================] - 0s 5ms/step - loss: 0.4108 - acc: 0.9658 - val_loss: 0.3574 - val_acc: 1.0000\n",
      "Epoch 9/10\n",
      "86/86 [==============================] - 1s 7ms/step - loss: 0.3681 - acc: 0.9749 - val_loss: 0.3243 - val_acc: 1.0000\n",
      "Epoch 10/10\n",
      "86/86 [==============================] - 0s 5ms/step - loss: 0.3622 - acc: 0.9618 - val_loss: 0.3192 - val_acc: 0.9997\n",
      "Epoch 1/10\n",
      "86/86 [==============================] - 0s 6ms/step - loss: 0.2916 - acc: 0.9995 - val_loss: 0.2683 - val_acc: 1.0000\n",
      "Epoch 2/10\n",
      "86/86 [==============================] - 0s 5ms/step - loss: 0.2682 - acc: 0.9975 - val_loss: 0.2442 - val_acc: 1.0000\n",
      "Epoch 3/10\n",
      "86/86 [==============================] - 1s 6ms/step - loss: 0.2851 - acc: 0.9776 - val_loss: 0.2273 - val_acc: 1.0000\n",
      "Epoch 4/10\n",
      "86/86 [==============================] - 0s 6ms/step - loss: 0.2326 - acc: 0.9996 - val_loss: 0.2065 - val_acc: 1.0000\n",
      "Epoch 5/10\n",
      "86/86 [==============================] - 0s 4ms/step - loss: 0.2434 - acc: 0.9815 - val_loss: 0.1834 - val_acc: 1.0000\n",
      "Epoch 6/10\n",
      "86/86 [==============================] - 1s 8ms/step - loss: 0.1764 - acc: 1.0000 - val_loss: 0.1805 - val_acc: 1.0000\n",
      "Epoch 7/10\n",
      "86/86 [==============================] - 1s 6ms/step - loss: 0.1669 - acc: 1.0000 - val_loss: 0.1526 - val_acc: 1.0000\n",
      "Epoch 8/10\n",
      "86/86 [==============================] - 1s 6ms/step - loss: 0.1514 - acc: 1.0000 - val_loss: 0.1466 - val_acc: 1.0000\n",
      "Epoch 9/10\n",
      "86/86 [==============================] - 0s 6ms/step - loss: 0.1406 - acc: 1.0000 - val_loss: 0.1322 - val_acc: 1.0000\n",
      "Epoch 10/10\n",
      "86/86 [==============================] - 1s 6ms/step - loss: 0.1254 - acc: 1.0000 - val_loss: 0.1194 - val_acc: 1.0000\n",
      "Epoch 1/10\n",
      "86/86 [==============================] - 1s 6ms/step - loss: 0.1157 - acc: 1.0000 - val_loss: 0.1113 - val_acc: 1.0000\n",
      "Epoch 2/10\n",
      "86/86 [==============================] - 1s 6ms/step - loss: 0.1093 - acc: 1.0000 - val_loss: 0.1041 - val_acc: 1.0000\n",
      "Epoch 3/10\n",
      "86/86 [==============================] - 1s 7ms/step - loss: 0.0990 - acc: 1.0000 - val_loss: 0.0959 - val_acc: 1.0000\n",
      "Epoch 4/10\n",
      "86/86 [==============================] - 1s 6ms/step - loss: 0.0921 - acc: 1.0000 - val_loss: 0.0886 - val_acc: 1.0000\n",
      "Epoch 5/10\n",
      "86/86 [==============================] - 1s 6ms/step - loss: 0.0869 - acc: 1.0000 - val_loss: 0.0871 - val_acc: 1.0000\n",
      "Epoch 6/10\n",
      "86/86 [==============================] - 0s 6ms/step - loss: 0.0840 - acc: 1.0000 - val_loss: 0.0820 - val_acc: 1.0000\n",
      "Epoch 7/10\n",
      "86/86 [==============================] - 0s 6ms/step - loss: 0.0820 - acc: 1.0000 - val_loss: 0.0785 - val_acc: 1.0000\n",
      "Epoch 8/10\n",
      "86/86 [==============================] - 1s 6ms/step - loss: 0.0735 - acc: 1.0000 - val_loss: 0.0712 - val_acc: 1.0000\n",
      "Epoch 9/10\n",
      "86/86 [==============================] - 1s 6ms/step - loss: 0.0701 - acc: 1.0000 - val_loss: 0.0723 - val_acc: 1.0000\n",
      "Epoch 10/10\n",
      "86/86 [==============================] - 1s 7ms/step - loss: 0.0672 - acc: 1.0000 - val_loss: 0.0672 - val_acc: 1.0000\n",
      "Epoch 1/10\n",
      "86/86 [==============================] - 1s 7ms/step - loss: 0.0647 - acc: 1.0000 - val_loss: 0.0654 - val_acc: 1.0000\n",
      "Epoch 2/10\n",
      "86/86 [==============================] - 0s 6ms/step - loss: 0.0622 - acc: 1.0000 - val_loss: 0.0634 - val_acc: 1.0000\n",
      "Epoch 3/10\n",
      "86/86 [==============================] - 1s 6ms/step - loss: 0.0610 - acc: 1.0000 - val_loss: 0.0605 - val_acc: 1.0000\n",
      "Epoch 4/10\n",
      "86/86 [==============================] - 0s 5ms/step - loss: 0.0589 - acc: 1.0000 - val_loss: 0.0578 - val_acc: 1.0000\n",
      "Epoch 5/10\n",
      "86/86 [==============================] - 1s 6ms/step - loss: 0.0569 - acc: 1.0000 - val_loss: 0.0559 - val_acc: 1.0000\n",
      "Epoch 6/10\n",
      "86/86 [==============================] - 0s 6ms/step - loss: 0.0553 - acc: 1.0000 - val_loss: 0.0547 - val_acc: 1.0000\n",
      "Epoch 7/10\n",
      "86/86 [==============================] - 1s 6ms/step - loss: 0.0544 - acc: 1.0000 - val_loss: 0.0535 - val_acc: 1.0000\n",
      "Epoch 8/10\n",
      "86/86 [==============================] - 0s 6ms/step - loss: 0.0536 - acc: 1.0000 - val_loss: 0.0527 - val_acc: 1.0000\n",
      "Epoch 9/10\n",
      "86/86 [==============================] - 0s 6ms/step - loss: 0.0531 - acc: 1.0000 - val_loss: 0.0515 - val_acc: 1.0000\n",
      "Epoch 10/10\n",
      "86/86 [==============================] - 0s 6ms/step - loss: 0.0507 - acc: 1.0000 - val_loss: 0.0502 - val_acc: 1.0000\n",
      "WARNING:tensorflow:Please add `keras.layers.InputLayer` instead of `keras.Input` to Sequential model. `keras.Input` is intended to be used by Functional model.\n"
     ]
    },
    {
     "data": {
      "image/png": "[encoded data removed]",
      "text/plain": [
       "<Figure size 432x288 with 2 Axes>"
      ]
     },
     "metadata": {
      "needs_background": "light"
     },
     "output_type": "display_data"
    }
   ],
   "source": [
    "sym_detector = symdet.GroupDetection(model, double_well_potential.clustered_data)\n",
    "point_cloud = sym_detector.run_symmetry_detection(plot=True)"
   ]
  },
  {
   "cell_type": "markdown",
   "metadata": {},
   "source": [
    "So now we can analyze our model! We see for the darker colours that there are always two distinct instances corresponding to the symmetry between these radial values. The duplication of these colours means that this is a symmetry group. The test now is to identify the radial values in these clusters and pass them to the generator extraction methods to characterize them."
   ]
  },
  {
   "cell_type": "code",
   "execution_count": 9,
   "metadata": {},
   "outputs": [
    {
     "data": {
      "text/plain": [
       "dict_keys([0.0, 1.0, 2.0, 3.0, 4.0, 8.0])"
      ]
     },
     "execution_count": 9,
     "metadata": {},
     "output_type": "execute_result"
    }
   ],
   "source": [
    "point_cloud.keys()"
   ]
  },
  {
   "cell_type": "markdown",
   "metadata": {},
   "source": [
    "We see that the clustering has worked relatively well. This is where some caution is advised in terms of simply parsing this data along to the generator detection. If you see that one of these groups should likely not be in the set then it should be parsed along to the generator extraction stage. Alternatively, you can use a different approach for identifying the sets in the symmetry representation. In the next update we will parse this data to the generator extraction algorithm in order to get the generators of this detected symmetry group."
   ]
  },
  {
   "cell_type": "code",
   "execution_count": null,
   "metadata": {},
   "outputs": [],
   "source": [
    "poin"
   ]
  }
 ],
 "metadata": {
  "kernelspec": {
   "display_name": "Python 3",
   "language": "python",
   "name": "python3"
  },
  "language_info": {
   "codemirror_mode": {
    "name": "ipython",
    "version": 3
   },
   "file_extension": ".py",
   "mimetype": "text/x-python",
   "name": "python",
   "nbconvert_exporter": "python",
   "pygments_lexer": "ipython3",
   "version": "3.8.5"
  }
 },
 "nbformat": 4,
 "nbformat_minor": 1
}
