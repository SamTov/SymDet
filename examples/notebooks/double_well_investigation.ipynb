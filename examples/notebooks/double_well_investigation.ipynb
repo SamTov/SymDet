{
 "cells": [
  {
   "cell_type": "markdown",
   "metadata": {
    "collapsed": true
   },
   "source": [
    "# Double Well Potential Symmetry Visualization"
   ]
  },
  {
   "cell_type": "markdown",
   "metadata": {},
   "source": [
    "In this notebook we will perform symmetry group visualization on some double well potential data.\n",
    "\n",
    "The imports for this one are quite numerous as we are doing the analysis piece by piece. Once there is a bridge between group detection and generator extraction I will add some generalzed methods for doing some of this automatically. Let's quickly mention what we are importing.\n",
    "\n",
    "1. The class for a Double Well Potential. This is just for some test data generation.\n",
    "2. DenseModel is a class written to take care of setting up and deploying a neural network.\n",
    "3. DataCluster is reponsible for taking raw potential data and partitioning it into classes for the classification problems.\n",
    "3. Group detection performs the TSNE reduction and finds our symmetry groups"
   ]
  },
  {
   "cell_type": "markdown",
   "metadata": {},
   "source": [
    "from symdet.test_systems.double_well_potential import DoubleWellPotential\n",
    "from symdet.models.dense_model import DenseModel\n",
    "from symdet.symmetry_groups.data_clustering import DataCluster\n",
    "from symdet.symmetry_groups.group_detection import GroupDetection"
   ]
  },
  {
   "cell_type": "code",
   "execution_count": 1,
   "metadata": {},
   "outputs": [
    {
     "name": "stderr",
     "output_type": "stream",
     "text": [
      "/Users/samueltovey/miniconda3/envs/zincware/lib/python3.8/site-packages/scipy/__init__.py:146: UserWarning: A NumPy version >=1.16.5 and <1.23.0 is required for this version of SciPy (detected version 1.23.1\n",
      "  warnings.warn(f\"A NumPy version >={np_minversion} and <{np_maxversion}\"\n"
     ]
    }
   ],
   "source": [
    "import symsuite"
   ]
  },
  {
   "cell_type": "markdown",
   "metadata": {},
   "source": [
    "###  Preparing data\n",
    "So you want to prepare some simple data from a double well potential so that we can identify some symmetry groups. Luckily, we were prepared for this scenario and wrote a class just for you!"
   ]
  },
  {
   "cell_type": "code",
   "execution_count": 2,
   "metadata": {},
   "outputs": [],
   "source": [
    "double_well_potential = symsuite.DoubleWellPotential(a=2.4)"
   ]
  },
  {
   "cell_type": "markdown",
   "metadata": {},
   "source": [
    "As simple as that we have a double well potential. But we can also take a look at it."
   ]
  },
  {
   "cell_type": "code",
   "execution_count": 3,
   "metadata": {},
   "outputs": [
    {
     "name": "stderr",
     "output_type": "stream",
     "text": [
      "WARNING:absl:No GPU/TPU found, falling back to CPU. (Set TF_CPP_MIN_LOG_LEVEL=0 and rerun for more info.)\n"
     ]
    },
    {
     "data": {
      "image/png": "[encoded data removed]",
      "text/plain": [
       "<Figure size 432x288 with 1 Axes>"
      ]
     },
     "metadata": {
      "needs_background": "light"
     },
     "output_type": "display_data"
    }
   ],
   "source": [
    "double_well_potential.plot_data()"
   ]
  },
  {
   "cell_type": "markdown",
   "metadata": {},
   "source": [
    "### Preparing the classes\n",
    "\n",
    "We now have to cluster the data to set up the machine learning problem for later. We define the clusters using the value range and bin operation. In this case we are binning the data in clusters of [ k/5 -1e-3, k/5 + 1e-3 ] with k in [-5, 5]. We will also visualize the clusters on the original data to aid in understanding how it was chosen."
   ]
  },
  {
   "cell_type": "code",
   "execution_count": 4,
   "metadata": {},
   "outputs": [
    {
     "name": "stdout",
     "output_type": "stream",
     "text": [
      "Loading additional data.\n",
      "WARNING: Not enough data! Some classes will be under-represented.\n"
     ]
    }
   ],
   "source": [
    "double_well_potential.build_clusters(representatives=1500)"
   ]
  },
  {
   "cell_type": "code",
   "execution_count": 5,
   "metadata": {},
   "outputs": [
    {
     "name": "stderr",
     "output_type": "stream",
     "text": [
      "100%|█████████████████████████████████| 11/11 [00:00<00:00, 81.40it/s]\n"
     ]
    },
    {
     "data": {
      "image/png": "[encoded data removed]",
      "text/plain": [
       "<Figure size 432x288 with 1 Axes>"
      ]
     },
     "metadata": {
      "needs_background": "light"
     },
     "output_type": "display_data"
    }
   ],
   "source": [
    "double_well_potential.plot_clusters(save=True)"
   ]
  },
  {
   "cell_type": "markdown",
   "metadata": {},
   "source": [
    "### Preparing the model\n",
    "\n",
    "We want to use a deep and wide neural network so as to encode a high dimensional representation. "
   ]
  },
  {
   "cell_type": "code",
   "execution_count": 6,
   "metadata": {},
   "outputs": [],
   "source": [
    "model = symsuite.DenseModel(n_layers=7,\n",
    "                          units=80,\n",
    "                          epochs=10,\n",
    "                          batch_size=64,\n",
    "                          lr=0.00025)"
   ]
  },
  {
   "cell_type": "markdown",
   "metadata": {},
   "source": [
    "### Running the analysis\n",
    "\n",
    "The next steps are to define a group detection object with the cluster object we used earlier as well as the model to use in training.\n",
    "\n",
    "We then simply run the symmetry detection and can visualize the symmetry relationship."
   ]
  },
  {
   "cell_type": "code",
   "execution_count": 7,
   "metadata": {
    "scrolled": false
   },
   "outputs": [
    {
     "name": "stdout",
     "output_type": "stream",
     "text": [
      "WARNING:tensorflow:Please add `keras.layers.InputLayer` instead of `keras.Input` to Sequential model. `keras.Input` is intended to be used by Functional model.\n",
      "Model: \"sequential\"\n",
      "_________________________________________________________________\n",
      "Layer (type)                 Output Shape              Param #   \n",
      "=================================================================\n",
      "dense (Dense)                (None, 80)                240       \n",
      "_________________________________________________________________\n",
      "dense_1 (Dense)              (None, 80)                6480      \n",
      "_________________________________________________________________\n",
      "dense_2 (Dense)              (None, 80)                6480      \n",
      "_________________________________________________________________\n",
      "dense_3 (Dense)              (None, 80)                6480      \n",
      "_________________________________________________________________\n",
      "dense_4 (Dense)              (None, 80)                6480      \n",
      "_________________________________________________________________\n",
      "second_last_layer (Dense)    (None, 80)                6480      \n",
      "_________________________________________________________________\n",
      "embedding_layer (Dense)      (None, 80)                6480      \n",
      "_________________________________________________________________\n",
      "softmax_layer (Dense)        (None, 11)                891       \n",
      "=================================================================\n",
      "Total params: 40,011\n",
      "Trainable params: 40,011\n",
      "Non-trainable params: 0\n",
      "_________________________________________________________________\n",
      "None\n",
      "Epoch 1/10\n",
      "129/129 [==============================] - 1s 3ms/step - loss: 2.4199 - acc: 0.1345 - val_loss: 2.3188 - val_acc: 0.1834\n",
      "Epoch 2/10\n",
      "129/129 [==============================] - 0s 2ms/step - loss: 2.1209 - acc: 0.2170 - val_loss: 1.9121 - val_acc: 0.3030\n",
      "Epoch 3/10\n",
      "129/129 [==============================] - 0s 2ms/step - loss: 1.7055 - acc: 0.3783 - val_loss: 1.4645 - val_acc: 0.5499\n",
      "Epoch 4/10\n",
      "129/129 [==============================] - 0s 2ms/step - loss: 1.2875 - acc: 0.5899 - val_loss: 1.1670 - val_acc: 0.5695\n",
      "Epoch 5/10\n",
      "129/129 [==============================] - 0s 2ms/step - loss: 0.9879 - acc: 0.7190 - val_loss: 0.8416 - val_acc: 0.8119\n",
      "Epoch 6/10\n",
      "129/129 [==============================] - 0s 2ms/step - loss: 0.7709 - acc: 0.8487 - val_loss: 0.6611 - val_acc: 0.9354\n",
      "Epoch 7/10\n",
      "129/129 [==============================] - 0s 2ms/step - loss: 0.6540 - acc: 0.8719 - val_loss: 0.5481 - val_acc: 0.9964\n",
      "Epoch 8/10\n",
      "129/129 [==============================] - 0s 2ms/step - loss: 0.5258 - acc: 0.9612 - val_loss: 0.4569 - val_acc: 0.9949\n",
      "Epoch 9/10\n",
      "129/129 [==============================] - 0s 2ms/step - loss: 0.4371 - acc: 0.9833 - val_loss: 0.3851 - val_acc: 0.9962\n",
      "Epoch 10/10\n",
      "129/129 [==============================] - 0s 2ms/step - loss: 0.3631 - acc: 0.9905 - val_loss: 0.3221 - val_acc: 1.0000\n",
      "Epoch 1/10\n",
      "129/129 [==============================] - 0s 2ms/step - loss: 0.3035 - acc: 0.9939 - val_loss: 0.2935 - val_acc: 1.0000\n",
      "Epoch 2/10\n",
      "129/129 [==============================] - 0s 2ms/step - loss: 0.3005 - acc: 0.9681 - val_loss: 0.3519 - val_acc: 0.9335\n",
      "Epoch 3/10\n",
      "129/129 [==============================] - 0s 2ms/step - loss: 0.2158 - acc: 0.9973 - val_loss: 0.1858 - val_acc: 1.0000\n",
      "Epoch 4/10\n",
      "129/129 [==============================] - 0s 2ms/step - loss: 0.2119 - acc: 0.9817 - val_loss: 0.1701 - val_acc: 1.0000\n",
      "Epoch 5/10\n",
      "129/129 [==============================] - 0s 2ms/step - loss: 0.1527 - acc: 1.0000 - val_loss: 0.1371 - val_acc: 1.0000\n",
      "Epoch 6/10\n",
      "129/129 [==============================] - 0s 2ms/step - loss: 0.1259 - acc: 1.0000 - val_loss: 0.1156 - val_acc: 1.0000\n",
      "Epoch 7/10\n",
      "129/129 [==============================] - 0s 2ms/step - loss: 0.1123 - acc: 1.0000 - val_loss: 0.1057 - val_acc: 1.0000\n",
      "Epoch 8/10\n",
      "129/129 [==============================] - 0s 2ms/step - loss: 0.0991 - acc: 1.0000 - val_loss: 0.0923 - val_acc: 1.0000\n",
      "Epoch 9/10\n",
      "129/129 [==============================] - 0s 2ms/step - loss: 0.0896 - acc: 1.0000 - val_loss: 0.0851 - val_acc: 1.0000\n",
      "Epoch 10/10\n",
      "129/129 [==============================] - 0s 2ms/step - loss: 0.0837 - acc: 1.0000 - val_loss: 0.0772 - val_acc: 1.0000\n",
      "Epoch 1/10\n",
      "129/129 [==============================] - 0s 2ms/step - loss: 0.0773 - acc: 1.0000 - val_loss: 0.0728 - val_acc: 1.0000\n",
      "Epoch 2/10\n",
      "129/129 [==============================] - 0s 2ms/step - loss: 0.0711 - acc: 1.0000 - val_loss: 0.0689 - val_acc: 1.0000\n",
      "Epoch 3/10\n",
      "129/129 [==============================] - 0s 2ms/step - loss: 0.0673 - acc: 1.0000 - val_loss: 0.0688 - val_acc: 1.0000\n",
      "Epoch 4/10\n",
      "129/129 [==============================] - 0s 2ms/step - loss: 0.0653 - acc: 1.0000 - val_loss: 0.0623 - val_acc: 1.0000\n",
      "Epoch 5/10\n",
      "129/129 [==============================] - 0s 2ms/step - loss: 0.0610 - acc: 1.0000 - val_loss: 0.0587 - val_acc: 1.0000\n",
      "Epoch 6/10\n",
      "129/129 [==============================] - 0s 2ms/step - loss: 0.0587 - acc: 1.0000 - val_loss: 0.0569 - val_acc: 1.0000\n",
      "Epoch 7/10\n",
      "129/129 [==============================] - 0s 2ms/step - loss: 0.0559 - acc: 1.0000 - val_loss: 0.0557 - val_acc: 1.0000\n",
      "Epoch 8/10\n",
      "129/129 [==============================] - 0s 2ms/step - loss: 0.0541 - acc: 1.0000 - val_loss: 0.0538 - val_acc: 1.0000\n",
      "Epoch 9/10\n",
      "129/129 [==============================] - 0s 2ms/step - loss: 0.0527 - acc: 1.0000 - val_loss: 0.0515 - val_acc: 1.0000\n",
      "Epoch 10/10\n",
      "129/129 [==============================] - 0s 2ms/step - loss: 0.0510 - acc: 1.0000 - val_loss: 0.0502 - val_acc: 1.0000\n",
      "Epoch 1/10\n",
      "129/129 [==============================] - 0s 2ms/step - loss: 0.0507 - acc: 1.0000 - val_loss: 0.0487 - val_acc: 1.0000\n",
      "Epoch 2/10\n",
      "129/129 [==============================] - 0s 2ms/step - loss: 0.0483 - acc: 1.0000 - val_loss: 0.0475 - val_acc: 1.0000\n",
      "Epoch 3/10\n",
      "129/129 [==============================] - 0s 2ms/step - loss: 0.0472 - acc: 1.0000 - val_loss: 0.0464 - val_acc: 1.0000\n",
      "Epoch 4/10\n",
      "129/129 [==============================] - 0s 2ms/step - loss: 0.0458 - acc: 1.0000 - val_loss: 0.0451 - val_acc: 1.0000\n",
      "Epoch 5/10\n",
      "129/129 [==============================] - 0s 2ms/step - loss: 0.0447 - acc: 1.0000 - val_loss: 0.0440 - val_acc: 1.0000\n",
      "Epoch 6/10\n",
      "129/129 [==============================] - 0s 2ms/step - loss: 0.0435 - acc: 1.0000 - val_loss: 0.0436 - val_acc: 1.0000\n",
      "Epoch 7/10\n",
      "129/129 [==============================] - 0s 2ms/step - loss: 0.0425 - acc: 1.0000 - val_loss: 0.0417 - val_acc: 1.0000\n",
      "Epoch 8/10\n",
      "129/129 [==============================] - 0s 2ms/step - loss: 0.0413 - acc: 1.0000 - val_loss: 0.0406 - val_acc: 1.0000\n",
      "Epoch 9/10\n",
      "129/129 [==============================] - 0s 2ms/step - loss: 0.0401 - acc: 1.0000 - val_loss: 0.0395 - val_acc: 1.0000\n",
      "Epoch 10/10\n",
      "129/129 [==============================] - 0s 2ms/step - loss: 0.0391 - acc: 1.0000 - val_loss: 0.0385 - val_acc: 1.0000\n",
      "Epoch 1/10\n",
      "129/129 [==============================] - 0s 2ms/step - loss: 0.0379 - acc: 1.0000 - val_loss: 0.0373 - val_acc: 1.0000\n",
      "Epoch 2/10\n",
      "129/129 [==============================] - 0s 2ms/step - loss: 0.0368 - acc: 1.0000 - val_loss: 0.0362 - val_acc: 1.0000\n",
      "Epoch 3/10\n",
      "129/129 [==============================] - 0s 2ms/step - loss: 0.0357 - acc: 1.0000 - val_loss: 0.0352 - val_acc: 1.0000\n",
      "Epoch 4/10\n",
      "129/129 [==============================] - 0s 2ms/step - loss: 0.0347 - acc: 1.0000 - val_loss: 0.0342 - val_acc: 1.0000\n",
      "Epoch 5/10\n",
      "129/129 [==============================] - 0s 2ms/step - loss: 0.0335 - acc: 1.0000 - val_loss: 0.0329 - val_acc: 1.0000\n",
      "Epoch 6/10\n",
      "129/129 [==============================] - 0s 2ms/step - loss: 0.0325 - acc: 1.0000 - val_loss: 0.0318 - val_acc: 1.0000\n",
      "Epoch 7/10\n",
      "129/129 [==============================] - 0s 2ms/step - loss: 0.0313 - acc: 1.0000 - val_loss: 0.0307 - val_acc: 1.0000\n",
      "Epoch 8/10\n",
      "129/129 [==============================] - 0s 2ms/step - loss: 0.0302 - acc: 1.0000 - val_loss: 0.0296 - val_acc: 1.0000\n",
      "Epoch 9/10\n",
      "129/129 [==============================] - 0s 2ms/step - loss: 0.0291 - acc: 1.0000 - val_loss: 0.0285 - val_acc: 1.0000\n",
      "Epoch 10/10\n",
      "129/129 [==============================] - 0s 2ms/step - loss: 0.0282 - acc: 1.0000 - val_loss: 0.0290 - val_acc: 1.0000\n",
      "WARNING:tensorflow:Please add `keras.layers.InputLayer` instead of `keras.Input` to Sequential model. `keras.Input` is intended to be used by Functional model.\n"
     ]
    },
    {
     "name": "stderr",
     "output_type": "stream",
     "text": [
      "/usr/local/lib/python3.9/site-packages/sklearn/manifold/_t_sne.py:780: FutureWarning: The default initialization in TSNE will change from 'random' to 'pca' in 1.2.\n",
      "  warnings.warn(\n",
      "/usr/local/lib/python3.9/site-packages/sklearn/manifold/_t_sne.py:790: FutureWarning: The default learning rate in TSNE will change from 200.0 to 'auto' in 1.2.\n",
      "  warnings.warn(\n"
     ]
    },
    {
     "data": {
      "image/png": "[encoded data removed]",
      "text/plain": [
       "<Figure size 432x288 with 2 Axes>"
      ]
     },
     "metadata": {
      "needs_background": "light"
     },
     "output_type": "display_data"
    }
   ],
   "source": [
    "sym_detector = symsuite.GroupDetection(model, double_well_potential.clustered_data)\n",
    "point_cloud = sym_detector.run_symmetry_detection(plot=True, save=True)"
   ]
  },
  {
   "cell_type": "markdown",
   "metadata": {},
   "source": [
    "So now we can analyze our model! We see for the darker colours that there are always two distinct instances corresponding to the symmetry between these radial values. The duplication of these colours means that this is a symmetry group. The test now is to identify the radial values in these clusters and pass them to the generator extraction methods to characterize them."
   ]
  },
  {
   "cell_type": "code",
   "execution_count": 8,
   "metadata": {},
   "outputs": [
    {
     "data": {
      "text/plain": [
       "dict_keys([0.0, 2.0, 4.0, 5.0, 10.0])"
      ]
     },
     "execution_count": 8,
     "metadata": {},
     "output_type": "execute_result"
    }
   ],
   "source": [
    "point_cloud.keys()"
   ]
  },
  {
   "cell_type": "markdown",
   "metadata": {},
   "source": [
    "We see that the clustering has worked relatively well. This is where some caution is advised in terms of simply parsing this data along to the generator detection. If you see that one of these groups should likely not be in the set then it should be parsed along to the generator extraction stage. Alternatively, you can use a different approach for identifying the sets in the symmetry representation. In the next update we will parse this data to the generator extraction algorithm in order to get the generators of this detected symmetry group."
   ]
  },
  {
   "cell_type": "code",
   "execution_count": 53,
   "metadata": {},
   "outputs": [],
   "source": [
    "from flax import linen as nn\n",
    "import jax\n",
    "import jax.numpy as jnp\n",
    "import numpy as np\n",
    "\n",
    "class ProductionModule(nn.Module):\n",
    "    \"\"\"\n",
    "    Simple CNN module.\n",
    "    \"\"\"\n",
    "\n",
    "    @nn.compact\n",
    "    def __call__(self, x):\n",
    "        x = nn.Conv(features=128, kernel_size=(3, 3))(x)\n",
    "        x = nn.relu(x)\n",
    "        x = nn.max_pool(x, window_shape=(3, 3), strides=(2, 2))\n",
    "        x = nn.Conv(features=128, kernel_size=(3, 3))(x)\n",
    "        x = nn.relu(x)\n",
    "        x = nn.max_pool(x, window_shape=(3, 3), strides=(2, 2))\n",
    "        x = x.reshape((x.shape[0], -1))  # flatten\n",
    "        x = nn.Dense(features=300)(x)\n",
    "        x = nn.relu(x)\n",
    "        x = nn.Dense(10)(x)\n",
    "\n",
    "        return x"
   ]
  },
  {
   "cell_type": "code",
   "execution_count": 14,
   "metadata": {},
   "outputs": [],
   "source": [
    "model = ProductionModule()"
   ]
  },
  {
   "cell_type": "code",
   "execution_count": 32,
   "metadata": {},
   "outputs": [],
   "source": [
    "key = jax.random.PRNGKey(452)\n",
    "\n",
    "data = model.init(key, jnp.ones([1, 28, 28, 1]))"
   ]
  },
  {
   "cell_type": "code",
   "execution_count": 38,
   "metadata": {},
   "outputs": [
    {
     "data": {
      "text/plain": [
       "FrozenDict({\n",
       "    Conv_0: {\n",
       "        kernel: DeviceArray([[[[ 0.37528017,  0.13753012,  0.35983738, ...,\n",
       "                         0.31934947, -0.10718577,  0.06134491]],\n",
       "        \n",
       "                      [[-0.03669485,  0.14023171,  0.17660904, ...,\n",
       "                         0.17953686, -0.09349817,  0.5601775 ]],\n",
       "        \n",
       "                      [[ 0.00360224, -0.23205283, -0.4305723 , ...,\n",
       "                        -0.55263746,  0.08736772, -0.33638862]]],\n",
       "        \n",
       "        \n",
       "                     [[[ 0.3732802 , -0.3748587 ,  0.18389685, ...,\n",
       "                        -0.31333193,  0.2105282 ,  0.02409167]],\n",
       "        \n",
       "                      [[-0.46691698,  0.49650607, -0.5371514 , ...,\n",
       "                         0.01834795,  0.56708217, -0.34570318]],\n",
       "        \n",
       "                      [[ 0.5792693 , -0.35017362,  0.5757499 , ...,\n",
       "                        -0.41792697, -0.20277935,  0.1124992 ]]],\n",
       "        \n",
       "        \n",
       "                     [[[-0.5241861 , -0.08293429, -0.15216689, ...,\n",
       "                         0.48141024, -0.00571131, -0.00457093]],\n",
       "        \n",
       "                      [[ 0.15416023,  0.04572708, -0.05879792, ...,\n",
       "                         0.57276475,  0.09112789,  0.07591753]],\n",
       "        \n",
       "                      [[-0.21100795, -0.17283523,  0.07323457, ...,\n",
       "                         0.02905115, -0.47458482,  0.04670273]]]], dtype=float32),\n",
       "        bias: DeviceArray([0., 0., 0., 0., 0., 0., 0., 0., 0., 0., 0., 0., 0., 0., 0.,\n",
       "                     0., 0., 0., 0., 0., 0., 0., 0., 0., 0., 0., 0., 0., 0., 0.,\n",
       "                     0., 0., 0., 0., 0., 0., 0., 0., 0., 0., 0., 0., 0., 0., 0.,\n",
       "                     0., 0., 0., 0., 0., 0., 0., 0., 0., 0., 0., 0., 0., 0., 0.,\n",
       "                     0., 0., 0., 0., 0., 0., 0., 0., 0., 0., 0., 0., 0., 0., 0.,\n",
       "                     0., 0., 0., 0., 0., 0., 0., 0., 0., 0., 0., 0., 0., 0., 0.,\n",
       "                     0., 0., 0., 0., 0., 0., 0., 0., 0., 0., 0., 0., 0., 0., 0.,\n",
       "                     0., 0., 0., 0., 0., 0., 0., 0., 0., 0., 0., 0., 0., 0., 0.,\n",
       "                     0., 0., 0., 0., 0., 0., 0., 0.], dtype=float32),\n",
       "    },\n",
       "    Conv_1: {\n",
       "        kernel: DeviceArray([[[[ 3.60345989e-02, -1.80624407e-02, -9.17060301e-03, ...,\n",
       "                        -1.57420221e-03, -3.21763046e-02,  3.03349812e-02],\n",
       "                       [-4.88650911e-02,  2.21489817e-02,  1.55314393e-02, ...,\n",
       "                         1.22555168e-02,  2.84199193e-02,  2.09916160e-02],\n",
       "                       [ 5.93110994e-02, -5.48763536e-02, -3.18756956e-03, ...,\n",
       "                         3.08737922e-02, -8.48920736e-03, -2.10110340e-02],\n",
       "                       ...,\n",
       "                       [ 4.99920659e-02, -6.42840192e-02, -2.96061370e-03, ...,\n",
       "                         1.10166790e-02,  1.05426693e-02,  2.54060999e-02],\n",
       "                       [ 5.33394516e-02,  4.65421192e-02,  1.49851209e-02, ...,\n",
       "                         5.68490475e-03, -1.30498027e-02, -1.01780500e-02],\n",
       "                       [ 6.59535229e-02,  9.09722038e-03, -2.24497523e-02, ...,\n",
       "                         7.19328318e-03,  5.78204077e-03,  5.39870039e-02]],\n",
       "        \n",
       "                      [[-3.70773338e-02, -3.87179144e-02,  1.63091160e-02, ...,\n",
       "                         2.97876936e-03,  1.07463440e-02, -1.82296222e-04],\n",
       "                       [-2.36669872e-02, -5.58980182e-03, -2.70987861e-02, ...,\n",
       "                         3.27060483e-02,  5.49956113e-02, -3.22447494e-02],\n",
       "                       [ 3.49065661e-02,  2.02603359e-02, -4.39962931e-03, ...,\n",
       "                         1.14598181e-02, -1.17074130e-02,  4.88227000e-03],\n",
       "                       ...,\n",
       "                       [-3.37145887e-02,  4.31741215e-02,  4.60439175e-03, ...,\n",
       "                        -1.50344986e-02, -2.81697568e-02, -2.23013163e-02],\n",
       "                       [ 4.66451123e-02,  2.47632357e-04,  1.16665391e-02, ...,\n",
       "                        -4.74373903e-03,  7.42866658e-03, -5.94518706e-02],\n",
       "                       [ 1.07875392e-02, -1.24657005e-02, -3.20048593e-02, ...,\n",
       "                         1.44016631e-02, -4.46076095e-02, -4.64649275e-02]],\n",
       "        \n",
       "                      [[-1.87598765e-02, -1.26873795e-02,  2.22337674e-02, ...,\n",
       "                        -1.86812971e-02,  3.24476734e-02, -2.59078629e-02],\n",
       "                       [ 2.18403228e-02, -2.43654586e-02, -5.68524711e-02, ...,\n",
       "                        -3.14403288e-02,  1.45379817e-02, -3.71383354e-02],\n",
       "                       [ 5.04917093e-02,  3.70514989e-02, -2.47972971e-03, ...,\n",
       "                         9.21094697e-03,  6.62889564e-03,  5.43021150e-02],\n",
       "                       ...,\n",
       "                       [ 5.53301275e-02,  8.09799600e-03, -7.37548014e-03, ...,\n",
       "                        -3.22527029e-02,  9.47414152e-03,  1.66119877e-02],\n",
       "                       [ 3.12854238e-02, -9.37583914e-04, -2.83447886e-03, ...,\n",
       "                         6.54492676e-02, -1.27467439e-02, -2.87838411e-02],\n",
       "                       [ 4.77980748e-02, -1.19424276e-02,  1.74422693e-02, ...,\n",
       "                        -3.70779335e-02,  2.49283463e-02,  5.49281761e-03]]],\n",
       "        \n",
       "        \n",
       "                     [[[ 2.17519812e-02, -3.88661511e-02,  3.92616428e-02, ...,\n",
       "                         5.27783893e-02,  9.30878986e-03, -1.11992378e-02],\n",
       "                       [-4.48921323e-02,  2.66084112e-02, -3.08889486e-02, ...,\n",
       "                        -2.99759768e-03,  2.66164411e-02, -2.56100800e-02],\n",
       "                       [ 1.48384757e-02,  2.49346737e-02,  2.10087299e-02, ...,\n",
       "                         1.19575774e-02, -4.37101051e-02,  1.59911637e-03],\n",
       "                       ...,\n",
       "                       [ 4.79628369e-02,  2.65846997e-02, -5.52016264e-03, ...,\n",
       "                         8.03794805e-03,  1.57203991e-02, -3.72503996e-02],\n",
       "                       [ 3.36065628e-02,  5.82088120e-02, -4.79097627e-02, ...,\n",
       "                         1.47540374e-02, -4.82356735e-02,  2.53046560e-03],\n",
       "                       [-1.85025409e-02,  1.19747752e-02, -2.92210910e-03, ...,\n",
       "                        -3.48893404e-02, -4.21325751e-02,  1.10742254e-02]],\n",
       "        \n",
       "                      [[-2.33020280e-02, -5.33820689e-02,  6.04530687e-05, ...,\n",
       "                        -1.82941053e-02,  2.49706823e-02,  3.89664173e-02],\n",
       "                       [ 3.02372547e-03,  3.97237539e-02, -4.37463261e-02, ...,\n",
       "                        -4.79917275e-03, -3.19175012e-02, -5.08953705e-02],\n",
       "                       [-3.39236967e-02, -6.98743481e-03,  2.17721332e-02, ...,\n",
       "                        -4.89775054e-02, -5.73655218e-02,  3.42595093e-02],\n",
       "                       ...,\n",
       "                       [ 3.00649554e-02, -8.40300415e-03, -7.04725645e-03, ...,\n",
       "                        -3.24916989e-02,  1.48367360e-02,  3.87442624e-03],\n",
       "                       [ 1.28357522e-02,  1.16875945e-02,  2.62607671e-02, ...,\n",
       "                         2.08278652e-02, -2.04269513e-02,  2.65005231e-02],\n",
       "                       [ 1.62072293e-02,  1.26523693e-04,  6.51293248e-02, ...,\n",
       "                        -3.86682414e-02, -1.51754823e-03, -1.52847609e-02]],\n",
       "        \n",
       "                      [[-1.05653480e-02, -3.87853314e-03,  3.05805751e-03, ...,\n",
       "                         3.76726035e-03,  4.94486131e-02, -5.60158156e-02],\n",
       "                       [ 4.87619005e-02, -4.03809361e-03,  5.23778163e-02, ...,\n",
       "                        -2.93569081e-02,  3.27635743e-02,  2.99357139e-02],\n",
       "                       [-2.07389537e-02, -3.72745059e-02,  1.10834790e-02, ...,\n",
       "                        -6.21929392e-02,  2.98373811e-02,  1.99949909e-02],\n",
       "                       ...,\n",
       "                       [ 3.27900052e-02,  5.98487668e-02,  4.71824668e-02, ...,\n",
       "                         8.78540706e-03, -6.14813250e-03, -3.14074531e-02],\n",
       "                       [-9.78266541e-03, -5.90384342e-02, -5.13021387e-02, ...,\n",
       "                        -1.38909575e-02, -2.51286477e-02,  5.18727489e-03],\n",
       "                       [-3.64494771e-02, -4.27394621e-02, -3.23385722e-03, ...,\n",
       "                        -3.18818376e-03, -5.87067306e-02, -6.36329651e-02]]],\n",
       "        \n",
       "        \n",
       "                     [[[-8.47443007e-03, -4.90162708e-02, -1.27213998e-02, ...,\n",
       "                        -7.46757211e-03, -2.31349524e-02, -3.39074843e-02],\n",
       "                       [ 3.42674591e-02, -4.26242724e-02,  8.94031115e-03, ...,\n",
       "                         5.81473745e-02,  3.11985286e-03, -7.18289101e-03],\n",
       "                       [-4.96962480e-02, -1.75054520e-02,  1.33445645e-02, ...,\n",
       "                         1.52927013e-02,  7.62744015e-03,  1.03257475e-02],\n",
       "                       ...,\n",
       "                       [-2.10905168e-02,  8.50216951e-04, -2.00528335e-02, ...,\n",
       "                         6.31971285e-03,  2.48127226e-02, -1.87783968e-02],\n",
       "                       [-2.23999172e-02,  1.26594771e-02,  6.04727156e-02, ...,\n",
       "                        -6.21030182e-02,  5.47166280e-02, -1.63479019e-02],\n",
       "                       [ 9.98661667e-03, -2.33470928e-03, -2.09867079e-02, ...,\n",
       "                        -3.46814878e-02,  2.51958854e-02, -1.26770735e-02]],\n",
       "        \n",
       "                      [[-1.97642110e-02,  4.73201126e-02,  4.43987735e-02, ...,\n",
       "                         2.50004977e-02, -2.66237138e-03, -2.26721596e-02],\n",
       "                       [ 6.78458950e-03,  1.61966719e-02,  2.98016015e-02, ...,\n",
       "                        -5.48582349e-04, -4.17552330e-02, -4.90760766e-02],\n",
       "                       [-3.85830216e-02,  6.56447783e-02,  6.06308272e-03, ...,\n",
       "                         7.21618021e-03,  3.87805365e-02, -4.35139164e-02],\n",
       "                       ...,\n",
       "                       [ 1.90136768e-02,  5.99899096e-03,  2.55533494e-02, ...,\n",
       "                        -4.07748334e-02, -2.88647264e-02,  3.18611637e-02],\n",
       "                       [ 2.06444710e-02,  3.52281965e-02, -3.74659821e-02, ...,\n",
       "                        -2.47550700e-02,  7.98308384e-03, -1.17612109e-02],\n",
       "                       [ 1.07358827e-03, -1.51244262e-02,  4.03979719e-02, ...,\n",
       "                         1.38022611e-02, -1.51816355e-02,  1.29964007e-02]],\n",
       "        \n",
       "                      [[ 4.76968586e-02, -1.51051348e-02,  1.60713233e-02, ...,\n",
       "                        -1.36397481e-02, -4.37372923e-02, -6.09542839e-02],\n",
       "                       [-7.29514472e-03,  4.64752316e-03,  7.45077617e-03, ...,\n",
       "                        -5.41699976e-02,  1.31481951e-02, -3.93584818e-02],\n",
       "                       [ 5.68703189e-02, -1.18301352e-02,  2.59039719e-02, ...,\n",
       "                         4.63015288e-02, -1.92511063e-02, -2.26892084e-02],\n",
       "                       ...,\n",
       "                       [ 3.30666825e-02, -1.54788038e-02,  1.28783807e-02, ...,\n",
       "                        -4.02262770e-02, -4.79671173e-03,  3.56641621e-03],\n",
       "                       [-1.72251593e-02, -1.34579502e-02, -4.67023253e-02, ...,\n",
       "                         2.73214784e-02,  3.60498987e-02, -4.09855619e-02],\n",
       "                       [ 2.44301874e-02, -3.01268771e-02,  4.78487536e-02, ...,\n",
       "                        -3.52564305e-02, -4.78573143e-02, -1.05750179e-02]]]],            dtype=float32),\n",
       "        bias: DeviceArray([0., 0., 0., 0., 0., 0., 0., 0., 0., 0., 0., 0., 0., 0., 0.,\n",
       "                     0., 0., 0., 0., 0., 0., 0., 0., 0., 0., 0., 0., 0., 0., 0.,\n",
       "                     0., 0., 0., 0., 0., 0., 0., 0., 0., 0., 0., 0., 0., 0., 0.,\n",
       "                     0., 0., 0., 0., 0., 0., 0., 0., 0., 0., 0., 0., 0., 0., 0.,\n",
       "                     0., 0., 0., 0., 0., 0., 0., 0., 0., 0., 0., 0., 0., 0., 0.,\n",
       "                     0., 0., 0., 0., 0., 0., 0., 0., 0., 0., 0., 0., 0., 0., 0.,\n",
       "                     0., 0., 0., 0., 0., 0., 0., 0., 0., 0., 0., 0., 0., 0., 0.,\n",
       "                     0., 0., 0., 0., 0., 0., 0., 0., 0., 0., 0., 0., 0., 0., 0.,\n",
       "                     0., 0., 0., 0., 0., 0., 0., 0.], dtype=float32),\n",
       "    },\n",
       "    Dense_0: {\n",
       "        kernel: DeviceArray([[ 0.00046263, -0.01366332, -0.01965372, ..., -0.01099672,\n",
       "                       0.00353724,  0.02137254],\n",
       "                     [ 0.00497269, -0.00472533, -0.01134661, ..., -0.00669816,\n",
       "                      -0.00842239, -0.02093654],\n",
       "                     [ 0.03009967,  0.00874493,  0.00541858, ...,  0.02110084,\n",
       "                      -0.00377029, -0.02680648],\n",
       "                     ...,\n",
       "                     [-0.00427975, -0.00622658, -0.00404923, ...,  0.00897263,\n",
       "                       0.00962972, -0.00889211],\n",
       "                     [-0.01013104, -0.00755738,  0.01790517, ..., -0.0158775 ,\n",
       "                      -0.01318363, -0.01386497],\n",
       "                     [ 0.02921496, -0.01328129,  0.01899061, ...,  0.03121358,\n",
       "                       0.02289535,  0.01520465]], dtype=float32),\n",
       "        bias: DeviceArray([0., 0., 0., 0., 0., 0., 0., 0., 0., 0., 0., 0., 0., 0., 0.,\n",
       "                     0., 0., 0., 0., 0., 0., 0., 0., 0., 0., 0., 0., 0., 0., 0.,\n",
       "                     0., 0., 0., 0., 0., 0., 0., 0., 0., 0., 0., 0., 0., 0., 0.,\n",
       "                     0., 0., 0., 0., 0., 0., 0., 0., 0., 0., 0., 0., 0., 0., 0.,\n",
       "                     0., 0., 0., 0., 0., 0., 0., 0., 0., 0., 0., 0., 0., 0., 0.,\n",
       "                     0., 0., 0., 0., 0., 0., 0., 0., 0., 0., 0., 0., 0., 0., 0.,\n",
       "                     0., 0., 0., 0., 0., 0., 0., 0., 0., 0., 0., 0., 0., 0., 0.,\n",
       "                     0., 0., 0., 0., 0., 0., 0., 0., 0., 0., 0., 0., 0., 0., 0.,\n",
       "                     0., 0., 0., 0., 0., 0., 0., 0., 0., 0., 0., 0., 0., 0., 0.,\n",
       "                     0., 0., 0., 0., 0., 0., 0., 0., 0., 0., 0., 0., 0., 0., 0.,\n",
       "                     0., 0., 0., 0., 0., 0., 0., 0., 0., 0., 0., 0., 0., 0., 0.,\n",
       "                     0., 0., 0., 0., 0., 0., 0., 0., 0., 0., 0., 0., 0., 0., 0.,\n",
       "                     0., 0., 0., 0., 0., 0., 0., 0., 0., 0., 0., 0., 0., 0., 0.,\n",
       "                     0., 0., 0., 0., 0., 0., 0., 0., 0., 0., 0., 0., 0., 0., 0.,\n",
       "                     0., 0., 0., 0., 0., 0., 0., 0., 0., 0., 0., 0., 0., 0., 0.,\n",
       "                     0., 0., 0., 0., 0., 0., 0., 0., 0., 0., 0., 0., 0., 0., 0.,\n",
       "                     0., 0., 0., 0., 0., 0., 0., 0., 0., 0., 0., 0., 0., 0., 0.,\n",
       "                     0., 0., 0., 0., 0., 0., 0., 0., 0., 0., 0., 0., 0., 0., 0.,\n",
       "                     0., 0., 0., 0., 0., 0., 0., 0., 0., 0., 0., 0., 0., 0., 0.,\n",
       "                     0., 0., 0., 0., 0., 0., 0., 0., 0., 0., 0., 0., 0., 0., 0.],            dtype=float32),\n",
       "    },\n",
       "    Dense_1: {\n",
       "        kernel: DeviceArray([[ 0.09170318,  0.03614756,  0.02535907, ...,  0.0762569 ,\n",
       "                      -0.0044047 ,  0.0330187 ],\n",
       "                     [-0.07894796, -0.04608489,  0.00269128, ...,  0.02883765,\n",
       "                       0.0087204 ,  0.05653023],\n",
       "                     [ 0.03623685,  0.00995611, -0.04651761, ..., -0.05153248,\n",
       "                       0.02583626, -0.01592986],\n",
       "                     ...,\n",
       "                     [ 0.02275847,  0.08729529, -0.0204505 , ...,  0.09371196,\n",
       "                       0.06301026,  0.07643232],\n",
       "                     [-0.02012173,  0.06339496,  0.01162816, ...,  0.07186693,\n",
       "                      -0.05107251, -0.01174682],\n",
       "                     [ 0.0267258 ,  0.12019555, -0.06517248, ...,  0.00200361,\n",
       "                       0.02145562, -0.10603211]], dtype=float32),\n",
       "        bias: DeviceArray([0., 0., 0., 0., 0., 0., 0., 0., 0., 0.], dtype=float32),\n",
       "    },\n",
       "})"
      ]
     },
     "execution_count": 38,
     "metadata": {},
     "output_type": "execute_result"
    }
   ],
   "source": [
    "data[\"params\"]"
   ]
  },
  {
   "cell_type": "code",
   "execution_count": 40,
   "metadata": {},
   "outputs": [],
   "source": [
    "from neural_tangents import stax"
   ]
  },
  {
   "cell_type": "code",
   "execution_count": 64,
   "metadata": {},
   "outputs": [],
   "source": [
    "model = stax.serial(\n",
    "    stax.Dense(12),\n",
    "    stax.Relu(),\n",
    "    stax.Dense(12),\n",
    "    stax.Relu(),\n",
    "    stax.Dense(1)\n",
    ")\n",
    "small_model = stax.serial(\n",
    "    stax.Dense(12),\n",
    "    stax.Relu(),\n",
    "    stax.Dense(12),\n",
    ")"
   ]
  },
  {
   "cell_type": "code",
   "execution_count": 59,
   "metadata": {},
   "outputs": [],
   "source": [
    "_, params = model[0](key, (9,))"
   ]
  },
  {
   "cell_type": "code",
   "execution_count": 60,
   "metadata": {},
   "outputs": [],
   "source": [
    "tst = np.random.uniform(size=(9,))"
   ]
  },
  {
   "cell_type": "code",
   "execution_count": 63,
   "metadata": {},
   "outputs": [
    {
     "data": {
      "text/plain": [
       "DeviceArray([-0.00011978], dtype=float32)"
      ]
     },
     "execution_count": 63,
     "metadata": {},
     "output_type": "execute_result"
    }
   ],
   "source": [
    "model[1](params, tst)"
   ]
  },
  {
   "cell_type": "code",
   "execution_count": 68,
   "metadata": {},
   "outputs": [
    {
     "data": {
      "text/plain": [
       "[(DeviceArray([[ 0.36902574, -0.60083115,  0.44724423, -1.6919093 ,\n",
       "                -1.4313933 , -0.9526142 ,  1.5278178 ,  1.2445855 ,\n",
       "                -0.43463358,  0.1921436 , -0.51044935,  1.3951449 ],\n",
       "               [ 2.6688576 ,  0.27140683,  0.7197667 ,  1.7743273 ,\n",
       "                -0.12421109,  2.8912168 ,  0.8812158 , -0.59462166,\n",
       "                 0.75510025, -0.82257533, -0.69549227,  0.11659083],\n",
       "               [ 0.7083261 ,  0.0195996 , -0.96690786, -1.9975785 ,\n",
       "                -1.2147071 ,  0.49638763, -0.882764  ,  0.06965447,\n",
       "                 0.8740023 , -1.7946595 , -1.9639919 ,  0.11853004],\n",
       "               [-0.04729311, -0.6084024 , -1.151995  ,  1.8441046 ,\n",
       "                -1.0241059 ,  0.29526377, -1.6498058 ,  0.35885495,\n",
       "                -1.8048742 , -0.45532495,  0.86956114,  0.7042805 ],\n",
       "               [ 0.7024425 , -0.46502215, -1.8246489 ,  0.03024639,\n",
       "                -0.09241743,  0.6734406 , -1.4146967 ,  0.83981234,\n",
       "                 1.6875414 ,  1.6478448 , -0.14617752,  0.73602235],\n",
       "               [ 0.11008073,  0.59370816, -0.47999948, -0.91698813,\n",
       "                 1.4644262 , -1.0099113 ,  0.42220187,  0.57421154,\n",
       "                -1.6171031 , -0.4017566 ,  1.6489285 ,  0.18311332],\n",
       "               [ 0.9582781 , -1.557588  , -0.19959736, -0.15300396,\n",
       "                 1.4889674 , -0.253901  ,  0.37354448,  1.5264944 ,\n",
       "                -2.0760427 , -0.5360183 ,  0.61596334,  0.24212281],\n",
       "               [ 1.1130695 , -0.9824064 , -2.977521  ,  0.74219394,\n",
       "                -1.1848937 , -0.12566446, -0.52775025,  0.28832507,\n",
       "                 1.53694   ,  0.731218  ,  1.3954059 ,  1.9324546 ],\n",
       "               [-0.2378023 ,  0.3914802 , -0.62872165,  0.3234975 ,\n",
       "                -0.61664855, -0.37052616,  0.4133723 ,  0.3731773 ,\n",
       "                -1.6918828 , -0.40905452,  1.9508578 , -0.66678524]],            dtype=float32),\n",
       "  None),\n",
       " (),\n",
       " (DeviceArray([[ 0.31568572, -0.78239375,  1.8139715 ,  0.7123382 ,\n",
       "                 0.42159593,  1.4614258 , -1.2938766 , -0.2708335 ,\n",
       "                -0.8100683 ,  0.42933106,  0.34290957,  2.5893972 ],\n",
       "               [-1.7116116 , -1.1352941 , -0.5111037 , -1.4054971 ,\n",
       "                -0.32070762, -1.42568   ,  0.11512792, -0.1347293 ,\n",
       "                -0.71804935,  0.05384207, -0.78869826, -0.5870854 ],\n",
       "               [-0.32054782,  1.2623926 , -0.27968442, -0.591598  ,\n",
       "                -0.4438807 , -0.8524836 ,  1.3454165 ,  1.0766404 ,\n",
       "                 0.45279294,  0.83987784,  0.03888967, -0.19251114],\n",
       "               [-0.77271   , -0.04992997, -0.3330754 ,  0.3508638 ,\n",
       "                -0.10676403, -0.58075947,  0.02378667, -1.9671077 ,\n",
       "                 0.0314757 , -0.82272756, -0.00710218, -1.1613281 ],\n",
       "               [-1.5903914 ,  1.1984488 , -0.27399755, -0.06564435,\n",
       "                -0.62434304,  0.18636021, -0.29711506,  1.8457091 ,\n",
       "                -1.0972382 ,  0.4340854 ,  0.5363783 , -0.8186496 ],\n",
       "               [-0.19632275,  0.9917772 ,  0.48805034, -0.83440447,\n",
       "                 0.18030544,  0.5788825 ,  1.2664341 ,  0.9014271 ,\n",
       "                 0.20820503, -0.60801953, -0.1659515 , -1.5893393 ],\n",
       "               [-1.0448416 , -1.0183587 ,  1.1974787 , -1.5628817 ,\n",
       "                -1.1902788 ,  0.02965477, -0.11841193,  0.9383633 ,\n",
       "                -0.6725073 ,  1.2212063 ,  0.8176451 , -0.25271893],\n",
       "               [-1.2024895 , -0.1259256 , -1.1257274 , -0.0786797 ,\n",
       "                -1.5528514 , -0.13004757,  0.49707723, -0.7027365 ,\n",
       "                 0.48414403, -2.0060594 ,  0.5135008 , -0.800257  ],\n",
       "               [-0.21854441, -1.3389152 , -1.1716666 ,  1.6518806 ,\n",
       "                 0.5396923 ,  1.181409  , -0.1754383 ,  1.391895  ,\n",
       "                -0.12838942, -0.28058812, -0.6165152 , -1.2462329 ],\n",
       "               [-0.9806118 , -0.0681522 , -0.43525243,  0.08544233,\n",
       "                 1.0447279 ,  0.49811652, -1.262155  , -0.6817887 ,\n",
       "                -0.80958515,  0.31914094, -1.1228462 , -0.87152374],\n",
       "               [ 0.51965606,  0.7304284 ,  0.18613489,  0.38158152,\n",
       "                -0.93155473,  0.37154427,  0.32466838,  0.65689003,\n",
       "                 0.7206714 , -0.4563752 , -0.5785838 ,  1.020707  ],\n",
       "               [-0.28219694, -0.88026786,  0.4212645 , -1.3743248 ,\n",
       "                 1.375825  ,  1.9244089 , -0.40021232,  0.4462603 ,\n",
       "                 1.5846783 , -0.4113239 , -0.7848289 ,  0.5002319 ]],            dtype=float32),\n",
       "  None)]"
      ]
     },
     "execution_count": 68,
     "metadata": {},
     "output_type": "execute_result"
    }
   ],
   "source": [
    "params[:-2]"
   ]
  },
  {
   "cell_type": "code",
   "execution_count": 76,
   "metadata": {},
   "outputs": [],
   "source": [
    "a = small_model[1](params, tst)"
   ]
  },
  {
   "cell_type": "code",
   "execution_count": 79,
   "metadata": {},
   "outputs": [],
   "source": [
    "b = small_model[1](params, tst)"
   ]
  },
  {
   "cell_type": "code",
   "execution_count": 80,
   "metadata": {},
   "outputs": [
    {
     "data": {
      "text/plain": [
       "DeviceArray([ True,  True,  True,  True,  True,  True,  True,  True,\n",
       "              True,  True,  True,  True], dtype=bool)"
      ]
     },
     "execution_count": 80,
     "metadata": {},
     "output_type": "execute_result"
    }
   ],
   "source": [
    "a == b"
   ]
  },
  {
   "cell_type": "code",
   "execution_count": 84,
   "metadata": {},
   "outputs": [
    {
     "data": {
      "text/plain": [
       "(<function jax.example_libraries.stax.serial.<locals>.init_fun(rng, input_shape)>,\n",
       " <function jax.example_libraries.stax.serial.<locals>.apply_fun(params, inputs, **kwargs)>,\n",
       " <function neural_tangents._src.stax.requirements._preprocess_kernel_fn.<locals>.kernel_fn_any(x1_or_kernel: Union[List[jax._src.numpy.ndarray.ndarray], Tuple[jax._src.numpy.ndarray.ndarray, ...], jax._src.numpy.ndarray.ndarray, List[neural_tangents._src.utils.kernel.Kernel], Tuple[neural_tangents._src.utils.kernel.Kernel, ...], neural_tangents._src.utils.kernel.Kernel], x2: Union[List[jax._src.numpy.ndarray.ndarray], Tuple[jax._src.numpy.ndarray.ndarray, ...], jax._src.numpy.ndarray.ndarray, NoneType] = None, get: Union[Tuple[str, ...], str, NoneType] = None, *, pattern: Union[Tuple[Union[jax._src.numpy.ndarray.ndarray, NoneType], Union[jax._src.numpy.ndarray.ndarray, NoneType]], NoneType] = None, mask_constant: Union[float, NoneType] = None, diagonal_batch: Union[bool, NoneType] = None, diagonal_spatial: Union[bool, NoneType] = None, **kwargs)>)"
      ]
     },
     "execution_count": 84,
     "metadata": {},
     "output_type": "execute_result"
    }
   ],
   "source": [
    "model"
   ]
  },
  {
   "cell_type": "code",
   "execution_count": null,
   "metadata": {},
   "outputs": [],
   "source": []
  }
 ],
 "metadata": {
  "kernelspec": {
   "display_name": "Python 3 (ipykernel)",
   "language": "python",
   "name": "python3"
  },
  "language_info": {
   "codemirror_mode": {
    "name": "ipython",
    "version": 3
   },
   "file_extension": ".py",
   "mimetype": "text/x-python",
   "name": "python",
   "nbconvert_exporter": "python",
   "pygments_lexer": "ipython3",
   "version": "3.8.12"
  }
 },
 "nbformat": 4,
 "nbformat_minor": 1
}
