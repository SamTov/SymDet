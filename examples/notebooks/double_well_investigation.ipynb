{
 "cells": [
  {
   "cell_type": "markdown",
   "metadata": {
    "collapsed": true
   },
   "source": [
    "# Double Well Potential Symmetry Visualization"
   ]
  },
  {
   "cell_type": "markdown",
   "metadata": {},
   "source": [
    "In this notebook we will perform symmetry group visualization on some double well potential data.\n",
    "\n",
    "The imports for this one are quite numerous as we are doing the analysis piece by piece. Once there is a bridge between group detection and generator extraction I will add some generalzed methods for doing some of this automatically. Let's quickly mention what we are importing.\n",
    "\n",
    "1. The class for a Double Well Potential. This is just for some test data generation.\n",
    "2. DenseModel is a class written to take care of setting up and deploying a neural network.\n",
    "3. DataCluster is reponsible for taking raw potential data and partitioning it into classes for the classification problems.\n",
    "3. Group detection performs the TSNE reduction and finds our symmetry groups"
   ]
  },
  {
   "cell_type": "markdown",
   "metadata": {},
   "source": [
    "from symdet.test_systems.double_well_potential import DoubleWellPotential\n",
    "from symdet.models.dense_model import DenseModel\n",
    "from symdet.symmetry_groups.data_clustering import DataCluster\n",
    "from symdet.symmetry_groups.group_detection import GroupDetection"
   ]
  },
  {
   "cell_type": "code",
   "execution_count": 1,
   "metadata": {},
   "outputs": [],
   "source": [
    "import symdet"
   ]
  },
  {
   "cell_type": "markdown",
   "metadata": {},
   "source": [
    "###  Preparing data\n",
    "So you want to prepare some simple data from a double well potential so that we can identify some symmetry groups. Luckily, we were prepared for this scenario and wrote a class just for you!"
   ]
  },
  {
   "cell_type": "code",
   "execution_count": 2,
   "metadata": {},
   "outputs": [],
   "source": [
    "double_well_potential = symdet.DoubleWellPotential(a=2.4)"
   ]
  },
  {
   "cell_type": "markdown",
   "metadata": {},
   "source": [
    "As simple as that we have a double well potential. But we can also take a look at it."
   ]
  },
  {
   "cell_type": "code",
   "execution_count": 3,
   "metadata": {},
   "outputs": [
    {
     "data": {
      "image/png": "[encoded data removed]",
      "text/plain": [
       "<Figure size 432x288 with 1 Axes>"
      ]
     },
     "metadata": {
      "needs_background": "light"
     },
     "output_type": "display_data"
    }
   ],
   "source": [
    "double_well_potential.plot_data()"
   ]
  },
  {
   "cell_type": "markdown",
   "metadata": {},
   "source": [
    "### Preparing the classes\n",
    "\n",
    "We now have to cluster the data to set up the machine learning problem for later. We define the clusters using the value range and bin operation. In this case we are binning the data in clusters of [ k/5 -1e-3, k/5 + 1e-3 ] with k in [-5, 5]. We will also visualize the clusters on the original data to aid in understanding how it was chosen."
   ]
  },
  {
   "cell_type": "code",
   "execution_count": 4,
   "metadata": {},
   "outputs": [
    {
     "name": "stdout",
     "output_type": "stream",
     "text": [
      "Loading additional data.\n",
      "WARNING: Not enough data! Some classes will be under-represented.\n"
     ]
    }
   ],
   "source": [
    "double_well_potential.build_clusters(representatives=1500)"
   ]
  },
  {
   "cell_type": "code",
   "execution_count": 5,
   "metadata": {},
   "outputs": [
    {
     "name": "stderr",
     "output_type": "stream",
     "text": [
      "100%|████████████████████████████████| 11/11 [00:00<00:00, 359.07it/s]\n"
     ]
    },
    {
     "data": {
      "image/png": "[encoded data removed]",
      "text/plain": [
       "<Figure size 432x288 with 1 Axes>"
      ]
     },
     "metadata": {
      "needs_background": "light"
     },
     "output_type": "display_data"
    }
   ],
   "source": [
    "double_well_potential.plot_clusters()"
   ]
  },
  {
   "cell_type": "markdown",
   "metadata": {},
   "source": [
    "### Preparing the model\n",
    "\n",
    "We want to use a deep and wide neural network so as to encode a high dimensional representation. "
   ]
  },
  {
   "cell_type": "code",
   "execution_count": 6,
   "metadata": {},
   "outputs": [],
   "source": [
    "model = symdet.DenseModel(n_layers=7,\n",
    "                          units=80,\n",
    "                          epochs=10,\n",
    "                          batch_size=64,\n",
    "                          lr=0.00025)"
   ]
  },
  {
   "cell_type": "markdown",
   "metadata": {},
   "source": [
    "### Running the analysis\n",
    "\n",
    "The next steps are to define a group detection object with the cluster object we used earlier as well as the model to use in training.\n",
    "\n",
    "We then simply run the symmetry detection and can visualize the symmetry relationship."
   ]
  },
  {
   "cell_type": "code",
   "execution_count": 7,
   "metadata": {
    "scrolled": false
   },
   "outputs": [
    {
     "name": "stdout",
     "output_type": "stream",
     "text": [
      "WARNING:tensorflow:Please add `keras.layers.InputLayer` instead of `keras.Input` to Sequential model. `keras.Input` is intended to be used by Functional model.\n",
      "Model: \"sequential\"\n",
      "_________________________________________________________________\n",
      "Layer (type)                 Output Shape              Param #   \n",
      "=================================================================\n",
      "dense (Dense)                (None, 80)                240       \n",
      "_________________________________________________________________\n",
      "dense_1 (Dense)              (None, 80)                6480      \n",
      "_________________________________________________________________\n",
      "dense_2 (Dense)              (None, 80)                6480      \n",
      "_________________________________________________________________\n",
      "dense_3 (Dense)              (None, 80)                6480      \n",
      "_________________________________________________________________\n",
      "dense_4 (Dense)              (None, 80)                6480      \n",
      "_________________________________________________________________\n",
      "second_last_layer (Dense)    (None, 80)                6480      \n",
      "_________________________________________________________________\n",
      "embedding_layer (Dense)      (None, 80)                6480      \n",
      "_________________________________________________________________\n",
      "softmax_layer (Dense)        (None, 11)                891       \n",
      "=================================================================\n",
      "Total params: 40,011\n",
      "Trainable params: 40,011\n",
      "Non-trainable params: 0\n",
      "_________________________________________________________________\n",
      "None\n",
      "Epoch 1/10\n",
      "129/129 [==============================] - 1s 4ms/step - loss: 2.4368 - acc: 0.1341 - val_loss: 2.3644 - val_acc: 0.1430\n",
      "Epoch 2/10\n",
      "129/129 [==============================] - 0s 2ms/step - loss: 2.2012 - acc: 0.2021 - val_loss: 2.0252 - val_acc: 0.2588\n",
      "Epoch 3/10\n",
      "129/129 [==============================] - 0s 2ms/step - loss: 1.8073 - acc: 0.3607 - val_loss: 1.5812 - val_acc: 0.4123\n",
      "Epoch 4/10\n",
      "129/129 [==============================] - 0s 2ms/step - loss: 1.4050 - acc: 0.4949 - val_loss: 1.3121 - val_acc: 0.4642\n",
      "Epoch 5/10\n",
      "129/129 [==============================] - 0s 2ms/step - loss: 1.1224 - acc: 0.6252 - val_loss: 1.0107 - val_acc: 0.6432\n",
      "Epoch 6/10\n",
      "129/129 [==============================] - 0s 2ms/step - loss: 0.9296 - acc: 0.7205 - val_loss: 0.8545 - val_acc: 0.7749\n",
      "Epoch 7/10\n",
      "129/129 [==============================] - 0s 2ms/step - loss: 0.7829 - acc: 0.7921 - val_loss: 0.7131 - val_acc: 0.8335\n",
      "Epoch 8/10\n",
      "129/129 [==============================] - 0s 2ms/step - loss: 0.6715 - acc: 0.8370 - val_loss: 0.7104 - val_acc: 0.6709\n",
      "Epoch 9/10\n",
      "129/129 [==============================] - 0s 2ms/step - loss: 0.5947 - acc: 0.8584 - val_loss: 0.5518 - val_acc: 0.8360\n",
      "Epoch 10/10\n",
      "129/129 [==============================] - 0s 2ms/step - loss: 0.5068 - acc: 0.9230 - val_loss: 0.4616 - val_acc: 0.9796\n",
      "Epoch 1/10\n",
      "129/129 [==============================] - 0s 2ms/step - loss: 0.4344 - acc: 0.9607 - val_loss: 0.4076 - val_acc: 0.9824\n",
      "Epoch 2/10\n",
      "129/129 [==============================] - 0s 2ms/step - loss: 0.3892 - acc: 0.9595 - val_loss: 0.3271 - val_acc: 1.0000\n",
      "Epoch 3/10\n",
      "129/129 [==============================] - 0s 2ms/step - loss: 0.3291 - acc: 0.9852 - val_loss: 0.2922 - val_acc: 1.0000\n",
      "Epoch 4/10\n",
      "129/129 [==============================] - 0s 2ms/step - loss: 0.2856 - acc: 0.9937 - val_loss: 0.2493 - val_acc: 1.0000\n",
      "Epoch 5/10\n",
      "129/129 [==============================] - 0s 2ms/step - loss: 0.2706 - acc: 0.9772 - val_loss: 0.2340 - val_acc: 1.0000\n",
      "Epoch 6/10\n",
      "129/129 [==============================] - 0s 2ms/step - loss: 0.2160 - acc: 0.9971 - val_loss: 0.1869 - val_acc: 1.0000\n",
      "Epoch 7/10\n",
      "129/129 [==============================] - 0s 2ms/step - loss: 0.1757 - acc: 0.9998 - val_loss: 0.1614 - val_acc: 1.0000\n",
      "Epoch 8/10\n",
      "129/129 [==============================] - 0s 2ms/step - loss: 0.1459 - acc: 1.0000 - val_loss: 0.1387 - val_acc: 1.0000\n",
      "Epoch 9/10\n",
      "129/129 [==============================] - 0s 2ms/step - loss: 0.1244 - acc: 1.0000 - val_loss: 0.1273 - val_acc: 1.0000\n",
      "Epoch 10/10\n",
      "129/129 [==============================] - 0s 2ms/step - loss: 0.3162 - acc: 0.9286 - val_loss: 0.1164 - val_acc: 1.0000\n",
      "Epoch 1/10\n",
      "129/129 [==============================] - 0s 2ms/step - loss: 0.1053 - acc: 1.0000 - val_loss: 0.0994 - val_acc: 1.0000\n",
      "Epoch 2/10\n",
      "129/129 [==============================] - 0s 2ms/step - loss: 0.0957 - acc: 1.0000 - val_loss: 0.0940 - val_acc: 1.0000\n",
      "Epoch 3/10\n",
      "129/129 [==============================] - 0s 2ms/step - loss: 0.0882 - acc: 1.0000 - val_loss: 0.0834 - val_acc: 1.0000\n",
      "Epoch 4/10\n",
      "129/129 [==============================] - 0s 2ms/step - loss: 0.0815 - acc: 1.0000 - val_loss: 0.0781 - val_acc: 1.0000\n",
      "Epoch 5/10\n",
      "129/129 [==============================] - 0s 2ms/step - loss: 0.0763 - acc: 1.0000 - val_loss: 0.0745 - val_acc: 1.0000\n",
      "Epoch 6/10\n",
      "129/129 [==============================] - 0s 2ms/step - loss: 0.0706 - acc: 1.0000 - val_loss: 0.0676 - val_acc: 1.0000\n",
      "Epoch 7/10\n",
      "129/129 [==============================] - 0s 2ms/step - loss: 0.0658 - acc: 1.0000 - val_loss: 0.0635 - val_acc: 1.0000\n",
      "Epoch 8/10\n",
      "129/129 [==============================] - 0s 2ms/step - loss: 0.0623 - acc: 1.0000 - val_loss: 0.0632 - val_acc: 1.0000\n",
      "Epoch 9/10\n",
      "129/129 [==============================] - 0s 2ms/step - loss: 0.0590 - acc: 1.0000 - val_loss: 0.0579 - val_acc: 1.0000\n",
      "Epoch 10/10\n",
      "129/129 [==============================] - 0s 2ms/step - loss: 0.0566 - acc: 1.0000 - val_loss: 0.0556 - val_acc: 1.0000\n",
      "Epoch 1/10\n",
      "129/129 [==============================] - 0s 2ms/step - loss: 0.0544 - acc: 1.0000 - val_loss: 0.0530 - val_acc: 1.0000\n",
      "Epoch 2/10\n",
      "129/129 [==============================] - 0s 2ms/step - loss: 0.0520 - acc: 1.0000 - val_loss: 0.0510 - val_acc: 1.0000\n",
      "Epoch 3/10\n",
      "129/129 [==============================] - 0s 2ms/step - loss: 0.0501 - acc: 1.0000 - val_loss: 0.0492 - val_acc: 1.0000\n",
      "Epoch 4/10\n",
      "129/129 [==============================] - 0s 2ms/step - loss: 0.0486 - acc: 1.0000 - val_loss: 0.0477 - val_acc: 1.0000\n",
      "Epoch 5/10\n",
      "129/129 [==============================] - 0s 2ms/step - loss: 0.0471 - acc: 1.0000 - val_loss: 0.0462 - val_acc: 1.0000\n",
      "Epoch 6/10\n",
      "129/129 [==============================] - 0s 2ms/step - loss: 0.0457 - acc: 1.0000 - val_loss: 0.0452 - val_acc: 1.0000\n",
      "Epoch 7/10\n",
      "129/129 [==============================] - 0s 2ms/step - loss: 0.0445 - acc: 1.0000 - val_loss: 0.0443 - val_acc: 1.0000\n",
      "Epoch 8/10\n",
      "129/129 [==============================] - 0s 2ms/step - loss: 0.0435 - acc: 1.0000 - val_loss: 0.0432 - val_acc: 1.0000\n",
      "Epoch 9/10\n",
      "129/129 [==============================] - 0s 2ms/step - loss: 0.0425 - acc: 1.0000 - val_loss: 0.0423 - val_acc: 1.0000\n",
      "Epoch 10/10\n",
      "129/129 [==============================] - 0s 2ms/step - loss: 0.0415 - acc: 1.0000 - val_loss: 0.0410 - val_acc: 1.0000\n",
      "Epoch 1/10\n",
      "129/129 [==============================] - 0s 2ms/step - loss: 0.0406 - acc: 1.0000 - val_loss: 0.0401 - val_acc: 1.0000\n",
      "Epoch 2/10\n",
      "129/129 [==============================] - 0s 2ms/step - loss: 0.0398 - acc: 1.0000 - val_loss: 0.0393 - val_acc: 1.0000\n",
      "Epoch 3/10\n",
      "129/129 [==============================] - 0s 2ms/step - loss: 0.0389 - acc: 1.0000 - val_loss: 0.0384 - val_acc: 1.0000\n",
      "Epoch 4/10\n",
      "129/129 [==============================] - 0s 2ms/step - loss: 0.0381 - acc: 1.0000 - val_loss: 0.0378 - val_acc: 1.0000\n",
      "Epoch 5/10\n",
      "129/129 [==============================] - 0s 2ms/step - loss: 0.0373 - acc: 1.0000 - val_loss: 0.0370 - val_acc: 1.0000\n",
      "Epoch 6/10\n",
      "129/129 [==============================] - 0s 2ms/step - loss: 0.0366 - acc: 1.0000 - val_loss: 0.0361 - val_acc: 1.0000\n",
      "Epoch 7/10\n",
      "129/129 [==============================] - 0s 2ms/step - loss: 0.0358 - acc: 1.0000 - val_loss: 0.0356 - val_acc: 1.0000\n",
      "Epoch 8/10\n",
      "129/129 [==============================] - 0s 2ms/step - loss: 0.0351 - acc: 1.0000 - val_loss: 0.0348 - val_acc: 1.0000\n",
      "Epoch 9/10\n",
      "129/129 [==============================] - 0s 2ms/step - loss: 0.0343 - acc: 1.0000 - val_loss: 0.0340 - val_acc: 1.0000\n",
      "Epoch 10/10\n",
      "129/129 [==============================] - 0s 2ms/step - loss: 0.0336 - acc: 1.0000 - val_loss: 0.0332 - val_acc: 1.0000\n",
      "WARNING:tensorflow:Please add `keras.layers.InputLayer` instead of `keras.Input` to Sequential model. `keras.Input` is intended to be used by Functional model.\n"
     ]
    },
    {
     "data": {
      "image/png": "[encoded data removed]",
      "text/plain": [
       "<Figure size 432x288 with 2 Axes>"
      ]
     },
     "metadata": {
      "needs_background": "light"
     },
     "output_type": "display_data"
    }
   ],
   "source": [
    "sym_detector = symdet.GroupDetection(model, double_well_potential.clustered_data)\n",
    "point_cloud = sym_detector.run_symmetry_detection(plot=True)"
   ]
  },
  {
   "cell_type": "markdown",
   "metadata": {},
   "source": [
    "So now we can analyze our model! We see for the darker colours that there are always two distinct instances corresponding to the symmetry between these radial values. The duplication of these colours means that this is a symmetry group. The test now is to identify the radial values in these clusters and pass them to the generator extraction methods to characterize them."
   ]
  },
  {
   "cell_type": "code",
   "execution_count": 8,
   "metadata": {},
   "outputs": [
    {
     "data": {
      "text/plain": [
       "dict_keys([0.0, 1.0, 3.0, 5.0])"
      ]
     },
     "execution_count": 8,
     "metadata": {},
     "output_type": "execute_result"
    }
   ],
   "source": [
    "point_cloud.keys()"
   ]
  },
  {
   "cell_type": "markdown",
   "metadata": {},
   "source": [
    "We see that the clustering has worked relatively well. This is where some caution is advised in terms of simply parsing this data along to the generator detection. If you see that one of these groups should likely not be in the set then it should be parsed along to the generator extraction stage. Alternatively, you can use a different approach for identifying the sets in the symmetry representation. In the next update we will parse this data to the generator extraction algorithm in order to get the generators of this detected symmetry group."
   ]
  }
 ],
 "metadata": {
  "kernelspec": {
   "display_name": "Python 3",
   "language": "python",
   "name": "python3"
  },
  "language_info": {
   "codemirror_mode": {
    "name": "ipython",
    "version": 3
   },
   "file_extension": ".py",
   "mimetype": "text/x-python",
   "name": "python",
   "nbconvert_exporter": "python",
   "pygments_lexer": "ipython3",
   "version": "3.8.5"
  }
 },
 "nbformat": 4,
 "nbformat_minor": 1
}
