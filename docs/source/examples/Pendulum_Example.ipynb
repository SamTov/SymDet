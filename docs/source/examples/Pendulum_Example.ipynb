{
 "cells": [
  {
   "cell_type": "markdown",
   "metadata": {},
   "source": [
    "# Pendulum Example\n",
    "\n",
    "In this example we go from generating raw simulation data through extracting the generators of the underlying potential using SymDet."
   ]
  },
  {
   "cell_type": "code",
   "execution_count": 1,
   "metadata": {},
   "outputs": [],
   "source": [
    "import symdet\n",
    "from symdet.utils.data_clustering import range_binning\n",
    "import hephaestus as hp\n",
    "import numpy as np\n",
    "import tensorflow as tf\n",
    "import copy\n",
    "import matplotlib.pyplot as plt"
   ]
  },
  {
   "cell_type": "markdown",
   "metadata": {},
   "source": [
    "### Generating the Data\n",
    "\n",
    "First things first, we need to generate some data to use in the symmetry extraction. We have a pendulum swinging ideally with an angle for 4.0 degrees."
   ]
  },
  {
   "cell_type": "code",
   "execution_count": 2,
   "metadata": {},
   "outputs": [],
   "source": [
    "pendulum = hp.SinglePendulum(time_step=0.001, steps=50000, mass=1.0, gravity=10.0, theta_start=5.0)\n",
    "integrator = hp.VelocityVerlet(time_step=0.001, model=pendulum)\n",
    "pendulum.integrator = integrator  # update the integrator"
   ]
  },
  {
   "cell_type": "code",
   "execution_count": 3,
   "metadata": {},
   "outputs": [
    {
     "name": "stderr",
     "output_type": "stream",
     "text": [
      "100%|█████████████████████████| 49999/49999 [00:30<00:00, 1629.48it/s]\n"
     ]
    }
   ],
   "source": [
    "pendulum.run_simulation()  # seperated to avoid unnecesary running of simulations."
   ]
  },
  {
   "cell_type": "markdown",
   "metadata": {},
   "source": [
    "Before rushing into clustering and generator studies we should spend some time looking at the data that has been generated."
   ]
  },
  {
   "cell_type": "code",
   "execution_count": 4,
   "metadata": {},
   "outputs": [
    {
     "data": {
      "image/png": "[encoded data removed]",
      "text/plain": [
       "<Figure size 432x288 with 1 Axes>"
      ]
     },
     "metadata": {
      "needs_background": "light"
     },
     "output_type": "display_data"
    }
   ],
   "source": [
    "plt.plot(pendulum.theta, pendulum.pe, ',')\n",
    "plt.grid()\n",
    "plt.xlabel(r'$\\theta$')\n",
    "plt.ylabel('PE')\n",
    "plt.show()"
   ]
  },
  {
   "cell_type": "markdown",
   "metadata": {},
   "source": [
    "### Clustering the Data"
   ]
  },
  {
   "cell_type": "code",
   "execution_count": 5,
   "metadata": {},
   "outputs": [],
   "source": [
    "x_data = pendulum.length * np.sin(pendulum.theta)\n",
    "y_data = pendulum.length * np.cos(pendulum.theta)\n",
    "domain = tf.convert_to_tensor(list(zip(x_data, y_data)))\n",
    "image = tf.convert_to_tensor(pendulum.pe / max(pendulum.pe))"
   ]
  },
  {
   "cell_type": "code",
   "execution_count": 6,
   "metadata": {},
   "outputs": [
    {
     "name": "stdout",
     "output_type": "stream",
     "text": [
      "WARNING: Not enough data! Some classes will be under-represented.\n"
     ]
    }
   ],
   "source": [
    "clustered_data = range_binning(image=image,\n",
    "              domain=domain,\n",
    "              value_range=[0, 3],\n",
    "              bin_operation=[1 / 5, 0.008],\n",
    "              representatives=500)"
   ]
  },
  {
   "cell_type": "code",
   "execution_count": 7,
   "metadata": {},
   "outputs": [
    {
     "data": {
      "image/png": "[encoded data removed]",
      "text/plain": [
       "<Figure size 432x288 with 1 Axes>"
      ]
     },
     "metadata": {
      "needs_background": "light"
     },
     "output_type": "display_data"
    }
   ],
   "source": [
    "plt.plot(pendulum.theta, pendulum.pe / max(pendulum.pe), ',')\n",
    "plt.grid()\n",
    "plt.xlabel(r'$\\theta$')\n",
    "plt.ylabel('PE')\n",
    "\n",
    "for i, item in enumerate(clustered_data):\n",
    "    theta = np.arcsin(clustered_data[item]['domain'][:, 0]) / pendulum.length\n",
    "    v = clustered_data[item]['image']\n",
    "    plt.plot(theta, v, '.', label=f\"Class {i}\", markersize=6)\n",
    "\n",
    "plt.legend(loc='center left', bbox_to_anchor=(1, 0.5))\n",
    "\n",
    "plt.show()"
   ]
  },
  {
   "cell_type": "markdown",
   "metadata": {},
   "source": [
    "### Detecting Symmetry Groups"
   ]
  },
  {
   "cell_type": "code",
   "execution_count": 8,
   "metadata": {},
   "outputs": [],
   "source": [
    "model = symdet.DenseModel(n_layers=7,\n",
    "                          units=80,\n",
    "                          epochs=10,\n",
    "                          batch_size=64,\n",
    "                          lr=0.00025)"
   ]
  },
  {
   "cell_type": "code",
   "execution_count": 9,
   "metadata": {
    "scrolled": false
   },
   "outputs": [],
   "source": [
    "sym_detector = symdet.GroupDetection(model, clustered_data)"
   ]
  },
  {
   "cell_type": "code",
   "execution_count": 11,
   "metadata": {
    "scrolled": false
   },
   "outputs": [
    {
     "name": "stdout",
     "output_type": "stream",
     "text": [
      "WARNING:tensorflow:Please add `keras.layers.InputLayer` instead of `keras.Input` to Sequential model. `keras.Input` is intended to be used by Functional model.\n",
      "Model: \"sequential\"\n",
      "_________________________________________________________________\n",
      "Layer (type)                 Output Shape              Param #   \n",
      "=================================================================\n",
      "dense (Dense)                (None, 80)                240       \n",
      "_________________________________________________________________\n",
      "dense_1 (Dense)              (None, 80)                6480      \n",
      "_________________________________________________________________\n",
      "dense_2 (Dense)              (None, 80)                6480      \n",
      "_________________________________________________________________\n",
      "dense_3 (Dense)              (None, 80)                6480      \n",
      "_________________________________________________________________\n",
      "dense_4 (Dense)              (None, 80)                6480      \n",
      "_________________________________________________________________\n",
      "second_last_layer (Dense)    (None, 80)                6480      \n",
      "_________________________________________________________________\n",
      "embedding_layer (Dense)      (None, 80)                6480      \n",
      "_________________________________________________________________\n",
      "softmax_layer (Dense)        (None, 4)                 324       \n",
      "=================================================================\n",
      "Total params: 39,444\n",
      "Trainable params: 39,444\n",
      "Non-trainable params: 0\n",
      "_________________________________________________________________\n",
      "None\n",
      "Epoch 1/10\n",
      "16/16 [==============================] - 1s 18ms/step - loss: 1.4639 - acc: 0.2200 - val_loss: 1.4610 - val_acc: 0.2500\n",
      "Epoch 2/10\n",
      "16/16 [==============================] - 0s 4ms/step - loss: 1.4591 - acc: 0.2920 - val_loss: 1.4566 - val_acc: 0.3767\n",
      "Epoch 3/10\n",
      "16/16 [==============================] - 0s 5ms/step - loss: 1.4549 - acc: 0.2930 - val_loss: 1.4524 - val_acc: 0.3767\n",
      "Epoch 4/10\n",
      "16/16 [==============================] - 0s 3ms/step - loss: 1.4508 - acc: 0.3450 - val_loss: 1.4484 - val_acc: 0.5000\n",
      "Epoch 5/10\n",
      "16/16 [==============================] - 0s 4ms/step - loss: 1.4467 - acc: 0.3560 - val_loss: 1.4443 - val_acc: 0.2500\n",
      "Epoch 6/10\n",
      "16/16 [==============================] - 0s 4ms/step - loss: 1.4430 - acc: 0.3150 - val_loss: 1.4402 - val_acc: 0.6267\n",
      "Epoch 7/10\n",
      "16/16 [==============================] - 0s 5ms/step - loss: 1.4385 - acc: 0.4200 - val_loss: 1.4359 - val_acc: 0.5000\n",
      "Epoch 8/10\n",
      "16/16 [==============================] - 0s 3ms/step - loss: 1.4338 - acc: 0.4390 - val_loss: 1.4305 - val_acc: 0.3767\n",
      "Epoch 9/10\n",
      "16/16 [==============================] - 0s 3ms/step - loss: 1.4281 - acc: 0.3760 - val_loss: 1.4241 - val_acc: 0.3767\n",
      "Epoch 10/10\n",
      "16/16 [==============================] - 0s 3ms/step - loss: 1.4202 - acc: 0.3730 - val_loss: 1.4159 - val_acc: 0.3767\n",
      "Epoch 1/10\n",
      "16/16 [==============================] - 0s 7ms/step - loss: 1.4105 - acc: 0.3820 - val_loss: 1.4018 - val_acc: 0.3767\n",
      "Epoch 2/10\n",
      "16/16 [==============================] - 0s 3ms/step - loss: 1.3934 - acc: 0.3730 - val_loss: 1.3787 - val_acc: 0.3767\n",
      "Epoch 3/10\n",
      "16/16 [==============================] - 0s 4ms/step - loss: 1.3651 - acc: 0.3730 - val_loss: 1.3427 - val_acc: 0.3767\n",
      "Epoch 4/10\n",
      "16/16 [==============================] - 0s 4ms/step - loss: 1.3206 - acc: 0.3880 - val_loss: 1.2794 - val_acc: 0.3767\n",
      "Epoch 5/10\n",
      "16/16 [==============================] - 0s 6ms/step - loss: 1.2449 - acc: 0.4910 - val_loss: 1.1860 - val_acc: 0.5000\n",
      "Epoch 6/10\n",
      "16/16 [==============================] - 0s 4ms/step - loss: 1.1350 - acc: 0.5820 - val_loss: 1.0477 - val_acc: 0.5000\n",
      "Epoch 7/10\n",
      "16/16 [==============================] - 0s 3ms/step - loss: 0.9870 - acc: 0.5930 - val_loss: 0.8977 - val_acc: 0.7500\n",
      "Epoch 8/10\n",
      "16/16 [==============================] - 0s 4ms/step - loss: 0.8335 - acc: 0.7400 - val_loss: 0.7501 - val_acc: 0.7500\n",
      "Epoch 9/10\n",
      "16/16 [==============================] - 0s 5ms/step - loss: 0.6981 - acc: 0.7810 - val_loss: 0.6329 - val_acc: 0.8767\n",
      "Epoch 10/10\n",
      "16/16 [==============================] - 0s 3ms/step - loss: 0.5987 - acc: 0.8960 - val_loss: 0.5449 - val_acc: 0.8733\n",
      "Epoch 1/10\n",
      "16/16 [==============================] - 0s 5ms/step - loss: 0.5146 - acc: 0.9200 - val_loss: 0.4703 - val_acc: 1.0000\n",
      "Epoch 2/10\n",
      "16/16 [==============================] - 0s 4ms/step - loss: 0.4341 - acc: 0.9860 - val_loss: 0.3856 - val_acc: 1.0000\n",
      "Epoch 3/10\n",
      "16/16 [==============================] - 0s 4ms/step - loss: 0.3685 - acc: 1.0000 - val_loss: 0.3293 - val_acc: 1.0000\n",
      "Epoch 4/10\n",
      "16/16 [==============================] - 0s 3ms/step - loss: 0.3072 - acc: 1.0000 - val_loss: 0.3197 - val_acc: 1.0000\n",
      "Epoch 5/10\n",
      "16/16 [==============================] - 0s 4ms/step - loss: 0.2685 - acc: 1.0000 - val_loss: 0.2382 - val_acc: 1.0000\n",
      "Epoch 6/10\n",
      "16/16 [==============================] - 0s 3ms/step - loss: 0.2215 - acc: 1.0000 - val_loss: 0.2045 - val_acc: 1.0000\n",
      "Epoch 7/10\n",
      "16/16 [==============================] - 0s 6ms/step - loss: 0.1865 - acc: 1.0000 - val_loss: 0.1659 - val_acc: 1.0000\n",
      "Epoch 8/10\n",
      "16/16 [==============================] - 0s 3ms/step - loss: 0.1560 - acc: 1.0000 - val_loss: 0.1417 - val_acc: 1.0000\n",
      "Epoch 9/10\n",
      "16/16 [==============================] - 0s 3ms/step - loss: 0.1356 - acc: 1.0000 - val_loss: 0.1216 - val_acc: 1.0000\n",
      "Epoch 10/10\n",
      "16/16 [==============================] - 0s 4ms/step - loss: 0.1186 - acc: 1.0000 - val_loss: 0.1058 - val_acc: 1.0000\n",
      "Epoch 1/10\n",
      "16/16 [==============================] - 0s 5ms/step - loss: 0.1015 - acc: 1.0000 - val_loss: 0.0908 - val_acc: 1.0000\n",
      "Epoch 2/10\n",
      "16/16 [==============================] - 0s 4ms/step - loss: 0.0874 - acc: 1.0000 - val_loss: 0.0810 - val_acc: 1.0000\n",
      "Epoch 3/10\n",
      "16/16 [==============================] - 0s 4ms/step - loss: 0.0811 - acc: 1.0000 - val_loss: 0.0763 - val_acc: 1.0000\n",
      "Epoch 4/10\n",
      "16/16 [==============================] - 0s 3ms/step - loss: 0.0711 - acc: 1.0000 - val_loss: 0.0657 - val_acc: 1.0000\n",
      "Epoch 5/10\n",
      "16/16 [==============================] - 0s 3ms/step - loss: 0.0636 - acc: 1.0000 - val_loss: 0.0609 - val_acc: 1.0000\n",
      "Epoch 6/10\n",
      "16/16 [==============================] - 0s 3ms/step - loss: 0.0595 - acc: 1.0000 - val_loss: 0.0565 - val_acc: 1.0000\n",
      "Epoch 7/10\n",
      "16/16 [==============================] - 0s 4ms/step - loss: 0.0557 - acc: 1.0000 - val_loss: 0.0527 - val_acc: 1.0000\n",
      "Epoch 8/10\n",
      "16/16 [==============================] - 0s 4ms/step - loss: 0.0516 - acc: 1.0000 - val_loss: 0.0505 - val_acc: 1.0000\n",
      "Epoch 9/10\n",
      "16/16 [==============================] - 0s 3ms/step - loss: 0.0493 - acc: 1.0000 - val_loss: 0.0471 - val_acc: 1.0000\n",
      "Epoch 10/10\n",
      "16/16 [==============================] - 0s 3ms/step - loss: 0.0467 - acc: 1.0000 - val_loss: 0.0451 - val_acc: 1.0000\n",
      "Epoch 1/10\n",
      "16/16 [==============================] - 0s 7ms/step - loss: 0.0444 - acc: 1.0000 - val_loss: 0.0430 - val_acc: 1.0000\n",
      "Epoch 2/10\n",
      "16/16 [==============================] - 0s 3ms/step - loss: 0.0428 - acc: 1.0000 - val_loss: 0.0415 - val_acc: 1.0000\n",
      "Epoch 3/10\n",
      "16/16 [==============================] - 0s 3ms/step - loss: 0.0414 - acc: 1.0000 - val_loss: 0.0403 - val_acc: 1.0000\n",
      "Epoch 4/10\n",
      "16/16 [==============================] - 0s 3ms/step - loss: 0.0399 - acc: 1.0000 - val_loss: 0.0392 - val_acc: 1.0000\n",
      "Epoch 5/10\n",
      "16/16 [==============================] - 0s 4ms/step - loss: 0.0391 - acc: 1.0000 - val_loss: 0.0383 - val_acc: 1.0000\n",
      "Epoch 6/10\n",
      "16/16 [==============================] - 0s 5ms/step - loss: 0.0376 - acc: 1.0000 - val_loss: 0.0370 - val_acc: 1.0000\n",
      "Epoch 7/10\n",
      "16/16 [==============================] - 0s 4ms/step - loss: 0.0368 - acc: 1.0000 - val_loss: 0.0364 - val_acc: 1.0000\n",
      "Epoch 8/10\n",
      "16/16 [==============================] - 0s 4ms/step - loss: 0.0358 - acc: 1.0000 - val_loss: 0.0351 - val_acc: 1.0000\n",
      "Epoch 9/10\n",
      "16/16 [==============================] - 0s 3ms/step - loss: 0.0348 - acc: 1.0000 - val_loss: 0.0344 - val_acc: 1.0000\n",
      "Epoch 10/10\n",
      "16/16 [==============================] - 0s 5ms/step - loss: 0.0341 - acc: 1.0000 - val_loss: 0.0338 - val_acc: 1.0000\n",
      "WARNING:tensorflow:Please add `keras.layers.InputLayer` instead of `keras.Input` to Sequential model. `keras.Input` is intended to be used by Functional model.\n"
     ]
    },
    {
     "data": {
      "image/png": "[encoded data removed]",
      "text/plain": [
       "<Figure size 432x288 with 2 Axes>"
      ]
     },
     "metadata": {
      "needs_background": "light"
     },
     "output_type": "display_data"
    }
   ],
   "source": [
    "point_cloud = sym_detector.run_symmetry_detection()"
   ]
  },
  {
   "cell_type": "markdown",
   "metadata": {},
   "source": [
    "### A quick sanity check\n",
    "\n",
    "At this stage we need to stop and check that we have collected some group data on which to extract generators. We do this by looking at the keys of the point_cloud and seeing if they look good when compared to the tSNE representation."
   ]
  },
  {
   "cell_type": "code",
   "execution_count": 12,
   "metadata": {},
   "outputs": [
    {
     "data": {
      "text/plain": [
       "dict_keys([3.0])"
      ]
     },
     "execution_count": 12,
     "metadata": {},
     "output_type": "execute_result"
    }
   ],
   "source": [
    "point_cloud.keys()"
   ]
  },
  {
   "cell_type": "markdown",
   "metadata": {},
   "source": [
    "In this case, the points selected are from groups 1.0, 2.0, and 3.0, which, by looking at both the tSNE representation and the cluster image above, looks correct. However, it is also very possible that we are now missing data that is also clearly clustered. This is due to the pair detection algorithm being used as is currently being re-evaluated and improved. For now, if you want to make the code more sensitive to pairs in the tSNE representation you can do so in the source code."
   ]
  },
  {
   "cell_type": "code",
   "execution_count": 14,
   "metadata": {},
   "outputs": [
    {
     "name": "stderr",
     "output_type": "stream",
     "text": [
      "Producing generator candidates: 100%|█████████████████████████████████| 5/5 [07:05<00:00, 85.17s/it]"
     ]
    },
    {
     "name": "stdout",
     "output_type": "stream",
     "text": [
      "Principle Component 1: Explained Variance: 1.0\n",
      "[[-4.09885574e-04  4.62072724e-04]\n",
      " [-9.99999679e-01 -5.10757461e-04]]\n",
      "\n",
      "\n",
      "Principle Component 2: Explained Variance: 1.9849783433354677e-38\n",
      "[[-4.62828467e-01 -5.80943111e-01]\n",
      " [-4.20708106e-04  6.69548157e-01]]\n",
      "\n",
      "\n",
      "Principle Component 3: Explained Variance: 5.572204974647974e-40\n",
      "[[-4.17203676e-01 -5.23675465e-01]\n",
      " [ 3.08404258e-04 -7.42768473e-01]]\n",
      "\n",
      "\n",
      "Principle Component 4: Explained Variance: 0.0\n",
      "[[-7.82132172e-01  6.23112265e-01]\n",
      " [ 6.08508071e-04  1.24628931e-13]]\n",
      "\n",
      "\n"
     ]
    },
    {
     "name": "stderr",
     "output_type": "stream",
     "text": [
      "\n"
     ]
    },
    {
     "data": {
      "image/png": "[encoded data removed]",
      "text/plain": [
       "<Figure size 432x288 with 1 Axes>"
      ]
     },
     "metadata": {
      "needs_background": "light"
     },
     "output_type": "display_data"
    }
   ],
   "source": [
    "generator_list = {}\n",
    "for item in point_cloud:\n",
    "    try:\n",
    "        generator_list[item] = {}\n",
    "        generator_extractor = symdet.GeneratorExtraction(\n",
    "                              point_cloud[item],  # clustered data\n",
    "                              delta=0.5,         # distance of points to hyperplane\n",
    "                              epsilon=0.3,       # distance between points connected by a generator\n",
    "                              candidate_runs=5   # Number of times to run the extraction loop\n",
    "                            ) \n",
    "        generators, variance_list = generator_extractor.perform_generator_extraction(pca_components=4,\n",
    "                                                                                     plot=True,\n",
    "                                                                                     factor=False,\n",
    "                                                                                     gs_precision=3)\n",
    "        generator_list[item]['generators'] = generators\n",
    "        generator_list[item]['variance'] = variance_list\n",
    "    except ValueError:\n",
    "        print(f\"No generator found for {item}\")\n",
    "        continue"
   ]
  },
  {
   "cell_type": "markdown",
   "metadata": {},
   "source": [
    "There are a few interesting points to go through here. The first, and most important, is the final plot. We can see that the code has produced a single relevant generator matrix suggesting that the space was correctly defined. The second point is the actual generator that was found. We can see that is appears to only cotain one dominant points, i.e. the -1 in the in the lower left corner of the matrix. This is not exactly what one would expect to see in tru SO(2) symmetry but considering that the energy is only indirectly influence by the x-position it is not unlikely that the generator is reduced to only a single number."
   ]
  }
 ],
 "metadata": {
  "kernelspec": {
   "display_name": "Python 3",
   "language": "python",
   "name": "python3"
  },
  "language_info": {
   "codemirror_mode": {
    "name": "ipython",
    "version": 3
   },
   "file_extension": ".py",
   "mimetype": "text/x-python",
   "name": "python",
   "nbconvert_exporter": "python",
   "pygments_lexer": "ipython3",
   "version": "3.8.5"
  }
 },
 "nbformat": 4,
 "nbformat_minor": 4
}
