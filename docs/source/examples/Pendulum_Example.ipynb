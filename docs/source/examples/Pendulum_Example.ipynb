{
 "cells": [
  {
   "cell_type": "markdown",
   "metadata": {},
   "source": [
    "# Pendulum Example\n",
    "\n",
    "In this example we go from generating raw simulation data through extracting the generators of the underlying potential using SymDet."
   ]
  },
  {
   "cell_type": "code",
   "execution_count": 1,
   "metadata": {},
   "outputs": [],
   "source": [
    "import symdet\n",
    "from symdet.utils.data_clustering import range_binning\n",
    "import hephaestus as hp\n",
    "import numpy as np\n",
    "import tensorflow as tf\n",
    "import copy\n",
    "import matplotlib.pyplot as plt"
   ]
  },
  {
   "cell_type": "markdown",
   "metadata": {},
   "source": [
    "### Generating the Data\n",
    "\n",
    "First things first, we need to generate some data to use in the symmetry extraction. We have a pendulum swinging ideally with an angle for 4.0 degrees."
   ]
  },
  {
   "cell_type": "code",
   "execution_count": 2,
   "metadata": {},
   "outputs": [],
   "source": [
    "pendulum = hp.SinglePendulum(time_step=0.001, steps=50000, mass=1.0, gravity=10.0, theta_start=5.0)\n",
    "integrator = hp.VelocityVerlet(time_step=0.001, model=pendulum)\n",
    "pendulum.integrator = integrator  # update the integrator"
   ]
  },
  {
   "cell_type": "code",
   "execution_count": 3,
   "metadata": {},
   "outputs": [
    {
     "name": "stderr",
     "output_type": "stream",
     "text": [
      "100%|█████████████████████████| 49999/49999 [00:27<00:00, 1838.17it/s]\n"
     ]
    }
   ],
   "source": [
    "pendulum.run_simulation()  # seperated to avoid unnecesary running of simulations."
   ]
  },
  {
   "cell_type": "markdown",
   "metadata": {},
   "source": [
    "Before rushing into clustering and generator studies we should spend some time looking at the data that has been generated."
   ]
  },
  {
   "cell_type": "code",
   "execution_count": 4,
   "metadata": {},
   "outputs": [
    {
     "data": {
      "image/png": "[encoded data removed]",
      "text/plain": [
       "<Figure size 432x288 with 1 Axes>"
      ]
     },
     "metadata": {
      "needs_background": "light"
     },
     "output_type": "display_data"
    }
   ],
   "source": [
    "plt.plot(pendulum.theta, pendulum.pe, ',')\n",
    "plt.grid()\n",
    "plt.xlabel(r'$\\theta$')\n",
    "plt.ylabel('PE')\n",
    "plt.show()"
   ]
  },
  {
   "cell_type": "markdown",
   "metadata": {},
   "source": [
    "### Clustering the Data"
   ]
  },
  {
   "cell_type": "code",
   "execution_count": 5,
   "metadata": {},
   "outputs": [],
   "source": [
    "x_data = pendulum.length * np.sin(pendulum.theta)\n",
    "y_data = pendulum.length * np.cos(pendulum.theta)\n",
    "domain = tf.convert_to_tensor(list(zip(x_data, y_data)))\n",
    "image = tf.convert_to_tensor(pendulum.pe / max(pendulum.pe))"
   ]
  },
  {
   "cell_type": "code",
   "execution_count": 6,
   "metadata": {},
   "outputs": [
    {
     "name": "stdout",
     "output_type": "stream",
     "text": [
      "WARNING: Not enough data! Some classes will be under-represented.\n"
     ]
    }
   ],
   "source": [
    "clustered_data = range_binning(image=image,\n",
    "              domain=domain,\n",
    "              value_range=[0, 3],\n",
    "              bin_operation=[1 / 5, 0.008],\n",
    "              representatives=500)"
   ]
  },
  {
   "cell_type": "code",
   "execution_count": 7,
   "metadata": {},
   "outputs": [
    {
     "data": {
      "image/png": "[encoded data removed]",
      "text/plain": [
       "<Figure size 432x288 with 1 Axes>"
      ]
     },
     "metadata": {
      "needs_background": "light"
     },
     "output_type": "display_data"
    }
   ],
   "source": [
    "plt.plot(pendulum.theta, pendulum.pe / max(pendulum.pe), ',')\n",
    "plt.grid()\n",
    "plt.xlabel(r'$\\theta$')\n",
    "plt.ylabel('PE')\n",
    "\n",
    "for i, item in enumerate(clustered_data):\n",
    "    theta = np.arcsin(clustered_data[item]['domain'][:, 0]) / pendulum.length\n",
    "    v = clustered_data[item]['image']\n",
    "    plt.plot(theta, v, '.', label=f\"Class {i}\", markersize=6)\n",
    "\n",
    "plt.legend(loc='center left', bbox_to_anchor=(1, 0.5))\n",
    "\n",
    "plt.show()"
   ]
  },
  {
   "cell_type": "markdown",
   "metadata": {},
   "source": [
    "### Detecting Symmetry Groups"
   ]
  },
  {
   "cell_type": "code",
   "execution_count": 8,
   "metadata": {},
   "outputs": [],
   "source": [
    "model = symdet.DenseModel(n_layers=7,\n",
    "                          units=80,\n",
    "                          epochs=10,\n",
    "                          batch_size=64,\n",
    "                          lr=0.00025)"
   ]
  },
  {
   "cell_type": "code",
   "execution_count": 9,
   "metadata": {
    "scrolled": false
   },
   "outputs": [],
   "source": [
    "sym_detector = symdet.GroupDetection(model, clustered_data)"
   ]
  },
  {
   "cell_type": "markdown",
   "metadata": {},
   "source": [
    "### A quick sanity check\n",
    "\n",
    "At this stage we need to stop and check that we have collected some group data on which to extract generators. We do this by looking at the keys of the point_cloud and seeing if they look good when compared to the tSNE representation."
   ]
  },
  {
   "cell_type": "code",
   "execution_count": 11,
   "metadata": {},
   "outputs": [
    {
     "data": {
      "text/plain": [
       "dict_keys([1.0])"
      ]
     },
     "execution_count": 11,
     "metadata": {},
     "output_type": "execute_result"
    }
   ],
   "source": [
    "point_cloud.keys()"
   ]
  },
  {
   "cell_type": "markdown",
   "metadata": {},
   "source": [
    "In this case, the points selected are from groups 1.0, 2.0, and 3.0, which, by looking at both the tSNE representation and the cluster image above, looks correct. However, it is also very possible that we are now missing data that is also clearly clustered. This is due to the pair detection algorithm being used as is currently being re-evaluated and improved. For now, if you want to make the code more sensitive to pairs in the tSNE representation you can do so in the source code."
   ]
  },
  {
   "cell_type": "code",
   "execution_count": 13,
   "metadata": {},
   "outputs": [
    {
     "name": "stderr",
     "output_type": "stream",
     "text": [
      "Producing generator candidates: 100%|█████████████████████████████████| 5/5 [06:05<00:00, 73.00s/it]"
     ]
    },
    {
     "name": "stdout",
     "output_type": "stream",
     "text": [
      "Principle Component 1: Explained Variance: 1.0\n",
      "[[ 3.96040687e-04  4.03361962e-04]\n",
      " [-9.99999807e-01 -2.56381583e-04]]\n",
      "\n",
      "\n",
      "Principle Component 2: Explained Variance: 1.9333975529184653e-39\n",
      "[[6.48179537e-01 6.60161894e-01]\n",
      " [4.25683098e-04 3.79538379e-01]]\n",
      "\n",
      "\n",
      "Principle Component 3: Explained Variance: 6.512479373171105e-72\n",
      "[[-2.66043536e-01 -2.70684524e-01]\n",
      " [-4.51746065e-04  9.25175941e-01]]\n",
      "\n",
      "\n",
      "Principle Component 4: Explained Variance: 0.0\n",
      "[[ 7.13501204e-01 -7.00653980e-01]\n",
      " [-8.77122949e-08  1.79634780e-04]]\n",
      "\n",
      "\n"
     ]
    },
    {
     "name": "stderr",
     "output_type": "stream",
     "text": [
      "\n"
     ]
    },
    {
     "data": {
      "image/png": "[encoded data removed]",
      "text/plain": [
       "<Figure size 432x288 with 1 Axes>"
      ]
     },
     "metadata": {
      "needs_background": "light"
     },
     "output_type": "display_data"
    }
   ],
   "source": [
    "generator_list = {}\n",
    "for item in point_cloud:\n",
    "    try:\n",
    "        generator_list[item] = {}\n",
    "        generator_extractor = symdet.GeneratorExtraction(\n",
    "                              point_cloud[item],  # clustered data\n",
    "                              delta=0.5,         # distance of points to hyperplane\n",
    "                              epsilon=0.3,       # distance between points connected by a generator\n",
    "                              candidate_runs=5   # Number of times to run the extraction loop\n",
    "                            ) \n",
    "        generators, variance_list = generator_extractor.perform_generator_extraction(pca_components=4,\n",
    "                                                                                     plot=True,\n",
    "                                                                                     factor=False\n",
    "                                                                                     gs_precision=3)\n",
    "        generator_list[item]['generators'] = generators\n",
    "        generator_list[item]['variance'] = variance_list\n",
    "    except ValueError:\n",
    "        print(f\"No generator found for {item}\")\n",
    "        continue"
   ]
  },
  {
   "cell_type": "markdown",
   "metadata": {},
   "source": [
    "There are a few interesting points to go through here. The first, and most important, is the final plot. We can see that the code has produced a single relevant generator matrix suggesting that the space was correctly defined. The second point is the actual generator that was found. We can see that is appears to only cotain one dominant points, i.e. the -1 in the in the lower left corner of the matrix. This is not exactly what one would expect to see in tru SO(2) symmetry but considering that the energy is only indirectly influence by the x-position it is not unlikely that the generator is reduced to only a single number."
   ]
  }
 ],
 "metadata": {
  "kernelspec": {
   "display_name": "Python 3",
   "language": "python",
   "name": "python3"
  },
  "language_info": {
   "codemirror_mode": {
    "name": "ipython",
    "version": 3
   },
   "file_extension": ".py",
   "mimetype": "text/x-python",
   "name": "python",
   "nbconvert_exporter": "python",
   "pygments_lexer": "ipython3",
   "version": "3.8.5"
  }
 },
 "nbformat": 4,
 "nbformat_minor": 4
}
