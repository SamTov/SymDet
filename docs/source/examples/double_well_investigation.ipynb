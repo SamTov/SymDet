{
 "cells": [
  {
   "cell_type": "markdown",
   "metadata": {
    "collapsed": true
   },
   "source": [
    "# Double Well Potential Symmetry Visualization"
   ]
  },
  {
   "cell_type": "markdown",
   "metadata": {},
   "source": [
    "In this notebook we will perform symmetry group visualization on some double well potential data.\n",
    "\n",
    "The imports for this one are quite numerous as we are doing the analysis piece by piece. Once there is a bridge between group detection and generator extraction I will add some generalzed methods for doing some of this automatically. Let's quickly mention what we are importing.\n",
    "\n",
    "1. The class for a Double Well Potential. This is just for some test data generation.\n",
    "2. DenseModel is a class written to take care of setting up and deploying a neural network.\n",
    "3. DataCluster is reponsible for taking raw potential data and partitioning it into classes for the classification problems.\n",
    "3. Group detection performs the TSNE reduction and finds our symmetry groups"
   ]
  },
  {
   "cell_type": "markdown",
   "metadata": {},
   "source": [
    "from symdet.test_systems.double_well_potential import DoubleWellPotential\n",
    "from symdet.models.dense_model import DenseModel\n",
    "from symdet.symmetry_groups.data_clustering import DataCluster\n",
    "from symdet.symmetry_groups.group_detection import GroupDetection"
   ]
  },
  {
   "cell_type": "code",
   "execution_count": 1,
   "metadata": {},
   "outputs": [],
   "source": [
    "from symdet.test_systems.double_well_potential import DoubleWellPotential\n",
    "from symdet.models.dense_model import DenseModel\n",
    "from symdet.symmetry_groups.data_clustering import DataCluster\n",
    "from symdet.symmetry_groups.group_detection import GroupDetection\n",
    "import matplotlib.pyplot as plt\n",
    "import numpy as np\n",
    "from sklearn.cluster import MeanShift, estimate_bandwidth"
   ]
  },
  {
   "cell_type": "markdown",
   "metadata": {},
   "source": [
    "###  Preparing data\n",
    "So you want to prepare some simple data from a double well potential so that we can identify some symmetry groups. Luckily, we were prepared for this scenario and wrote a class just for you!"
   ]
  },
  {
   "cell_type": "code",
   "execution_count": 2,
   "metadata": {},
   "outputs": [],
   "source": [
    "double_well_potential = DoubleWellPotential(a=2.4)"
   ]
  },
  {
   "cell_type": "markdown",
   "metadata": {},
   "source": [
    "As simple as that we have a double well potential. But we can also take a look at it."
   ]
  },
  {
   "cell_type": "code",
   "execution_count": 3,
   "metadata": {},
   "outputs": [
    {
     "data": {
      "image/png": "[encoded data removed]",
      "text/plain": [
       "<Figure size 432x288 with 1 Axes>"
      ]
     },
     "metadata": {
      "needs_background": "light"
     },
     "output_type": "display_data"
    }
   ],
   "source": [
    "double_well_potential.plot_potential()"
   ]
  },
  {
   "cell_type": "markdown",
   "metadata": {},
   "source": [
    "### Preparing the classes\n",
    "\n",
    "We now have to cluster the data to set up the machine learning problem for later. We define the clusters using the value range and bin operation. In this case we are binning the data in clusters of [ k/5 -1e-3, k/5 + 1e-3 ] with k in [-5, 5]. We will also visualize the clusters on the original data to aid in understanding how it was chosen."
   ]
  },
  {
   "cell_type": "code",
   "execution_count": 4,
   "metadata": {},
   "outputs": [],
   "source": [
    "clustering = DataCluster(double_well_potential.get_function_values())\n",
    "training_data = clustering.range_binning(value_range=[-5, 5],\n",
    "                                         bin_operation=[1 / 5, 1e-3],\n",
    "                                         representatives=1000,\n",
    "                                         plot=False)"
   ]
  },
  {
   "cell_type": "code",
   "execution_count": 5,
   "metadata": {},
   "outputs": [],
   "source": [
    "#clustering.plot_clusters(training_data)"
   ]
  },
  {
   "cell_type": "markdown",
   "metadata": {},
   "source": [
    "### Preparing the model\n",
    "\n",
    "We want to use a deep and wide neural network so as to encode a high dimensional representation. "
   ]
  },
  {
   "cell_type": "code",
   "execution_count": 6,
   "metadata": {},
   "outputs": [],
   "source": [
    "model = DenseModel(training_data,\n",
    "                   n_layers=7,\n",
    "                   units=80,\n",
    "                   epochs=10,\n",
    "                   batch_size=64,\n",
    "                   lr=0.00025)"
   ]
  },
  {
   "cell_type": "markdown",
   "metadata": {},
   "source": [
    "### Running the analysis\n",
    "\n",
    "The next steps are to define a group detection object with the cluster object we used earlier as well as the model to use in training.\n",
    "\n",
    "We then simply run the symmetry detection and can visualize the symmetry relationship."
   ]
  },
  {
   "cell_type": "code",
   "execution_count": 7,
   "metadata": {
    "scrolled": false
   },
   "outputs": [
    {
     "name": "stdout",
     "output_type": "stream",
     "text": [
      "WARNING:tensorflow:Please add `keras.layers.InputLayer` instead of `keras.Input` to Sequential model. `keras.Input` is intended to be used by Functional model.\n",
      "Model: \"sequential\"\n",
      "_________________________________________________________________\n",
      "Layer (type)                 Output Shape              Param #   \n",
      "=================================================================\n",
      "dense (Dense)                (None, 80)                160       \n",
      "_________________________________________________________________\n",
      "dense_1 (Dense)              (None, 80)                6480      \n",
      "_________________________________________________________________\n",
      "dense_2 (Dense)              (None, 80)                6480      \n",
      "_________________________________________________________________\n",
      "dense_3 (Dense)              (None, 80)                6480      \n",
      "_________________________________________________________________\n",
      "dense_4 (Dense)              (None, 80)                6480      \n",
      "_________________________________________________________________\n",
      "second_last_layer (Dense)    (None, 80)                6480      \n",
      "_________________________________________________________________\n",
      "embedding_layer (Dense)      (None, 80)                6480      \n",
      "_________________________________________________________________\n",
      "softmax_layer (Dense)        (None, 11)                891       \n",
      "=================================================================\n",
      "Total params: 39,931\n",
      "Trainable params: 39,931\n",
      "Non-trainable params: 0\n",
      "_________________________________________________________________\n",
      "None\n",
      "Epoch 1/10\n",
      "86/86 [==============================] - 1s 4ms/step - loss: 2.4554 - acc: 0.1224 - val_loss: 2.4208 - val_acc: 0.1203\n",
      "Epoch 2/10\n",
      "86/86 [==============================] - 0s 2ms/step - loss: 2.3444 - acc: 0.1342 - val_loss: 2.2061 - val_acc: 0.1639\n",
      "Epoch 3/10\n",
      "86/86 [==============================] - 0s 2ms/step - loss: 2.0587 - acc: 0.2451 - val_loss: 1.8996 - val_acc: 0.3518\n",
      "Epoch 4/10\n",
      "86/86 [==============================] - 0s 2ms/step - loss: 1.7708 - acc: 0.3820 - val_loss: 1.6854 - val_acc: 0.3921\n",
      "Epoch 5/10\n",
      "86/86 [==============================] - 0s 2ms/step - loss: 1.5292 - acc: 0.4605 - val_loss: 1.4044 - val_acc: 0.4409\n",
      "Epoch 6/10\n",
      "86/86 [==============================] - 0s 2ms/step - loss: 1.3243 - acc: 0.5320 - val_loss: 1.2118 - val_acc: 0.7255\n",
      "Epoch 7/10\n",
      "86/86 [==============================] - 0s 2ms/step - loss: 1.1571 - acc: 0.6044 - val_loss: 1.0779 - val_acc: 0.5767\n",
      "Epoch 8/10\n",
      "86/86 [==============================] - 0s 2ms/step - loss: 1.0276 - acc: 0.6547 - val_loss: 1.0528 - val_acc: 0.5909\n",
      "Epoch 9/10\n",
      "86/86 [==============================] - 0s 2ms/step - loss: 0.9047 - acc: 0.7616 - val_loss: 0.8517 - val_acc: 0.7709\n",
      "Epoch 10/10\n",
      "86/86 [==============================] - 0s 2ms/step - loss: 0.8054 - acc: 0.8220 - val_loss: 0.7516 - val_acc: 0.7297\n",
      "Epoch 1/10\n",
      "86/86 [==============================] - 0s 2ms/step - loss: 0.7413 - acc: 0.7967 - val_loss: 0.6828 - val_acc: 0.7567\n",
      "Epoch 2/10\n",
      "86/86 [==============================] - 0s 2ms/step - loss: 0.6518 - acc: 0.8927 - val_loss: 0.6502 - val_acc: 0.8179\n",
      "Epoch 3/10\n",
      "86/86 [==============================] - 0s 2ms/step - loss: 0.5897 - acc: 0.9153 - val_loss: 0.5392 - val_acc: 0.9527\n",
      "Epoch 4/10\n",
      "86/86 [==============================] - 0s 2ms/step - loss: 0.5393 - acc: 0.9291 - val_loss: 0.4789 - val_acc: 1.0000\n",
      "Epoch 5/10\n",
      "86/86 [==============================] - 0s 2ms/step - loss: 0.5358 - acc: 0.8684 - val_loss: 0.4743 - val_acc: 0.9527\n",
      "Epoch 6/10\n",
      "86/86 [==============================] - 0s 2ms/step - loss: 0.4317 - acc: 0.9851 - val_loss: 0.3934 - val_acc: 1.0000\n",
      "Epoch 7/10\n",
      "86/86 [==============================] - 0s 2ms/step - loss: 0.3928 - acc: 0.9898 - val_loss: 0.3470 - val_acc: 1.0000\n",
      "Epoch 8/10\n",
      "86/86 [==============================] - 0s 2ms/step - loss: 0.3444 - acc: 0.9991 - val_loss: 0.3302 - val_acc: 1.0000\n",
      "Epoch 9/10\n",
      "86/86 [==============================] - 0s 2ms/step - loss: 0.3290 - acc: 0.9896 - val_loss: 0.2794 - val_acc: 1.0000\n",
      "Epoch 10/10\n",
      "86/86 [==============================] - 0s 2ms/step - loss: 0.3157 - acc: 0.9727 - val_loss: 0.4221 - val_acc: 0.8703\n",
      "Epoch 1/10\n",
      "86/86 [==============================] - 0s 2ms/step - loss: 0.2971 - acc: 0.9836 - val_loss: 0.2458 - val_acc: 1.0000\n",
      "Epoch 2/10\n",
      "86/86 [==============================] - 0s 2ms/step - loss: 0.2246 - acc: 1.0000 - val_loss: 0.2311 - val_acc: 1.0000\n",
      "Epoch 3/10\n",
      "86/86 [==============================] - 0s 2ms/step - loss: 0.2049 - acc: 1.0000 - val_loss: 0.1859 - val_acc: 1.0000\n",
      "Epoch 4/10\n",
      "86/86 [==============================] - 0s 2ms/step - loss: 0.1836 - acc: 1.0000 - val_loss: 0.1640 - val_acc: 1.0000\n",
      "Epoch 5/10\n",
      "86/86 [==============================] - 0s 2ms/step - loss: 0.1626 - acc: 1.0000 - val_loss: 0.1491 - val_acc: 1.0000\n",
      "Epoch 6/10\n",
      "86/86 [==============================] - 0s 2ms/step - loss: 0.1475 - acc: 1.0000 - val_loss: 0.1399 - val_acc: 1.0000\n",
      "Epoch 7/10\n",
      "86/86 [==============================] - 0s 2ms/step - loss: 0.1315 - acc: 1.0000 - val_loss: 0.1236 - val_acc: 1.0000\n",
      "Epoch 8/10\n",
      "86/86 [==============================] - 0s 2ms/step - loss: 0.1240 - acc: 1.0000 - val_loss: 0.1099 - val_acc: 1.0000\n",
      "Epoch 9/10\n",
      "86/86 [==============================] - 0s 2ms/step - loss: 0.5621 - acc: 0.8107 - val_loss: 0.1630 - val_acc: 1.0000\n",
      "Epoch 10/10\n",
      "86/86 [==============================] - 0s 2ms/step - loss: 0.1412 - acc: 1.0000 - val_loss: 0.1124 - val_acc: 1.0000\n",
      "Epoch 1/10\n",
      "86/86 [==============================] - 0s 3ms/step - loss: 0.1049 - acc: 1.0000 - val_loss: 0.1008 - val_acc: 1.0000\n",
      "Epoch 2/10\n",
      "86/86 [==============================] - 0s 2ms/step - loss: 0.0977 - acc: 1.0000 - val_loss: 0.0925 - val_acc: 1.0000\n",
      "Epoch 3/10\n",
      "86/86 [==============================] - 0s 2ms/step - loss: 0.0918 - acc: 1.0000 - val_loss: 0.0893 - val_acc: 1.0000\n",
      "Epoch 4/10\n",
      "86/86 [==============================] - 0s 2ms/step - loss: 0.0870 - acc: 1.0000 - val_loss: 0.0842 - val_acc: 1.0000\n",
      "Epoch 5/10\n",
      "86/86 [==============================] - 0s 2ms/step - loss: 0.0839 - acc: 1.0000 - val_loss: 0.0806 - val_acc: 1.0000\n",
      "Epoch 6/10\n",
      "86/86 [==============================] - 0s 2ms/step - loss: 0.0791 - acc: 1.0000 - val_loss: 0.0772 - val_acc: 1.0000\n",
      "Epoch 7/10\n",
      "86/86 [==============================] - 0s 2ms/step - loss: 0.0757 - acc: 1.0000 - val_loss: 0.0729 - val_acc: 1.0000\n",
      "Epoch 8/10\n",
      "86/86 [==============================] - 0s 2ms/step - loss: 0.0728 - acc: 1.0000 - val_loss: 0.0709 - val_acc: 1.0000\n",
      "Epoch 9/10\n",
      "86/86 [==============================] - 0s 2ms/step - loss: 0.0701 - acc: 1.0000 - val_loss: 0.0690 - val_acc: 1.0000\n",
      "Epoch 10/10\n",
      "86/86 [==============================] - 0s 2ms/step - loss: 0.0670 - acc: 1.0000 - val_loss: 0.0655 - val_acc: 1.0000\n",
      "Epoch 1/10\n",
      "86/86 [==============================] - 0s 2ms/step - loss: 0.0647 - acc: 1.0000 - val_loss: 0.0625 - val_acc: 1.0000\n",
      "Epoch 2/10\n",
      "86/86 [==============================] - 0s 2ms/step - loss: 0.0623 - acc: 1.0000 - val_loss: 0.0609 - val_acc: 1.0000\n",
      "Epoch 3/10\n",
      "86/86 [==============================] - 0s 2ms/step - loss: 0.0606 - acc: 1.0000 - val_loss: 0.0595 - val_acc: 1.0000\n",
      "Epoch 4/10\n",
      "86/86 [==============================] - 0s 2ms/step - loss: 0.0586 - acc: 1.0000 - val_loss: 0.0582 - val_acc: 1.0000\n",
      "Epoch 5/10\n",
      "86/86 [==============================] - 0s 2ms/step - loss: 0.0568 - acc: 1.0000 - val_loss: 0.0554 - val_acc: 1.0000\n",
      "Epoch 6/10\n",
      "86/86 [==============================] - 0s 2ms/step - loss: 0.0556 - acc: 1.0000 - val_loss: 0.0550 - val_acc: 1.0000\n",
      "Epoch 7/10\n",
      "86/86 [==============================] - 0s 2ms/step - loss: 0.0541 - acc: 1.0000 - val_loss: 0.0529 - val_acc: 1.0000\n",
      "Epoch 8/10\n",
      "86/86 [==============================] - 0s 2ms/step - loss: 0.0527 - acc: 1.0000 - val_loss: 0.0514 - val_acc: 1.0000\n",
      "Epoch 9/10\n",
      "86/86 [==============================] - 0s 2ms/step - loss: 0.0515 - acc: 1.0000 - val_loss: 0.0506 - val_acc: 1.0000\n",
      "Epoch 10/10\n",
      "86/86 [==============================] - 0s 2ms/step - loss: 0.0502 - acc: 1.0000 - val_loss: 0.0494 - val_acc: 1.0000\n",
      "WARNING:tensorflow:Please add `keras.layers.InputLayer` instead of `keras.Input` to Sequential model. `keras.Input` is intended to be used by Functional model.\n"
     ]
    },
    {
     "data": {
      "image/png": "[encoded data removed]",
      "text/plain": [
       "<Figure size 432x288 with 2 Axes>"
      ]
     },
     "metadata": {
      "needs_background": "light"
     },
     "output_type": "display_data"
    }
   ],
   "source": [
    "sym_detector = GroupDetection(model, clustering)\n",
    "point_cloud = sym_detector.run_symmetry_detection(plot=True)"
   ]
  },
  {
   "cell_type": "markdown",
   "metadata": {},
   "source": [
    "So now we can analyze our model! We see for the darker colours that there are always two distinct instances corresponding to the symmetry between these radial values. The duplication of these colours means that this is a symmetry group. The test now is to identify the radial values in these clusters and pass them to the generator extraction methods to characterize them."
   ]
  },
  {
   "cell_type": "code",
   "execution_count": 8,
   "metadata": {},
   "outputs": [
    {
     "data": {
      "text/plain": [
       "{0: array([], shape=(499, 0), dtype=float64),\n",
       " 1: array([], shape=(499, 0), dtype=float64),\n",
       " 2: array([], shape=(499, 0), dtype=float64),\n",
       " 3: array([], shape=(499, 0), dtype=float64),\n",
       " 4: array([], shape=(499, 0), dtype=float64),\n",
       " 5: array([], shape=(499, 0), dtype=float64)}"
      ]
     },
     "execution_count": 8,
     "metadata": {},
     "output_type": "execute_result"
    }
   ],
   "source": [
    "point_cloud"
   ]
  },
  {
   "cell_type": "markdown",
   "metadata": {},
   "source": [
    "We see that the clustering has worked relatively well. This is where some caution is advised in terms of simply parsing this data along to the generator detection. If you see that one of these groups should likely not be in the set then it should be parsed along to the generator extraction stage. Alternatively, you can use a different approach for identifying the sets in the symmetry representation. In the next update we will parse this data to the generator extraction algorithm in order to get the generators of this detected symmetry group."
   ]
  }
 ],
 "metadata": {
  "kernelspec": {
   "display_name": "Python 3",
   "language": "python",
   "name": "python3"
  },
  "language_info": {
   "codemirror_mode": {
    "name": "ipython",
    "version": 3
   },
   "file_extension": ".py",
   "mimetype": "text/x-python",
   "name": "python",
   "nbconvert_exporter": "python",
   "pygments_lexer": "ipython3",
   "version": "3.8.5"
  }
 },
 "nbformat": 4,
 "nbformat_minor": 1
}
