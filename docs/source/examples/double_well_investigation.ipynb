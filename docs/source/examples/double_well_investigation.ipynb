{
 "cells": [
  {
   "cell_type": "markdown",
   "metadata": {
    "collapsed": true
   },
   "source": [
    "# Double Well Potential Symmetry Visualization"
   ]
  },
  {
   "cell_type": "markdown",
   "metadata": {},
   "source": [
    "In this notebook we will perform symmetry group visualization on some double well potential data.\n",
    "\n",
    "The imports for this one are quite numerous as we are doing the analysis piece by piece. Once there is a bridge between group detection and generator extraction I will add some generalzed methods for doing some of this automatically. Let's quickly mention what we are importing.\n",
    "\n",
    "1. The class for a Double Well Potential. This is just for some test data generation.\n",
    "2. DenseModel is a class written to take care of setting up and deploying a neural network.\n",
    "3. DataCluster is reponsible for taking raw potential data and partitioning it into classes for the classification problems.\n",
    "3. Group detection performs the TSNE reduction and finds our symmetry groups"
   ]
  },
  {
   "cell_type": "markdown",
   "metadata": {},
   "source": [
    "from symdet.test_systems.double_well_potential import DoubleWellPotential\n",
    "from symdet.models.dense_model import DenseModel\n",
    "from symdet.symmetry_groups.data_clustering import DataCluster\n",
    "from symdet.symmetry_groups.group_detection import GroupDetection"
   ]
  },
  {
   "cell_type": "code",
   "execution_count": 1,
   "metadata": {},
   "outputs": [],
   "source": [
    "from symdet.test_systems.double_well_potential import DoubleWellPotential\n",
    "from symdet.models.dense_model import DenseModel\n",
    "from symdet.symmetry_groups.data_clustering import DataCluster\n",
    "from symdet.symmetry_groups.group_detection import GroupDetection\n",
    "import matplotlib.pyplot as plt"
   ]
  },
  {
   "cell_type": "markdown",
   "metadata": {},
   "source": [
    "###  Preparing data\n",
    "So you want to prepare some simple data from a double well potential so that we can identify some symmetry groups. Luckily, we were prepared for this scenario and wrote a class just for you!"
   ]
  },
  {
   "cell_type": "code",
   "execution_count": 2,
   "metadata": {},
   "outputs": [],
   "source": [
    "double_well_potential = DoubleWellPotential(a=2.4)"
   ]
  },
  {
   "cell_type": "markdown",
   "metadata": {},
   "source": [
    "As simple as that we have a double well potential. But we can also take a look at it."
   ]
  },
  {
   "cell_type": "code",
   "execution_count": 3,
   "metadata": {},
   "outputs": [
    {
     "data": {
      "image/png": "[encoded data removed]",
      "text/plain": [
       "<Figure size 432x288 with 1 Axes>"
      ]
     },
     "metadata": {
      "needs_background": "light"
     },
     "output_type": "display_data"
    }
   ],
   "source": [
    "double_well_potential.plot_potential()"
   ]
  },
  {
   "cell_type": "markdown",
   "metadata": {},
   "source": [
    "### Preparing the classes\n",
    "\n",
    "We now have to cluster the data to set up the machine learning problem for later. We define the clusters using the value range and bin operation. In this case we are binning the data in clusters of [ k/5 -1e-3, k/5 + 1e-3 ] with k in [-5, 5]. We will also visualize the clusters on the original data to aid in understanding how it was chosen."
   ]
  },
  {
   "cell_type": "code",
   "execution_count": 4,
   "metadata": {},
   "outputs": [],
   "source": [
    "clustering = DataCluster(double_well_potential.get_function_values())\n",
    "training_data = clustering.range_binning(value_range=[-5, 5],\n",
    "                                         bin_operation=[1 / 5, 1e-3],\n",
    "                                         representatives=1000,\n",
    "                                         plot=False)"
   ]
  },
  {
   "cell_type": "code",
   "execution_count": 5,
   "metadata": {},
   "outputs": [
    {
     "name": "stderr",
     "output_type": "stream",
     "text": [
      "100%|██████████| 1000/1000 [01:16<00:00, 13.01it/s]\n",
      "100%|██████████| 1000/1000 [01:14<00:00, 13.35it/s]\n",
      "100%|██████████| 1000/1000 [01:13<00:00, 13.69it/s]\n",
      "100%|██████████| 1000/1000 [01:11<00:00, 13.96it/s]\n",
      "100%|██████████| 1000/1000 [01:10<00:00, 14.22it/s]\n",
      "100%|██████████| 1000/1000 [01:08<00:00, 14.60it/s]\n",
      "100%|██████████| 1000/1000 [01:07<00:00, 14.92it/s]\n",
      "100%|██████████| 1000/1000 [01:04<00:00, 15.55it/s]\n",
      "100%|██████████| 1000/1000 [01:03<00:00, 15.73it/s]\n",
      "100%|██████████| 1000/1000 [01:04<00:00, 15.57it/s]\n",
      "100%|██████████| 1000/1000 [01:05<00:00, 15.34it/s]\n"
     ]
    },
    {
     "data": {
      "image/png": "[encoded data removed]",
      "text/plain": [
       "<Figure size 432x288 with 1 Axes>"
      ]
     },
     "metadata": {
      "needs_background": "light"
     },
     "output_type": "display_data"
    }
   ],
   "source": [
    "clustering.plot_clusters(training_data)"
   ]
  },
  {
   "cell_type": "markdown",
   "metadata": {},
   "source": [
    "### Preparing the model\n",
    "\n",
    "We want to use a deep and wide neural network so as to encode a high dimensional representation. "
   ]
  },
  {
   "cell_type": "code",
   "execution_count": 6,
   "metadata": {},
   "outputs": [],
   "source": [
    "model = DenseModel(training_data,\n",
    "                   n_layers=7,\n",
    "                   units=80,\n",
    "                   epochs=10,\n",
    "                   batch_size=64,\n",
    "                   lr=0.00025)"
   ]
  },
  {
   "cell_type": "markdown",
   "metadata": {},
   "source": [
    "### Running the analysis\n",
    "\n",
    "The next steps are to define a group detection object with the cluster object we used earlier as well as the model to use in training.\n",
    "\n",
    "We then simply run the symmetry detection and can visualize the symmetry relationship."
   ]
  },
  {
   "cell_type": "code",
   "execution_count": 7,
   "metadata": {
    "scrolled": false
   },
   "outputs": [
    {
     "name": "stdout",
     "output_type": "stream",
     "text": [
      "WARNING:tensorflow:Please add `keras.layers.InputLayer` instead of `keras.Input` to Sequential model. `keras.Input` is intended to be used by Functional model.\n",
      "Model: \"sequential\"\n",
      "_________________________________________________________________\n",
      "Layer (type)                 Output Shape              Param #   \n",
      "=================================================================\n",
      "dense (Dense)                (None, 80)                160       \n",
      "_________________________________________________________________\n",
      "dense_1 (Dense)              (None, 80)                6480      \n",
      "_________________________________________________________________\n",
      "dense_2 (Dense)              (None, 80)                6480      \n",
      "_________________________________________________________________\n",
      "dense_3 (Dense)              (None, 80)                6480      \n",
      "_________________________________________________________________\n",
      "dense_4 (Dense)              (None, 80)                6480      \n",
      "_________________________________________________________________\n",
      "second_last_layer (Dense)    (None, 80)                6480      \n",
      "_________________________________________________________________\n",
      "embedding_layer (Dense)      (None, 80)                6480      \n",
      "_________________________________________________________________\n",
      "softmax_layer (Dense)        (None, 11)                891       \n",
      "=================================================================\n",
      "Total params: 39,931\n",
      "Trainable params: 39,931\n",
      "Non-trainable params: 0\n",
      "_________________________________________________________________\n",
      "None\n",
      "Epoch 1/10\n",
      "86/86 [==============================] - 1s 4ms/step - loss: 2.4485 - acc: 0.1335 - val_loss: 2.4063 - val_acc: 0.2297\n",
      "Epoch 2/10\n",
      "86/86 [==============================] - 0s 2ms/step - loss: 2.3276 - acc: 0.1887 - val_loss: 2.2013 - val_acc: 0.1861\n",
      "Epoch 3/10\n",
      "86/86 [==============================] - 0s 2ms/step - loss: 2.0408 - acc: 0.2465 - val_loss: 1.8905 - val_acc: 0.3942\n",
      "Epoch 4/10\n",
      "86/86 [==============================] - 0s 2ms/step - loss: 1.7507 - acc: 0.4264 - val_loss: 1.6121 - val_acc: 0.3942\n",
      "Epoch 5/10\n",
      "86/86 [==============================] - 0s 2ms/step - loss: 1.4823 - acc: 0.4856 - val_loss: 1.3763 - val_acc: 0.4852\n",
      "Epoch 6/10\n",
      "86/86 [==============================] - 0s 2ms/step - loss: 1.2696 - acc: 0.5427 - val_loss: 1.1846 - val_acc: 0.5255\n",
      "Epoch 7/10\n",
      "86/86 [==============================] - 0s 2ms/step - loss: 1.1122 - acc: 0.6089 - val_loss: 1.0666 - val_acc: 0.5324\n",
      "Epoch 8/10\n",
      "86/86 [==============================] - 0s 2ms/step - loss: 0.9857 - acc: 0.6649 - val_loss: 0.9385 - val_acc: 0.7315\n",
      "Epoch 9/10\n",
      "86/86 [==============================] - 0s 2ms/step - loss: 0.8824 - acc: 0.7311 - val_loss: 0.8290 - val_acc: 0.7718\n",
      "Epoch 10/10\n",
      "86/86 [==============================] - 0s 2ms/step - loss: 0.7964 - acc: 0.7813 - val_loss: 0.7568 - val_acc: 0.8464\n",
      "Epoch 1/10\n",
      "86/86 [==============================] - 0s 2ms/step - loss: 0.7227 - acc: 0.8245 - val_loss: 0.8045 - val_acc: 0.5961\n",
      "Epoch 2/10\n",
      "86/86 [==============================] - 0s 2ms/step - loss: 0.6527 - acc: 0.8691 - val_loss: 0.6262 - val_acc: 1.0000\n",
      "Epoch 3/10\n",
      "86/86 [==============================] - 0s 2ms/step - loss: 0.5979 - acc: 0.8980 - val_loss: 0.5757 - val_acc: 0.8464\n",
      "Epoch 4/10\n",
      "86/86 [==============================] - 0s 2ms/step - loss: 0.5527 - acc: 0.9065 - val_loss: 0.5940 - val_acc: 0.6645\n",
      "Epoch 5/10\n",
      "86/86 [==============================] - 0s 2ms/step - loss: 0.5026 - acc: 0.9395 - val_loss: 0.4656 - val_acc: 1.0000\n",
      "Epoch 6/10\n",
      "86/86 [==============================] - 0s 2ms/step - loss: 0.4513 - acc: 0.9800 - val_loss: 0.4535 - val_acc: 0.9091\n",
      "Epoch 7/10\n",
      "86/86 [==============================] - 0s 2ms/step - loss: 0.4137 - acc: 0.9849 - val_loss: 0.3782 - val_acc: 1.0000\n",
      "Epoch 8/10\n",
      "86/86 [==============================] - 0s 2ms/step - loss: 0.3703 - acc: 0.9927 - val_loss: 0.3669 - val_acc: 1.0000\n",
      "Epoch 9/10\n",
      "86/86 [==============================] - 0s 2ms/step - loss: 0.3535 - acc: 0.9844 - val_loss: 0.3237 - val_acc: 1.0000\n",
      "Epoch 10/10\n",
      "86/86 [==============================] - 0s 2ms/step - loss: 0.3017 - acc: 0.9993 - val_loss: 0.2839 - val_acc: 1.0000\n",
      "Epoch 1/10\n",
      "86/86 [==============================] - 0s 2ms/step - loss: 0.2845 - acc: 0.9944 - val_loss: 0.2553 - val_acc: 1.0000\n",
      "Epoch 2/10\n",
      "86/86 [==============================] - 0s 2ms/step - loss: 0.2484 - acc: 1.0000 - val_loss: 0.2308 - val_acc: 1.0000\n",
      "Epoch 3/10\n",
      "86/86 [==============================] - 0s 2ms/step - loss: 0.2499 - acc: 0.9907 - val_loss: 0.3587 - val_acc: 0.8464\n",
      "Epoch 4/10\n",
      "86/86 [==============================] - 0s 2ms/step - loss: 0.2366 - acc: 0.9845 - val_loss: 0.1846 - val_acc: 1.0000\n",
      "Epoch 5/10\n",
      "86/86 [==============================] - 0s 2ms/step - loss: 0.1754 - acc: 1.0000 - val_loss: 0.1663 - val_acc: 1.0000\n",
      "Epoch 6/10\n",
      "86/86 [==============================] - 0s 2ms/step - loss: 0.1593 - acc: 1.0000 - val_loss: 0.1525 - val_acc: 1.0000\n",
      "Epoch 7/10\n",
      "86/86 [==============================] - 0s 2ms/step - loss: 0.1479 - acc: 1.0000 - val_loss: 0.1455 - val_acc: 1.0000\n",
      "Epoch 8/10\n",
      "86/86 [==============================] - 0s 2ms/step - loss: 0.1392 - acc: 1.0000 - val_loss: 0.1550 - val_acc: 1.0000\n",
      "Epoch 9/10\n",
      "86/86 [==============================] - 0s 2ms/step - loss: 0.1192 - acc: 1.0000 - val_loss: 0.1123 - val_acc: 1.0000\n",
      "Epoch 10/10\n",
      "86/86 [==============================] - 0s 2ms/step - loss: 0.1103 - acc: 1.0000 - val_loss: 0.1039 - val_acc: 1.0000\n",
      "Epoch 1/10\n",
      "86/86 [==============================] - 0s 2ms/step - loss: 0.0991 - acc: 1.0000 - val_loss: 0.0952 - val_acc: 1.0000\n",
      "Epoch 2/10\n",
      "86/86 [==============================] - 0s 2ms/step - loss: 0.0930 - acc: 1.0000 - val_loss: 0.0887 - val_acc: 1.0000\n",
      "Epoch 3/10\n",
      "86/86 [==============================] - 0s 2ms/step - loss: 0.0857 - acc: 1.0000 - val_loss: 0.0832 - val_acc: 1.0000\n",
      "Epoch 4/10\n",
      "86/86 [==============================] - 0s 2ms/step - loss: 0.0792 - acc: 1.0000 - val_loss: 0.0764 - val_acc: 1.0000\n",
      "Epoch 5/10\n",
      "86/86 [==============================] - 0s 2ms/step - loss: 0.0751 - acc: 1.0000 - val_loss: 0.0716 - val_acc: 1.0000\n",
      "Epoch 6/10\n",
      "86/86 [==============================] - 0s 2ms/step - loss: 0.0704 - acc: 1.0000 - val_loss: 0.0679 - val_acc: 1.0000\n",
      "Epoch 7/10\n",
      "86/86 [==============================] - 0s 2ms/step - loss: 0.0662 - acc: 1.0000 - val_loss: 0.0645 - val_acc: 1.0000\n",
      "Epoch 8/10\n",
      "86/86 [==============================] - 0s 2ms/step - loss: 0.0627 - acc: 1.0000 - val_loss: 0.0608 - val_acc: 1.0000\n",
      "Epoch 9/10\n",
      "86/86 [==============================] - 0s 2ms/step - loss: 0.0600 - acc: 1.0000 - val_loss: 0.0586 - val_acc: 1.0000\n",
      "Epoch 10/10\n",
      "86/86 [==============================] - 0s 2ms/step - loss: 0.0582 - acc: 1.0000 - val_loss: 0.0612 - val_acc: 1.0000\n",
      "Epoch 1/10\n",
      "86/86 [==============================] - 0s 2ms/step - loss: 0.0554 - acc: 1.0000 - val_loss: 0.0545 - val_acc: 1.0000\n",
      "Epoch 2/10\n",
      "86/86 [==============================] - 0s 2ms/step - loss: 0.0532 - acc: 1.0000 - val_loss: 0.0529 - val_acc: 1.0000\n",
      "Epoch 3/10\n",
      "86/86 [==============================] - 0s 2ms/step - loss: 0.0521 - acc: 1.0000 - val_loss: 0.0506 - val_acc: 1.0000\n",
      "Epoch 4/10\n",
      "86/86 [==============================] - 0s 2ms/step - loss: 0.0500 - acc: 1.0000 - val_loss: 0.0493 - val_acc: 1.0000\n",
      "Epoch 5/10\n",
      "86/86 [==============================] - 0s 2ms/step - loss: 0.0490 - acc: 1.0000 - val_loss: 0.0478 - val_acc: 1.0000\n",
      "Epoch 6/10\n",
      "86/86 [==============================] - 0s 2ms/step - loss: 0.0475 - acc: 1.0000 - val_loss: 0.0487 - val_acc: 1.0000\n",
      "Epoch 7/10\n",
      "86/86 [==============================] - 0s 2ms/step - loss: 0.0465 - acc: 1.0000 - val_loss: 0.0455 - val_acc: 1.0000\n",
      "Epoch 8/10\n",
      "86/86 [==============================] - 0s 2ms/step - loss: 0.0453 - acc: 1.0000 - val_loss: 0.0445 - val_acc: 1.0000\n",
      "Epoch 9/10\n",
      "86/86 [==============================] - 0s 2ms/step - loss: 0.0442 - acc: 1.0000 - val_loss: 0.0447 - val_acc: 1.0000\n",
      "Epoch 10/10\n",
      "86/86 [==============================] - 0s 2ms/step - loss: 0.0434 - acc: 1.0000 - val_loss: 0.0433 - val_acc: 1.0000\n",
      "WARNING:tensorflow:Please add `keras.layers.InputLayer` instead of `keras.Input` to Sequential model. `keras.Input` is intended to be used by Functional model.\n"
     ]
    },
    {
     "data": {
      "image/png": "[encoded data removed]",
      "text/plain": [
       "<Figure size 432x288 with 2 Axes>"
      ]
     },
     "metadata": {
      "needs_background": "light"
     },
     "output_type": "display_data"
    }
   ],
   "source": [
    "sym_detector = GroupDetection(model, clustering)\n",
    "sym_detector.run_symmetry_detection(plot=True)"
   ]
  },
  {
   "cell_type": "markdown",
   "metadata": {},
   "source": [
    "So now we can analyze our model!We see for the darker colours that there are always two distinct instances corresponding to the symmetry between these radial values. The duplication of these colours means that this is a symmetry group. The test now is to identify the radial values in these clusters and pass them to the generator extraction methods to characterize them."
   ]
  }
 ],
 "metadata": {
  "kernelspec": {
   "display_name": "Python 3",
   "language": "python",
   "name": "python3"
  },
  "language_info": {
   "codemirror_mode": {
    "name": "ipython",
    "version": 3
   },
   "file_extension": ".py",
   "mimetype": "text/x-python",
   "name": "python",
   "nbconvert_exporter": "python",
   "pygments_lexer": "ipython3",
   "version": "3.8.5"
  }
 },
 "nbformat": 4,
 "nbformat_minor": 1
}
