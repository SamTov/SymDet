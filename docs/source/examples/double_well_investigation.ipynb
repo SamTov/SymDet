{
 "cells": [
  {
   "cell_type": "markdown",
   "metadata": {
    "collapsed": true
   },
   "source": [
    "# Double Well Potential Symmetry Visualization"
   ]
  },
  {
   "cell_type": "markdown",
   "metadata": {},
   "source": [
    "In this notebook we will perform symmetry group visualization on some double well potential data.\n",
    "\n",
    "The imports for this one are quite numerous as we are doing the analysis piece by piece. Once there is a bridge between group detection and generator extraction I will add some generalzed methods for doing some of this automatically. Let's quickly mention what we are importing.\n",
    "\n",
    "1. The class for a Double Well Potential. This is just for some test data generation.\n",
    "2. DenseModel is a class written to take care of setting up and deploying a neural network.\n",
    "3. DataCluster is reponsible for taking raw potential data and partitioning it into classes for the classification problems.\n",
    "3. Group detection performs the TSNE reduction and finds our symmetry groups"
   ]
  },
  {
   "cell_type": "markdown",
   "metadata": {},
   "source": [
    "from symdet.test_systems.double_well_potential import DoubleWellPotential\n",
    "from symdet.models.dense_model import DenseModel\n",
    "from symdet.symmetry_groups.data_clustering import DataCluster\n",
    "from symdet.symmetry_groups.group_detection import GroupDetection"
   ]
  },
  {
   "cell_type": "code",
   "execution_count": 1,
   "metadata": {},
   "outputs": [],
   "source": [
    "import symdet\n",
    "import matplotlib.pyplot as plt"
   ]
  },
  {
   "cell_type": "markdown",
   "metadata": {},
   "source": [
    "###  Preparing data\n",
    "So you want to prepare some simple data from a double well potential so that we can identify some symmetry groups. Luckily, we were prepared for this scenario and wrote a class just for you!"
   ]
  },
  {
   "cell_type": "code",
   "execution_count": 2,
   "metadata": {},
   "outputs": [],
   "source": [
    "double_well_potential = symdet.DoubleWellPotential(a=2.4)"
   ]
  },
  {
   "cell_type": "markdown",
   "metadata": {},
   "source": [
    "As simple as that we have a double well potential. But we can also take a look at it."
   ]
  },
  {
   "cell_type": "code",
   "execution_count": 3,
   "metadata": {},
   "outputs": [
    {
     "data": {
      "image/png": "[encoded data removed]",
      "text/plain": [
       "<Figure size 432x288 with 1 Axes>"
      ]
     },
     "metadata": {
      "needs_background": "light"
     },
     "output_type": "display_data"
    }
   ],
   "source": [
    "double_well_potential.plot_data()"
   ]
  },
  {
   "cell_type": "markdown",
   "metadata": {},
   "source": [
    "### Preparing the classes\n",
    "\n",
    "We now have to cluster the data to set up the machine learning problem for later. We define the clusters using the value range and bin operation. In this case we are binning the data in clusters of [ k/5 -1e-3, k/5 + 1e-3 ] with k in [-5, 5]. We will also visualize the clusters on the original data to aid in understanding how it was chosen."
   ]
  },
  {
   "cell_type": "code",
   "execution_count": 4,
   "metadata": {},
   "outputs": [
    {
     "name": "stdout",
     "output_type": "stream",
     "text": [
      "Loading additional data.\n"
     ]
    }
   ],
   "source": [
    "double_well_potential.build_clusters(representatives=1500)"
   ]
  },
  {
   "cell_type": "code",
   "execution_count": 5,
   "metadata": {},
   "outputs": [
    {
     "name": "stderr",
     "output_type": "stream",
     "text": [
      "100%|████████████████████████████████| 11/11 [00:00<00:00, 360.65it/s]\n"
     ]
    },
    {
     "data": {
      "image/png": "[encoded data removed]",
      "text/plain": [
       "<Figure size 432x288 with 1 Axes>"
      ]
     },
     "metadata": {
      "needs_background": "light"
     },
     "output_type": "display_data"
    }
   ],
   "source": [
    "double_well_potential.plot_clusters()"
   ]
  },
  {
   "cell_type": "markdown",
   "metadata": {},
   "source": [
    "### Preparing the model\n",
    "\n",
    "We want to use a deep and wide neural network so as to encode a high dimensional representation. "
   ]
  },
  {
   "cell_type": "code",
   "execution_count": 6,
   "metadata": {},
   "outputs": [],
   "source": [
    "model = symdet.DenseModel(n_layers=7,\n",
    "                          units=80,\n",
    "                          epochs=10,\n",
    "                          batch_size=64,\n",
    "                          lr=0.00025)"
   ]
  },
  {
   "cell_type": "markdown",
   "metadata": {},
   "source": [
    "### Running the analysis\n",
    "\n",
    "The next steps are to define a group detection object with the cluster object we used earlier as well as the model to use in training.\n",
    "\n",
    "We then simply run the symmetry detection and can visualize the symmetry relationship."
   ]
  },
  {
   "cell_type": "code",
   "execution_count": 7,
   "metadata": {
    "scrolled": false
   },
   "outputs": [
    {
     "name": "stdout",
     "output_type": "stream",
     "text": [
      "WARNING:tensorflow:Please add `keras.layers.InputLayer` instead of `keras.Input` to Sequential model. `keras.Input` is intended to be used by Functional model.\n",
      "Model: \"sequential\"\n",
      "_________________________________________________________________\n",
      "Layer (type)                 Output Shape              Param #   \n",
      "=================================================================\n",
      "dense (Dense)                (None, 80)                240       \n",
      "_________________________________________________________________\n",
      "dense_1 (Dense)              (None, 80)                6480      \n",
      "_________________________________________________________________\n",
      "dense_2 (Dense)              (None, 80)                6480      \n",
      "_________________________________________________________________\n",
      "dense_3 (Dense)              (None, 80)                6480      \n",
      "_________________________________________________________________\n",
      "dense_4 (Dense)              (None, 80)                6480      \n",
      "_________________________________________________________________\n",
      "second_last_layer (Dense)    (None, 80)                6480      \n",
      "_________________________________________________________________\n",
      "embedding_layer (Dense)      (None, 80)                6480      \n",
      "_________________________________________________________________\n",
      "softmax_layer (Dense)        (None, 11)                891       \n",
      "=================================================================\n",
      "Total params: 40,011\n",
      "Trainable params: 40,011\n",
      "Non-trainable params: 0\n",
      "_________________________________________________________________\n",
      "None\n",
      "Epoch 1/10\n",
      "86/86 [==============================] - 2s 10ms/step - loss: 2.4440 - acc: 0.1151 - val_loss: 2.3991 - val_acc: 0.1221\n",
      "Epoch 2/10\n",
      "86/86 [==============================] - 1s 6ms/step - loss: 2.3346 - acc: 0.1564 - val_loss: 2.2081 - val_acc: 0.2221\n",
      "Epoch 3/10\n",
      "86/86 [==============================] - 1s 6ms/step - loss: 2.0722 - acc: 0.2476 - val_loss: 1.9118 - val_acc: 0.2961\n",
      "Epoch 4/10\n",
      "86/86 [==============================] - 0s 6ms/step - loss: 1.7614 - acc: 0.3702 - val_loss: 1.5893 - val_acc: 0.4500\n",
      "Epoch 5/10\n",
      "86/86 [==============================] - 1s 6ms/step - loss: 1.4555 - acc: 0.4904 - val_loss: 1.2949 - val_acc: 0.5194\n",
      "Epoch 6/10\n",
      "86/86 [==============================] - 0s 5ms/step - loss: 1.2007 - acc: 0.5713 - val_loss: 1.1126 - val_acc: 0.6082\n",
      "Epoch 7/10\n",
      "86/86 [==============================] - 1s 7ms/step - loss: 1.0210 - acc: 0.6545 - val_loss: 0.9418 - val_acc: 0.8115\n",
      "Epoch 8/10\n",
      "86/86 [==============================] - 0s 4ms/step - loss: 0.8675 - acc: 0.7944 - val_loss: 0.7889 - val_acc: 0.8361\n",
      "Epoch 9/10\n",
      "86/86 [==============================] - 0s 6ms/step - loss: 0.7537 - acc: 0.8447 - val_loss: 0.6899 - val_acc: 0.9712\n",
      "Epoch 10/10\n",
      "86/86 [==============================] - 1s 6ms/step - loss: 0.6641 - acc: 0.8900 - val_loss: 0.6340 - val_acc: 0.7712\n",
      "Epoch 1/10\n",
      "86/86 [==============================] - 0s 6ms/step - loss: 0.5889 - acc: 0.9082 - val_loss: 0.5412 - val_acc: 0.9212\n",
      "Epoch 2/10\n",
      "86/86 [==============================] - 1s 6ms/step - loss: 0.5289 - acc: 0.9296 - val_loss: 0.4774 - val_acc: 0.9970\n",
      "Epoch 3/10\n",
      "86/86 [==============================] - 1s 6ms/step - loss: 0.4678 - acc: 0.9540 - val_loss: 0.4073 - val_acc: 0.9997\n",
      "Epoch 4/10\n",
      "86/86 [==============================] - 0s 6ms/step - loss: 0.4094 - acc: 0.9751 - val_loss: 0.4288 - val_acc: 0.9079\n",
      "Epoch 5/10\n",
      "86/86 [==============================] - 0s 4ms/step - loss: 0.3579 - acc: 0.9920 - val_loss: 0.3386 - val_acc: 0.9779\n",
      "Epoch 6/10\n",
      "86/86 [==============================] - 0s 6ms/step - loss: 0.3310 - acc: 0.9829 - val_loss: 0.3093 - val_acc: 0.9945\n",
      "Epoch 7/10\n",
      "86/86 [==============================] - 1s 6ms/step - loss: 0.2742 - acc: 0.9991 - val_loss: 0.2463 - val_acc: 1.0000\n",
      "Epoch 8/10\n",
      "86/86 [==============================] - 1s 6ms/step - loss: 0.2522 - acc: 0.9942 - val_loss: 0.2460 - val_acc: 1.0000\n",
      "Epoch 9/10\n",
      "86/86 [==============================] - 1s 6ms/step - loss: 0.2633 - acc: 0.9671 - val_loss: 0.2126 - val_acc: 1.0000\n",
      "Epoch 10/10\n",
      "86/86 [==============================] - 1s 6ms/step - loss: 0.2031 - acc: 0.9996 - val_loss: 0.1833 - val_acc: 1.0000\n",
      "Epoch 1/10\n",
      "86/86 [==============================] - 1s 6ms/step - loss: 0.1693 - acc: 1.0000 - val_loss: 0.1579 - val_acc: 1.0000\n",
      "Epoch 2/10\n",
      "86/86 [==============================] - 1s 6ms/step - loss: 0.1866 - acc: 0.9895 - val_loss: 0.1686 - val_acc: 1.0000\n",
      "Epoch 3/10\n",
      "86/86 [==============================] - 0s 6ms/step - loss: 0.1531 - acc: 0.9949 - val_loss: 0.1216 - val_acc: 1.0000\n",
      "Epoch 4/10\n",
      "86/86 [==============================] - 1s 6ms/step - loss: 0.1195 - acc: 1.0000 - val_loss: 0.1147 - val_acc: 1.0000\n",
      "Epoch 5/10\n",
      "86/86 [==============================] - 0s 5ms/step - loss: 0.1120 - acc: 1.0000 - val_loss: 0.1034 - val_acc: 1.0000\n",
      "Epoch 6/10\n",
      "86/86 [==============================] - 0s 5ms/step - loss: 0.1008 - acc: 1.0000 - val_loss: 0.0950 - val_acc: 1.0000\n",
      "Epoch 7/10\n",
      "86/86 [==============================] - 1s 6ms/step - loss: 0.0967 - acc: 1.0000 - val_loss: 0.0873 - val_acc: 1.0000\n",
      "Epoch 8/10\n",
      "86/86 [==============================] - 1s 6ms/step - loss: 0.0857 - acc: 1.0000 - val_loss: 0.0854 - val_acc: 1.0000\n",
      "Epoch 9/10\n",
      "86/86 [==============================] - 0s 5ms/step - loss: 0.0852 - acc: 1.0000 - val_loss: 0.0761 - val_acc: 1.0000\n",
      "Epoch 10/10\n",
      "86/86 [==============================] - 0s 5ms/step - loss: 0.0784 - acc: 1.0000 - val_loss: 0.0788 - val_acc: 1.0000\n",
      "Epoch 1/10\n",
      "86/86 [==============================] - 1s 6ms/step - loss: 0.0745 - acc: 1.0000 - val_loss: 0.0739 - val_acc: 1.0000\n",
      "Epoch 2/10\n",
      "86/86 [==============================] - 0s 6ms/step - loss: 0.0704 - acc: 1.0000 - val_loss: 0.0719 - val_acc: 1.0000\n",
      "Epoch 3/10\n",
      "86/86 [==============================] - 0s 5ms/step - loss: 0.0668 - acc: 1.0000 - val_loss: 0.0622 - val_acc: 1.0000\n",
      "Epoch 4/10\n",
      "86/86 [==============================] - 1s 6ms/step - loss: 0.0613 - acc: 1.0000 - val_loss: 0.0606 - val_acc: 1.0000\n",
      "Epoch 5/10\n",
      "86/86 [==============================] - 0s 5ms/step - loss: 0.0594 - acc: 1.0000 - val_loss: 0.0586 - val_acc: 1.0000\n",
      "Epoch 6/10\n",
      "86/86 [==============================] - 0s 6ms/step - loss: 0.0572 - acc: 1.0000 - val_loss: 0.0560 - val_acc: 1.0000\n",
      "Epoch 7/10\n",
      "86/86 [==============================] - 0s 5ms/step - loss: 0.0551 - acc: 1.0000 - val_loss: 0.0537 - val_acc: 1.0000\n",
      "Epoch 8/10\n",
      "86/86 [==============================] - 1s 6ms/step - loss: 0.0538 - acc: 1.0000 - val_loss: 0.0529 - val_acc: 1.0000\n",
      "Epoch 9/10\n",
      "86/86 [==============================] - 1s 7ms/step - loss: 0.0521 - acc: 1.0000 - val_loss: 0.0507 - val_acc: 1.0000\n",
      "Epoch 10/10\n",
      "86/86 [==============================] - 1s 7ms/step - loss: 0.0503 - acc: 1.0000 - val_loss: 0.0539 - val_acc: 1.0000\n",
      "Epoch 1/10\n",
      "86/86 [==============================] - 1s 6ms/step - loss: 0.0496 - acc: 1.0000 - val_loss: 0.0483 - val_acc: 1.0000\n",
      "Epoch 2/10\n",
      "86/86 [==============================] - 0s 6ms/step - loss: 0.0485 - acc: 1.0000 - val_loss: 0.0472 - val_acc: 1.0000\n",
      "Epoch 3/10\n",
      "86/86 [==============================] - 1s 7ms/step - loss: 0.0472 - acc: 1.0000 - val_loss: 0.0462 - val_acc: 1.0000\n",
      "Epoch 4/10\n",
      "86/86 [==============================] - 1s 7ms/step - loss: 0.0459 - acc: 1.0000 - val_loss: 0.0452 - val_acc: 1.0000\n",
      "Epoch 5/10\n",
      "86/86 [==============================] - 1s 8ms/step - loss: 0.0451 - acc: 1.0000 - val_loss: 0.0447 - val_acc: 1.0000\n",
      "Epoch 6/10\n",
      "86/86 [==============================] - 1s 8ms/step - loss: 0.0441 - acc: 1.0000 - val_loss: 0.0437 - val_acc: 1.0000\n",
      "Epoch 7/10\n",
      "86/86 [==============================] - 1s 9ms/step - loss: 0.0434 - acc: 1.0000 - val_loss: 0.0427 - val_acc: 1.0000\n",
      "Epoch 8/10\n",
      "86/86 [==============================] - 0s 5ms/step - loss: 0.0424 - acc: 1.0000 - val_loss: 0.0423 - val_acc: 1.0000\n",
      "Epoch 9/10\n",
      "86/86 [==============================] - 1s 6ms/step - loss: 0.0418 - acc: 1.0000 - val_loss: 0.0416 - val_acc: 1.0000\n",
      "Epoch 10/10\n",
      "86/86 [==============================] - 1s 7ms/step - loss: 0.0409 - acc: 1.0000 - val_loss: 0.0405 - val_acc: 1.0000\n",
      "WARNING:tensorflow:Please add `keras.layers.InputLayer` instead of `keras.Input` to Sequential model. `keras.Input` is intended to be used by Functional model.\n"
     ]
    },
    {
     "data": {
      "image/png": "[encoded data removed]",
      "text/plain": [
       "<Figure size 432x288 with 2 Axes>"
      ]
     },
     "metadata": {
      "needs_background": "light"
     },
     "output_type": "display_data"
    }
   ],
   "source": [
    "sym_detector = symdet.GroupDetection(model, double_well_potential.clustered_data)\n",
    "point_cloud = sym_detector.run_symmetry_detection(plot=True)"
   ]
  },
  {
   "cell_type": "markdown",
   "metadata": {},
   "source": [
    "So now we can analyze our model! We see for the darker colours that there are always two distinct instances corresponding to the symmetry between these radial values. The duplication of these colours means that this is a symmetry group. The test now is to identify the radial values in these clusters and pass them to the generator extraction methods to characterize them."
   ]
  },
  {
   "cell_type": "code",
   "execution_count": 8,
   "metadata": {},
   "outputs": [
    {
     "data": {
      "text/plain": [
       "dict_keys([1.0, 2.0, 3.0, 4.0, 5.0])"
      ]
     },
     "execution_count": 8,
     "metadata": {},
     "output_type": "execute_result"
    }
   ],
   "source": [
    "point_cloud.keys()"
   ]
  },
  {
   "cell_type": "markdown",
   "metadata": {},
   "source": [
    "We see that the clustering has worked relatively well. This is where some caution is advised in terms of simply parsing this data along to the generator detection. If you see that one of these groups should likely not be in the set then it should be parsed along to the generator extraction stage. Alternatively, you can use a different approach for identifying the sets in the symmetry representation. In the next update we will parse this data to the generator extraction algorithm in order to get the generators of this detected symmetry group."
   ]
  }
 ],
 "metadata": {
  "kernelspec": {
   "display_name": "Python 3",
   "language": "python",
   "name": "python3"
  },
  "language_info": {
   "codemirror_mode": {
    "name": "ipython",
    "version": 3
   },
   "file_extension": ".py",
   "mimetype": "text/x-python",
   "name": "python",
   "nbconvert_exporter": "python",
   "pygments_lexer": "ipython3",
   "version": "3.8.5"
  }
 },
 "nbformat": 4,
 "nbformat_minor": 1
}
